{
 "cells": [
  {
   "cell_type": "code",
   "execution_count": 1,
   "id": "fb92ec3f",
   "metadata": {
    "_cell_guid": "b1076dfc-b9ad-4769-8c92-a6c4dae69d19",
    "_kg_hide-input": true,
    "_uuid": "8f2839f25d086af736a60e9eeb907d3b93b6e0e5",
    "execution": {
     "iopub.execute_input": "2021-11-23T02:17:13.600408Z",
     "iopub.status.busy": "2021-11-23T02:17:13.599375Z",
     "iopub.status.idle": "2021-11-23T02:17:13.615234Z",
     "shell.execute_reply": "2021-11-23T02:17:13.616196Z",
     "shell.execute_reply.started": "2021-11-23T01:58:03.410579Z"
    },
    "papermill": {
     "duration": 0.071662,
     "end_time": "2021-11-23T02:17:13.616724",
     "exception": false,
     "start_time": "2021-11-23T02:17:13.545062",
     "status": "completed"
    },
    "tags": []
   },
   "outputs": [
    {
     "name": "stdout",
     "output_type": "stream",
     "text": [
      "/kaggle/input/kaggle-survey-2019/survey_schema.csv\n",
      "/kaggle/input/kaggle-survey-2019/multiple_choice_responses.csv\n",
      "/kaggle/input/kaggle-survey-2019/other_text_responses.csv\n",
      "/kaggle/input/kaggle-survey-2019/questions_only.csv\n",
      "/kaggle/input/kaggle-survey-2021/kaggle_survey_2021_responses.csv\n",
      "/kaggle/input/kaggle-survey-2021/supplementary_data/kaggle_survey_2021_methodology.pdf\n",
      "/kaggle/input/kaggle-survey-2021/supplementary_data/kaggle_survey_2021_answer_choices.pdf\n"
     ]
    }
   ],
   "source": [
    "# This Python 3 environment comes with many helpful analytics libraries installed\n",
    "# It is defined by the kaggle/python Docker image: https://github.com/kaggle/docker-python\n",
    "# For example, here's several helpful packages to load\n",
    "\n",
    "import numpy as np # linear algebra\n",
    "import pandas as pd # data processing, CSV file I/O (e.g. pd.read_csv)\n",
    "\n",
    "# Input data files are available in the read-only \"../input/\" directory\n",
    "# For example, running this (by clicking run or pressing Shift+Enter) will list all files under the input directory\n",
    "\n",
    "import os\n",
    "for dirname, _, filenames in os.walk('/kaggle/input'):\n",
    "    for filename in filenames:\n",
    "        print(os.path.join(dirname, filename))\n",
    "\n",
    "# You can write up to 20GB to the current directory (/kaggle/working/) that gets preserved as output when you create a version using \"Save & Run All\" \n",
    "# You can also write temporary files to /kaggle/temp/, but they won't be saved outside of the current session"
   ]
  },
  {
   "cell_type": "markdown",
   "id": "361e8a57",
   "metadata": {
    "papermill": {
     "duration": 0.037829,
     "end_time": "2021-11-23T02:17:13.696654",
     "exception": false,
     "start_time": "2021-11-23T02:17:13.658825",
     "status": "completed"
    },
    "tags": []
   },
   "source": [
    " #  Introduce\n",
    "\n",
    "## 주제 \n",
    ">  * 중국과 일본의 캐글러 트렌드\n",
    "\n",
    "## 선정이유\n",
    "\n",
    ">  * 동아시아중 가장 큰 영향력을 행사\n",
    ">  * 비슷한 캐글러의 분포\n",
    "\n",
    "## 개요\n",
    ">  * 주제 중국 vs 일본 캐글러 최신 트렌드\n",
    ">  * 2019년도 자료와 2021년도 자료기반 비교"
   ]
  },
  {
   "cell_type": "markdown",
   "id": "72d33274",
   "metadata": {
    "papermill": {
     "duration": 0.033247,
     "end_time": "2021-11-23T02:17:13.762705",
     "exception": false,
     "start_time": "2021-11-23T02:17:13.729458",
     "status": "completed"
    },
    "tags": []
   },
   "source": [
    "#  DATA"
   ]
  },
  {
   "cell_type": "code",
   "execution_count": 2,
   "id": "d55e2f08",
   "metadata": {
    "_kg_hide-input": true,
    "execution": {
     "iopub.execute_input": "2021-11-23T02:17:13.832063Z",
     "iopub.status.busy": "2021-11-23T02:17:13.831329Z",
     "iopub.status.idle": "2021-11-23T02:17:17.711180Z",
     "shell.execute_reply": "2021-11-23T02:17:17.711722Z",
     "shell.execute_reply.started": "2021-11-23T01:58:03.448608Z"
    },
    "papermill": {
     "duration": 3.916393,
     "end_time": "2021-11-23T02:17:17.711948",
     "exception": false,
     "start_time": "2021-11-23T02:17:13.795555",
     "status": "completed"
    },
    "tags": []
   },
   "outputs": [
    {
     "data": {
      "text/html": [
       "        <script type=\"text/javascript\">\n",
       "        window.PlotlyConfig = {MathJaxConfig: 'local'};\n",
       "        if (window.MathJax) {MathJax.Hub.Config({SVG: {font: \"STIX-Web\"}});}\n",
       "        if (typeof require !== 'undefined') {\n",
       "        require.undef(\"plotly\");\n",
       "        requirejs.config({\n",
       "            paths: {\n",
       "                'plotly': ['https://cdn.plot.ly/plotly-2.4.2.min']\n",
       "            }\n",
       "        });\n",
       "        require(['plotly'], function(Plotly) {\n",
       "            window._Plotly = Plotly;\n",
       "        });\n",
       "        }\n",
       "        </script>\n",
       "        "
      ]
     },
     "metadata": {},
     "output_type": "display_data"
    },
    {
     "data": {
      "text/html": [
       "<div>\n",
       "<style scoped>\n",
       "    .dataframe tbody tr th:only-of-type {\n",
       "        vertical-align: middle;\n",
       "    }\n",
       "\n",
       "    .dataframe tbody tr th {\n",
       "        vertical-align: top;\n",
       "    }\n",
       "\n",
       "    .dataframe thead th {\n",
       "        text-align: right;\n",
       "    }\n",
       "</style>\n",
       "<table border=\"1\" class=\"dataframe\">\n",
       "  <thead>\n",
       "    <tr style=\"text-align: right;\">\n",
       "      <th></th>\n",
       "      <th>Time from Start to Finish (seconds)</th>\n",
       "      <th>Q1</th>\n",
       "      <th>Q2</th>\n",
       "      <th>Q3</th>\n",
       "      <th>Q4</th>\n",
       "      <th>Q5</th>\n",
       "      <th>Q6</th>\n",
       "      <th>Q7_Part_1</th>\n",
       "      <th>Q7_Part_2</th>\n",
       "      <th>Q7_Part_3</th>\n",
       "      <th>...</th>\n",
       "      <th>Q38_B_Part_3</th>\n",
       "      <th>Q38_B_Part_4</th>\n",
       "      <th>Q38_B_Part_5</th>\n",
       "      <th>Q38_B_Part_6</th>\n",
       "      <th>Q38_B_Part_7</th>\n",
       "      <th>Q38_B_Part_8</th>\n",
       "      <th>Q38_B_Part_9</th>\n",
       "      <th>Q38_B_Part_10</th>\n",
       "      <th>Q38_B_Part_11</th>\n",
       "      <th>Q38_B_OTHER</th>\n",
       "    </tr>\n",
       "  </thead>\n",
       "  <tbody>\n",
       "    <tr>\n",
       "      <th>0</th>\n",
       "      <td>Duration (in seconds)</td>\n",
       "      <td>What is your age (# years)?</td>\n",
       "      <td>What is your gender? - Selected Choice</td>\n",
       "      <td>In which country do you currently reside?</td>\n",
       "      <td>What is the highest level of formal education ...</td>\n",
       "      <td>Select the title most similar to your current ...</td>\n",
       "      <td>For how many years have you been writing code ...</td>\n",
       "      <td>What programming languages do you use on a reg...</td>\n",
       "      <td>What programming languages do you use on a reg...</td>\n",
       "      <td>What programming languages do you use on a reg...</td>\n",
       "      <td>...</td>\n",
       "      <td>In the next 2 years, do you hope to become mor...</td>\n",
       "      <td>In the next 2 years, do you hope to become mor...</td>\n",
       "      <td>In the next 2 years, do you hope to become mor...</td>\n",
       "      <td>In the next 2 years, do you hope to become mor...</td>\n",
       "      <td>In the next 2 years, do you hope to become mor...</td>\n",
       "      <td>In the next 2 years, do you hope to become mor...</td>\n",
       "      <td>In the next 2 years, do you hope to become mor...</td>\n",
       "      <td>In the next 2 years, do you hope to become mor...</td>\n",
       "      <td>In the next 2 years, do you hope to become mor...</td>\n",
       "      <td>In the next 2 years, do you hope to become mor...</td>\n",
       "    </tr>\n",
       "    <tr>\n",
       "      <th>1</th>\n",
       "      <td>910</td>\n",
       "      <td>50-54</td>\n",
       "      <td>Man</td>\n",
       "      <td>India</td>\n",
       "      <td>Bachelor’s degree</td>\n",
       "      <td>Other</td>\n",
       "      <td>5-10 years</td>\n",
       "      <td>Python</td>\n",
       "      <td>R</td>\n",
       "      <td>NaN</td>\n",
       "      <td>...</td>\n",
       "      <td>NaN</td>\n",
       "      <td>NaN</td>\n",
       "      <td>NaN</td>\n",
       "      <td>NaN</td>\n",
       "      <td>NaN</td>\n",
       "      <td>NaN</td>\n",
       "      <td>NaN</td>\n",
       "      <td>NaN</td>\n",
       "      <td>NaN</td>\n",
       "      <td>NaN</td>\n",
       "    </tr>\n",
       "    <tr>\n",
       "      <th>2</th>\n",
       "      <td>784</td>\n",
       "      <td>50-54</td>\n",
       "      <td>Man</td>\n",
       "      <td>Indonesia</td>\n",
       "      <td>Master’s degree</td>\n",
       "      <td>Program/Project Manager</td>\n",
       "      <td>20+ years</td>\n",
       "      <td>NaN</td>\n",
       "      <td>NaN</td>\n",
       "      <td>SQL</td>\n",
       "      <td>...</td>\n",
       "      <td>NaN</td>\n",
       "      <td>NaN</td>\n",
       "      <td>NaN</td>\n",
       "      <td>NaN</td>\n",
       "      <td>NaN</td>\n",
       "      <td>NaN</td>\n",
       "      <td>NaN</td>\n",
       "      <td>NaN</td>\n",
       "      <td>None</td>\n",
       "      <td>NaN</td>\n",
       "    </tr>\n",
       "    <tr>\n",
       "      <th>3</th>\n",
       "      <td>924</td>\n",
       "      <td>22-24</td>\n",
       "      <td>Man</td>\n",
       "      <td>Pakistan</td>\n",
       "      <td>Master’s degree</td>\n",
       "      <td>Software Engineer</td>\n",
       "      <td>1-3 years</td>\n",
       "      <td>Python</td>\n",
       "      <td>NaN</td>\n",
       "      <td>NaN</td>\n",
       "      <td>...</td>\n",
       "      <td>NaN</td>\n",
       "      <td>NaN</td>\n",
       "      <td>TensorBoard</td>\n",
       "      <td>NaN</td>\n",
       "      <td>NaN</td>\n",
       "      <td>NaN</td>\n",
       "      <td>NaN</td>\n",
       "      <td>NaN</td>\n",
       "      <td>NaN</td>\n",
       "      <td>NaN</td>\n",
       "    </tr>\n",
       "    <tr>\n",
       "      <th>4</th>\n",
       "      <td>575</td>\n",
       "      <td>45-49</td>\n",
       "      <td>Man</td>\n",
       "      <td>Mexico</td>\n",
       "      <td>Doctoral degree</td>\n",
       "      <td>Research Scientist</td>\n",
       "      <td>20+ years</td>\n",
       "      <td>Python</td>\n",
       "      <td>NaN</td>\n",
       "      <td>NaN</td>\n",
       "      <td>...</td>\n",
       "      <td>NaN</td>\n",
       "      <td>NaN</td>\n",
       "      <td>NaN</td>\n",
       "      <td>NaN</td>\n",
       "      <td>NaN</td>\n",
       "      <td>NaN</td>\n",
       "      <td>NaN</td>\n",
       "      <td>NaN</td>\n",
       "      <td>None</td>\n",
       "      <td>NaN</td>\n",
       "    </tr>\n",
       "  </tbody>\n",
       "</table>\n",
       "<p>5 rows × 369 columns</p>\n",
       "</div>"
      ],
      "text/plain": [
       "  Time from Start to Finish (seconds)                           Q1  \\\n",
       "0               Duration (in seconds)  What is your age (# years)?   \n",
       "1                                 910                        50-54   \n",
       "2                                 784                        50-54   \n",
       "3                                 924                        22-24   \n",
       "4                                 575                        45-49   \n",
       "\n",
       "                                       Q2  \\\n",
       "0  What is your gender? - Selected Choice   \n",
       "1                                     Man   \n",
       "2                                     Man   \n",
       "3                                     Man   \n",
       "4                                     Man   \n",
       "\n",
       "                                          Q3  \\\n",
       "0  In which country do you currently reside?   \n",
       "1                                      India   \n",
       "2                                  Indonesia   \n",
       "3                                   Pakistan   \n",
       "4                                     Mexico   \n",
       "\n",
       "                                                  Q4  \\\n",
       "0  What is the highest level of formal education ...   \n",
       "1                                  Bachelor’s degree   \n",
       "2                                    Master’s degree   \n",
       "3                                    Master’s degree   \n",
       "4                                    Doctoral degree   \n",
       "\n",
       "                                                  Q5  \\\n",
       "0  Select the title most similar to your current ...   \n",
       "1                                              Other   \n",
       "2                            Program/Project Manager   \n",
       "3                                  Software Engineer   \n",
       "4                                 Research Scientist   \n",
       "\n",
       "                                                  Q6  \\\n",
       "0  For how many years have you been writing code ...   \n",
       "1                                         5-10 years   \n",
       "2                                          20+ years   \n",
       "3                                          1-3 years   \n",
       "4                                          20+ years   \n",
       "\n",
       "                                           Q7_Part_1  \\\n",
       "0  What programming languages do you use on a reg...   \n",
       "1                                             Python   \n",
       "2                                                NaN   \n",
       "3                                             Python   \n",
       "4                                             Python   \n",
       "\n",
       "                                           Q7_Part_2  \\\n",
       "0  What programming languages do you use on a reg...   \n",
       "1                                                  R   \n",
       "2                                                NaN   \n",
       "3                                                NaN   \n",
       "4                                                NaN   \n",
       "\n",
       "                                           Q7_Part_3  ...  \\\n",
       "0  What programming languages do you use on a reg...  ...   \n",
       "1                                                NaN  ...   \n",
       "2                                                SQL  ...   \n",
       "3                                                NaN  ...   \n",
       "4                                                NaN  ...   \n",
       "\n",
       "                                        Q38_B_Part_3  \\\n",
       "0  In the next 2 years, do you hope to become mor...   \n",
       "1                                                NaN   \n",
       "2                                                NaN   \n",
       "3                                                NaN   \n",
       "4                                                NaN   \n",
       "\n",
       "                                        Q38_B_Part_4  \\\n",
       "0  In the next 2 years, do you hope to become mor...   \n",
       "1                                                NaN   \n",
       "2                                                NaN   \n",
       "3                                                NaN   \n",
       "4                                                NaN   \n",
       "\n",
       "                                        Q38_B_Part_5  \\\n",
       "0  In the next 2 years, do you hope to become mor...   \n",
       "1                                                NaN   \n",
       "2                                                NaN   \n",
       "3                                       TensorBoard    \n",
       "4                                                NaN   \n",
       "\n",
       "                                        Q38_B_Part_6  \\\n",
       "0  In the next 2 years, do you hope to become mor...   \n",
       "1                                                NaN   \n",
       "2                                                NaN   \n",
       "3                                                NaN   \n",
       "4                                                NaN   \n",
       "\n",
       "                                        Q38_B_Part_7  \\\n",
       "0  In the next 2 years, do you hope to become mor...   \n",
       "1                                                NaN   \n",
       "2                                                NaN   \n",
       "3                                                NaN   \n",
       "4                                                NaN   \n",
       "\n",
       "                                        Q38_B_Part_8  \\\n",
       "0  In the next 2 years, do you hope to become mor...   \n",
       "1                                                NaN   \n",
       "2                                                NaN   \n",
       "3                                                NaN   \n",
       "4                                                NaN   \n",
       "\n",
       "                                        Q38_B_Part_9  \\\n",
       "0  In the next 2 years, do you hope to become mor...   \n",
       "1                                                NaN   \n",
       "2                                                NaN   \n",
       "3                                                NaN   \n",
       "4                                                NaN   \n",
       "\n",
       "                                       Q38_B_Part_10  \\\n",
       "0  In the next 2 years, do you hope to become mor...   \n",
       "1                                                NaN   \n",
       "2                                                NaN   \n",
       "3                                                NaN   \n",
       "4                                                NaN   \n",
       "\n",
       "                                       Q38_B_Part_11  \\\n",
       "0  In the next 2 years, do you hope to become mor...   \n",
       "1                                                NaN   \n",
       "2                                               None   \n",
       "3                                                NaN   \n",
       "4                                               None   \n",
       "\n",
       "                                         Q38_B_OTHER  \n",
       "0  In the next 2 years, do you hope to become mor...  \n",
       "1                                                NaN  \n",
       "2                                                NaN  \n",
       "3                                                NaN  \n",
       "4                                                NaN  \n",
       "\n",
       "[5 rows x 369 columns]"
      ]
     },
     "execution_count": 2,
     "metadata": {},
     "output_type": "execute_result"
    }
   ],
   "source": [
    "import plotly.express as px\n",
    "import plotly.graph_objects as go\n",
    "from warnings import filterwarnings\n",
    "from plotly.subplots import make_subplots\n",
    "from plotly.offline import plot, iplot, init_notebook_mode\n",
    "init_notebook_mode(connected=True)\n",
    "filterwarnings('ignore')\n",
    "\n",
    "gen_colors = ['#4169E1','#B2182B','#81007F','#D1B2FF','#EFE4E2']\n",
    "JP_colors = ['#D90B0B','#F24444','#EFE4E2','#FCCE88','#64807F']\n",
    "CN_colors = ['#E0201B','#FFCE3F','#A63F03','#04BF33','#F2E6D8']\n",
    "coun_years_colors = ['#FDB0C0','#FFDB81','#FD4659','#FFAB0F']\n",
    "\n",
    "coun_years = ['2019_JP','2019_CN','2021_JP','2021_CN']\n",
    "\n",
    "\n",
    "df19 = pd.read_csv('../input/kaggle-survey-2019/multiple_choice_responses.csv')\n",
    "df21 = pd.read_csv('../input/kaggle-survey-2021/kaggle_survey_2021_responses.csv')\n",
    "\n",
    "df21.head()"
   ]
  },
  {
   "cell_type": "markdown",
   "id": "ce58b9e6",
   "metadata": {
    "papermill": {
     "duration": 0.034118,
     "end_time": "2021-11-23T02:17:17.783260",
     "exception": false,
     "start_time": "2021-11-23T02:17:17.749142",
     "status": "completed"
    },
    "tags": []
   },
   "source": [
    "* 19년도 자료와 21년도 자료를 기반으로 데이터셋 \n",
    "* 2019년일본 ,2021년일본 , 2019년중국 , 2021년중국으로 분류"
   ]
  },
  {
   "cell_type": "markdown",
   "id": "a747be4f",
   "metadata": {
    "papermill": {
     "duration": 0.034201,
     "end_time": "2021-11-23T02:17:17.852182",
     "exception": false,
     "start_time": "2021-11-23T02:17:17.817981",
     "status": "completed"
    },
    "tags": []
   },
   "source": [
    "## DATA FRAME SET"
   ]
  },
  {
   "cell_type": "code",
   "execution_count": 3,
   "id": "4982b278",
   "metadata": {
    "_kg_hide-input": true,
    "execution": {
     "iopub.execute_input": "2021-11-23T02:17:17.940483Z",
     "iopub.status.busy": "2021-11-23T02:17:17.929499Z",
     "iopub.status.idle": "2021-11-23T02:17:18.267328Z",
     "shell.execute_reply": "2021-11-23T02:17:18.266655Z",
     "shell.execute_reply.started": "2021-11-23T01:58:07.380496Z"
    },
    "jupyter": {
     "source_hidden": true
    },
    "papermill": {
     "duration": 0.381165,
     "end_time": "2021-11-23T02:17:18.267518",
     "exception": false,
     "start_time": "2021-11-23T02:17:17.886353",
     "status": "completed"
    },
    "tags": []
   },
   "outputs": [],
   "source": [
    "# define\n",
    "def group(data, country, question_num):\n",
    "    return data[data['Q3'] == country][question_num].value_counts()\n",
    "\n",
    "\n",
    "def go_Pie(country, label_value):\n",
    "    return go.Pie(title = country,\n",
    "                  labels = label_value.index,\n",
    "                  values = label_value.values,\n",
    "                  textinfo = 'label+percent',\n",
    "                  rotation=315,\n",
    "                  hole = .3,)\n",
    "\n",
    "# -----------------------------------------------------------\n",
    "\n",
    "# Q1\n",
    "JP_age_19 = group(df19,'Japan','Q1').sort_index()\n",
    "\n",
    "JP_age_21 = group(df21,'Japan','Q1').sort_index()\n",
    "\n",
    "CN_age_19 = group(df19,'China','Q1')\n",
    "CN_age_19.loc['55-59'] = 0\n",
    "CN_age_19.loc['60-69'] = 0\n",
    "CN_age_19 = CN_age_19.sort_index()\n",
    "\n",
    "CN_age_21 = group(df21,'China','Q1')\n",
    "CN_age_21.loc['60-69'] = 0\n",
    "CN_age_21 = CN_age_21.sort_index()\n",
    "\n",
    "# -----------------------------------------------------------\n",
    "\n",
    "# Q3\n",
    "JP_ndarray = df19[df19['Q3'] == 'Japan']['Q2'].values\n",
    "CN_ndarray = df19[df19['Q3'] == 'China']['Q2'].values\n",
    "JP_age_list = [] # 'Male'을 'Man'으로 바꿔담을 빈 리스트 생성\n",
    "CN_age_list = []\n",
    "\n",
    "for item in JP_ndarray:\n",
    "    if item == 'Male':\n",
    "        # 문자열 치환\n",
    "        item_mod = item.replace('Male','Man')\n",
    "        # 새로운 리스트에 추가\n",
    "        JP_age_list.append(item_mod)\n",
    "    elif item == 'Female':\n",
    "        item_mod2 = item.replace('Female','Woman')\n",
    "        JP_age_list.append(item_mod2)\n",
    "    else :\n",
    "        JP_age_list.append(item)\n",
    "\n",
    "for item in CN_ndarray:\n",
    "    if item == 'Male':\n",
    "        # 문자열 치환\n",
    "        item_mod = item.replace('Male','Man')\n",
    "        # 새로운 리스트에 추가\n",
    "        CN_age_list.append(item_mod)\n",
    "    elif item == 'Female':\n",
    "        item_mod2 = item.replace('Female','Woman')\n",
    "        CN_age_list.append(item_mod2)\n",
    "    else :\n",
    "        CN_age_list.append(item)\n",
    "\n",
    "JP_age_series = pd.Series(JP_age_list)\n",
    "CN_age_series = pd.Series(CN_age_list)\n",
    "\n",
    "\n",
    "years = ['2019', '2021']\n",
    "JP_country_count_19 = (df19[df19['Q3'] == 'Japan']['Q3']).count()\n",
    "CN_country_count_19 = (df19[df19['Q3'] == 'China']['Q3']).count()\n",
    "JP_country_count_21 = (df21[df21['Q3'] == 'Japan']['Q3']).count()\n",
    "CN_country_count_21 = (df21[df21['Q3'] == 'China']['Q3']).count()\n",
    "\n",
    "JP_country_count_19_21 = [JP_country_count_19, JP_country_count_21]\n",
    "CN_country_count_19_21 = [CN_country_count_19, CN_country_count_21]\n",
    "\n",
    "# -----------------------------------------------------------\n",
    "\n",
    "# Q14\n",
    "df19_JP = df19[df19.Q3.isin(['Japan'])]\n",
    "df19_CN = df19[df19.Q3.isin(['China'])]\n",
    "df21_JP = df21[df21.Q3.isin(['Japan'])]\n",
    "df21_CN = df21[df21.Q3.isin(['China'])]\n",
    "df19_JP_Q14 = pd.DataFrame()\n",
    "df19_CN_Q14 = pd.DataFrame()\n",
    "df21_JP_Q14 = pd.DataFrame()\n",
    "df21_CN_Q14 = pd.DataFrame()\n",
    "df19_JP_Q14['Q20'] = [df19_JP[col][1:].value_counts().index[0] for col in df19_JP.columns[97:109]]\n",
    "df19_CN_Q14['Q20'] = [df19_CN[col][1:].value_counts().index[0] for col in df19_CN.columns[97:109]]\n",
    "df21_JP_Q14['Q14'] = [df21_JP[col][1:].value_counts().index[0] for col in df21_JP.columns[59:71]]\n",
    "df21_CN_Q14['Q14'] = [df21_CN[col][1:].value_counts().index[0] for col in df21_CN.columns[59:71]]\n",
    "df19_JP_Q14['counts'] = [df19_JP[col][1:].value_counts().values[0] for col in df19_JP.columns[97:109]]\n",
    "df19_CN_Q14['counts'] = [df19_CN[col][1:].value_counts().values[0] for col in df19_CN.columns[97:109]]\n",
    "df21_JP_Q14['counts'] = [df21_JP[col][1:].value_counts().values[0] for col in df21_JP.columns[59:71]]\n",
    "df21_CN_Q14['counts'] = [df21_CN[col][1:].value_counts().values[0] for col in df21_CN.columns[59:71]]\n",
    "\n",
    "\n",
    "df19_JP_Q14.index = [3,0,6,4,5,2,7,1,8,9,10,11]\n",
    "df19_CN_Q14.index = [3,0,6,4,5,2,7,1,8,9,10,11]\n",
    "df19_JP_Q14 = df19_JP_Q14.sort_index()\n",
    "df19_CN_Q14 = df19_CN_Q14.sort_index()\n",
    "df21_JP_Q14['Q14'].index = [0,1,2,3,4,5,6,7,8,9,10,11]\n",
    "df21_CN_Q14['Q14'].index = [0,1,2,3,4,5,6,7,8,9,10,11]\n",
    "df19_JP_Q14.replace(regex = 'D3.js', value = 'D3 js', inplace = True)\n",
    "df19_CN_Q14.replace(regex = 'D3.js', value = 'D3 js', inplace = True)\n",
    "\n",
    "# Q16\n",
    "df19_JP_Q16 = pd.DataFrame()\n",
    "df19_CN_Q16 = pd.DataFrame()\n",
    "df21_JP_Q16 = pd.DataFrame()\n",
    "df21_CN_Q16 = pd.DataFrame()\n",
    "df19_JP_Q16['Q28'] = [df19_JP[col][1:].value_counts().index[0] for col in df19_JP.columns[155:166]]\n",
    "df19_CN_Q16['Q28'] = [df19_CN[col][1:].value_counts().index[0] for col in df19_CN.columns[155:166]]\n",
    "df21_JP_Q16['Q16'] = [df21_JP[col][1:].value_counts().index[0] for col in df21_JP.columns[72:89]]\n",
    "df21_CN_Q16['Q16'] = [df21_CN[col][1:].value_counts().index[0] for col in df21_CN.columns[72:89]]\n",
    "df19_JP_Q16['counts'] = [df19_JP[col][1:].value_counts().values[0] for col in df19_JP.columns[155:166]]\n",
    "df19_CN_Q16['counts'] = [df19_CN[col][1:].value_counts().values[0] for col in df19_CN.columns[155:166]]\n",
    "df21_JP_Q16['counts'] = [df21_JP[col][1:].value_counts().values[0] for col in df21_JP.columns[72:89]]\n",
    "df21_CN_Q16['counts'] = [df21_CN[col][1:].value_counts().values[0] for col in df21_CN.columns[72:89]]\n",
    "df19_JP_Q16 = df19_JP_Q16.sort_index()\n",
    "df19_CN_Q16 = df19_CN_Q16.sort_index()"
   ]
  },
  {
   "cell_type": "markdown",
   "id": "bb14a29e",
   "metadata": {
    "papermill": {
     "duration": 0.034275,
     "end_time": "2021-11-23T02:17:18.338703",
     "exception": false,
     "start_time": "2021-11-23T02:17:18.304428",
     "status": "completed"
    },
    "tags": []
   },
   "source": [
    "> # What is your age?"
   ]
  },
  {
   "cell_type": "code",
   "execution_count": 4,
   "id": "d1e17a75",
   "metadata": {
    "_kg_hide-input": true,
    "execution": {
     "iopub.execute_input": "2021-11-23T02:17:18.416062Z",
     "iopub.status.busy": "2021-11-23T02:17:18.415300Z",
     "iopub.status.idle": "2021-11-23T02:17:18.680524Z",
     "shell.execute_reply": "2021-11-23T02:17:18.681065Z",
     "shell.execute_reply.started": "2021-11-23T01:58:07.727741Z"
    },
    "papermill": {
     "duration": 0.308262,
     "end_time": "2021-11-23T02:17:18.681239",
     "exception": false,
     "start_time": "2021-11-23T02:17:18.372977",
     "status": "completed"
    },
    "tags": []
   },
   "outputs": [
    {
     "data": {
      "application/vnd.plotly.v1+json": {
       "config": {
        "plotlyServerURL": "https://plot.ly"
       },
       "data": [
        {
         "marker": {
          "color": "#FDB0C0"
         },
         "name": "2019_JP",
         "type": "bar",
         "x": [
          "18-21",
          "22-24",
          "25-29",
          "30-34",
          "35-39",
          "40-44",
          "45-49",
          "50-54",
          "55-59",
          "60-69",
          "70+"
         ],
         "xaxis": "x",
         "y": [
          30,
          82,
          154,
          125,
          87,
          66,
          56,
          35,
          20,
          17,
          1
         ],
         "yaxis": "y"
        },
        {
         "marker": {
          "color": "#FD4659"
         },
         "name": "2021_JP",
         "type": "bar",
         "x": [
          "18-21",
          "22-24",
          "25-29",
          "30-34",
          "35-39",
          "40-44",
          "45-49",
          "50-54",
          "55-59",
          "60-69",
          "70+"
         ],
         "xaxis": "x",
         "y": [
          64,
          93,
          169,
          140,
          99,
          95,
          92,
          61,
          50,
          49,
          9
         ],
         "yaxis": "y"
        },
        {
         "marker": {
          "color": "#FFDB81"
         },
         "name": "2019_CN",
         "type": "bar",
         "x": [
          "18-21",
          "22-24",
          "25-29",
          "30-34",
          "35-39",
          "40-44",
          "45-49",
          "50-54",
          "55-59",
          "60-69",
          "70+"
         ],
         "xaxis": "x2",
         "y": [
          93,
          201,
          161,
          63,
          28,
          18,
          5,
          4,
          0,
          0,
          1
         ],
         "yaxis": "y2"
        },
        {
         "marker": {
          "color": "#FFAB0F"
         },
         "name": "2021_CN",
         "type": "bar",
         "x": [
          "18-21",
          "22-24",
          "25-29",
          "30-34",
          "35-39",
          "40-44",
          "45-49",
          "50-54",
          "55-59",
          "60-69",
          "70+"
         ],
         "xaxis": "x2",
         "y": [
          206,
          275,
          159,
          109,
          39,
          14,
          8,
          1,
          2,
          0,
          1
         ],
         "yaxis": "y2"
        }
       ],
       "layout": {
        "barmode": "group",
        "showlegend": true,
        "template": {
         "data": {
          "bar": [
           {
            "error_x": {
             "color": "#2a3f5f"
            },
            "error_y": {
             "color": "#2a3f5f"
            },
            "marker": {
             "line": {
              "color": "#E5ECF6",
              "width": 0.5
             },
             "pattern": {
              "fillmode": "overlay",
              "size": 10,
              "solidity": 0.2
             }
            },
            "type": "bar"
           }
          ],
          "barpolar": [
           {
            "marker": {
             "line": {
              "color": "#E5ECF6",
              "width": 0.5
             },
             "pattern": {
              "fillmode": "overlay",
              "size": 10,
              "solidity": 0.2
             }
            },
            "type": "barpolar"
           }
          ],
          "carpet": [
           {
            "aaxis": {
             "endlinecolor": "#2a3f5f",
             "gridcolor": "white",
             "linecolor": "white",
             "minorgridcolor": "white",
             "startlinecolor": "#2a3f5f"
            },
            "baxis": {
             "endlinecolor": "#2a3f5f",
             "gridcolor": "white",
             "linecolor": "white",
             "minorgridcolor": "white",
             "startlinecolor": "#2a3f5f"
            },
            "type": "carpet"
           }
          ],
          "choropleth": [
           {
            "colorbar": {
             "outlinewidth": 0,
             "ticks": ""
            },
            "type": "choropleth"
           }
          ],
          "contour": [
           {
            "colorbar": {
             "outlinewidth": 0,
             "ticks": ""
            },
            "colorscale": [
             [
              0.0,
              "#0d0887"
             ],
             [
              0.1111111111111111,
              "#46039f"
             ],
             [
              0.2222222222222222,
              "#7201a8"
             ],
             [
              0.3333333333333333,
              "#9c179e"
             ],
             [
              0.4444444444444444,
              "#bd3786"
             ],
             [
              0.5555555555555556,
              "#d8576b"
             ],
             [
              0.6666666666666666,
              "#ed7953"
             ],
             [
              0.7777777777777778,
              "#fb9f3a"
             ],
             [
              0.8888888888888888,
              "#fdca26"
             ],
             [
              1.0,
              "#f0f921"
             ]
            ],
            "type": "contour"
           }
          ],
          "contourcarpet": [
           {
            "colorbar": {
             "outlinewidth": 0,
             "ticks": ""
            },
            "type": "contourcarpet"
           }
          ],
          "heatmap": [
           {
            "colorbar": {
             "outlinewidth": 0,
             "ticks": ""
            },
            "colorscale": [
             [
              0.0,
              "#0d0887"
             ],
             [
              0.1111111111111111,
              "#46039f"
             ],
             [
              0.2222222222222222,
              "#7201a8"
             ],
             [
              0.3333333333333333,
              "#9c179e"
             ],
             [
              0.4444444444444444,
              "#bd3786"
             ],
             [
              0.5555555555555556,
              "#d8576b"
             ],
             [
              0.6666666666666666,
              "#ed7953"
             ],
             [
              0.7777777777777778,
              "#fb9f3a"
             ],
             [
              0.8888888888888888,
              "#fdca26"
             ],
             [
              1.0,
              "#f0f921"
             ]
            ],
            "type": "heatmap"
           }
          ],
          "heatmapgl": [
           {
            "colorbar": {
             "outlinewidth": 0,
             "ticks": ""
            },
            "colorscale": [
             [
              0.0,
              "#0d0887"
             ],
             [
              0.1111111111111111,
              "#46039f"
             ],
             [
              0.2222222222222222,
              "#7201a8"
             ],
             [
              0.3333333333333333,
              "#9c179e"
             ],
             [
              0.4444444444444444,
              "#bd3786"
             ],
             [
              0.5555555555555556,
              "#d8576b"
             ],
             [
              0.6666666666666666,
              "#ed7953"
             ],
             [
              0.7777777777777778,
              "#fb9f3a"
             ],
             [
              0.8888888888888888,
              "#fdca26"
             ],
             [
              1.0,
              "#f0f921"
             ]
            ],
            "type": "heatmapgl"
           }
          ],
          "histogram": [
           {
            "marker": {
             "pattern": {
              "fillmode": "overlay",
              "size": 10,
              "solidity": 0.2
             }
            },
            "type": "histogram"
           }
          ],
          "histogram2d": [
           {
            "colorbar": {
             "outlinewidth": 0,
             "ticks": ""
            },
            "colorscale": [
             [
              0.0,
              "#0d0887"
             ],
             [
              0.1111111111111111,
              "#46039f"
             ],
             [
              0.2222222222222222,
              "#7201a8"
             ],
             [
              0.3333333333333333,
              "#9c179e"
             ],
             [
              0.4444444444444444,
              "#bd3786"
             ],
             [
              0.5555555555555556,
              "#d8576b"
             ],
             [
              0.6666666666666666,
              "#ed7953"
             ],
             [
              0.7777777777777778,
              "#fb9f3a"
             ],
             [
              0.8888888888888888,
              "#fdca26"
             ],
             [
              1.0,
              "#f0f921"
             ]
            ],
            "type": "histogram2d"
           }
          ],
          "histogram2dcontour": [
           {
            "colorbar": {
             "outlinewidth": 0,
             "ticks": ""
            },
            "colorscale": [
             [
              0.0,
              "#0d0887"
             ],
             [
              0.1111111111111111,
              "#46039f"
             ],
             [
              0.2222222222222222,
              "#7201a8"
             ],
             [
              0.3333333333333333,
              "#9c179e"
             ],
             [
              0.4444444444444444,
              "#bd3786"
             ],
             [
              0.5555555555555556,
              "#d8576b"
             ],
             [
              0.6666666666666666,
              "#ed7953"
             ],
             [
              0.7777777777777778,
              "#fb9f3a"
             ],
             [
              0.8888888888888888,
              "#fdca26"
             ],
             [
              1.0,
              "#f0f921"
             ]
            ],
            "type": "histogram2dcontour"
           }
          ],
          "mesh3d": [
           {
            "colorbar": {
             "outlinewidth": 0,
             "ticks": ""
            },
            "type": "mesh3d"
           }
          ],
          "parcoords": [
           {
            "line": {
             "colorbar": {
              "outlinewidth": 0,
              "ticks": ""
             }
            },
            "type": "parcoords"
           }
          ],
          "pie": [
           {
            "automargin": true,
            "type": "pie"
           }
          ],
          "scatter": [
           {
            "marker": {
             "colorbar": {
              "outlinewidth": 0,
              "ticks": ""
             }
            },
            "type": "scatter"
           }
          ],
          "scatter3d": [
           {
            "line": {
             "colorbar": {
              "outlinewidth": 0,
              "ticks": ""
             }
            },
            "marker": {
             "colorbar": {
              "outlinewidth": 0,
              "ticks": ""
             }
            },
            "type": "scatter3d"
           }
          ],
          "scattercarpet": [
           {
            "marker": {
             "colorbar": {
              "outlinewidth": 0,
              "ticks": ""
             }
            },
            "type": "scattercarpet"
           }
          ],
          "scattergeo": [
           {
            "marker": {
             "colorbar": {
              "outlinewidth": 0,
              "ticks": ""
             }
            },
            "type": "scattergeo"
           }
          ],
          "scattergl": [
           {
            "marker": {
             "colorbar": {
              "outlinewidth": 0,
              "ticks": ""
             }
            },
            "type": "scattergl"
           }
          ],
          "scattermapbox": [
           {
            "marker": {
             "colorbar": {
              "outlinewidth": 0,
              "ticks": ""
             }
            },
            "type": "scattermapbox"
           }
          ],
          "scatterpolar": [
           {
            "marker": {
             "colorbar": {
              "outlinewidth": 0,
              "ticks": ""
             }
            },
            "type": "scatterpolar"
           }
          ],
          "scatterpolargl": [
           {
            "marker": {
             "colorbar": {
              "outlinewidth": 0,
              "ticks": ""
             }
            },
            "type": "scatterpolargl"
           }
          ],
          "scatterternary": [
           {
            "marker": {
             "colorbar": {
              "outlinewidth": 0,
              "ticks": ""
             }
            },
            "type": "scatterternary"
           }
          ],
          "surface": [
           {
            "colorbar": {
             "outlinewidth": 0,
             "ticks": ""
            },
            "colorscale": [
             [
              0.0,
              "#0d0887"
             ],
             [
              0.1111111111111111,
              "#46039f"
             ],
             [
              0.2222222222222222,
              "#7201a8"
             ],
             [
              0.3333333333333333,
              "#9c179e"
             ],
             [
              0.4444444444444444,
              "#bd3786"
             ],
             [
              0.5555555555555556,
              "#d8576b"
             ],
             [
              0.6666666666666666,
              "#ed7953"
             ],
             [
              0.7777777777777778,
              "#fb9f3a"
             ],
             [
              0.8888888888888888,
              "#fdca26"
             ],
             [
              1.0,
              "#f0f921"
             ]
            ],
            "type": "surface"
           }
          ],
          "table": [
           {
            "cells": {
             "fill": {
              "color": "#EBF0F8"
             },
             "line": {
              "color": "white"
             }
            },
            "header": {
             "fill": {
              "color": "#C8D4E3"
             },
             "line": {
              "color": "white"
             }
            },
            "type": "table"
           }
          ]
         },
         "layout": {
          "annotationdefaults": {
           "arrowcolor": "#2a3f5f",
           "arrowhead": 0,
           "arrowwidth": 1
          },
          "autotypenumbers": "strict",
          "coloraxis": {
           "colorbar": {
            "outlinewidth": 0,
            "ticks": ""
           }
          },
          "colorscale": {
           "diverging": [
            [
             0,
             "#8e0152"
            ],
            [
             0.1,
             "#c51b7d"
            ],
            [
             0.2,
             "#de77ae"
            ],
            [
             0.3,
             "#f1b6da"
            ],
            [
             0.4,
             "#fde0ef"
            ],
            [
             0.5,
             "#f7f7f7"
            ],
            [
             0.6,
             "#e6f5d0"
            ],
            [
             0.7,
             "#b8e186"
            ],
            [
             0.8,
             "#7fbc41"
            ],
            [
             0.9,
             "#4d9221"
            ],
            [
             1,
             "#276419"
            ]
           ],
           "sequential": [
            [
             0.0,
             "#0d0887"
            ],
            [
             0.1111111111111111,
             "#46039f"
            ],
            [
             0.2222222222222222,
             "#7201a8"
            ],
            [
             0.3333333333333333,
             "#9c179e"
            ],
            [
             0.4444444444444444,
             "#bd3786"
            ],
            [
             0.5555555555555556,
             "#d8576b"
            ],
            [
             0.6666666666666666,
             "#ed7953"
            ],
            [
             0.7777777777777778,
             "#fb9f3a"
            ],
            [
             0.8888888888888888,
             "#fdca26"
            ],
            [
             1.0,
             "#f0f921"
            ]
           ],
           "sequentialminus": [
            [
             0.0,
             "#0d0887"
            ],
            [
             0.1111111111111111,
             "#46039f"
            ],
            [
             0.2222222222222222,
             "#7201a8"
            ],
            [
             0.3333333333333333,
             "#9c179e"
            ],
            [
             0.4444444444444444,
             "#bd3786"
            ],
            [
             0.5555555555555556,
             "#d8576b"
            ],
            [
             0.6666666666666666,
             "#ed7953"
            ],
            [
             0.7777777777777778,
             "#fb9f3a"
            ],
            [
             0.8888888888888888,
             "#fdca26"
            ],
            [
             1.0,
             "#f0f921"
            ]
           ]
          },
          "colorway": [
           "#636efa",
           "#EF553B",
           "#00cc96",
           "#ab63fa",
           "#FFA15A",
           "#19d3f3",
           "#FF6692",
           "#B6E880",
           "#FF97FF",
           "#FECB52"
          ],
          "font": {
           "color": "#2a3f5f"
          },
          "geo": {
           "bgcolor": "white",
           "lakecolor": "white",
           "landcolor": "#E5ECF6",
           "showlakes": true,
           "showland": true,
           "subunitcolor": "white"
          },
          "hoverlabel": {
           "align": "left"
          },
          "hovermode": "closest",
          "mapbox": {
           "style": "light"
          },
          "paper_bgcolor": "white",
          "plot_bgcolor": "#E5ECF6",
          "polar": {
           "angularaxis": {
            "gridcolor": "white",
            "linecolor": "white",
            "ticks": ""
           },
           "bgcolor": "#E5ECF6",
           "radialaxis": {
            "gridcolor": "white",
            "linecolor": "white",
            "ticks": ""
           }
          },
          "scene": {
           "xaxis": {
            "backgroundcolor": "#E5ECF6",
            "gridcolor": "white",
            "gridwidth": 2,
            "linecolor": "white",
            "showbackground": true,
            "ticks": "",
            "zerolinecolor": "white"
           },
           "yaxis": {
            "backgroundcolor": "#E5ECF6",
            "gridcolor": "white",
            "gridwidth": 2,
            "linecolor": "white",
            "showbackground": true,
            "ticks": "",
            "zerolinecolor": "white"
           },
           "zaxis": {
            "backgroundcolor": "#E5ECF6",
            "gridcolor": "white",
            "gridwidth": 2,
            "linecolor": "white",
            "showbackground": true,
            "ticks": "",
            "zerolinecolor": "white"
           }
          },
          "shapedefaults": {
           "line": {
            "color": "#2a3f5f"
           }
          },
          "ternary": {
           "aaxis": {
            "gridcolor": "white",
            "linecolor": "white",
            "ticks": ""
           },
           "baxis": {
            "gridcolor": "white",
            "linecolor": "white",
            "ticks": ""
           },
           "bgcolor": "#E5ECF6",
           "caxis": {
            "gridcolor": "white",
            "linecolor": "white",
            "ticks": ""
           }
          },
          "title": {
           "x": 0.05
          },
          "xaxis": {
           "automargin": true,
           "gridcolor": "white",
           "linecolor": "white",
           "ticks": "",
           "title": {
            "standoff": 15
           },
           "zerolinecolor": "white",
           "zerolinewidth": 2
          },
          "yaxis": {
           "automargin": true,
           "gridcolor": "white",
           "linecolor": "white",
           "ticks": "",
           "title": {
            "standoff": 15
           },
           "zerolinecolor": "white",
           "zerolinewidth": 2
          }
         }
        },
        "title": {
         "text": "2019 & 2021, Japan and China age distribution"
        },
        "xaxis": {
         "anchor": "y",
         "domain": [
          0.0,
          0.45
         ],
         "title": {
          "text": "Japan Age distribution"
         }
        },
        "xaxis2": {
         "anchor": "y2",
         "domain": [
          0.55,
          1.0
         ],
         "title": {
          "text": "China Age distribution"
         }
        },
        "yaxis": {
         "anchor": "x",
         "domain": [
          0.0,
          1.0
         ],
         "title": {
          "text": "Counts"
         }
        },
        "yaxis2": {
         "anchor": "x2",
         "domain": [
          0.0,
          1.0
         ],
         "title": {
          "text": "Counts"
         }
        }
       }
      },
      "text/html": [
       "<div>                            <div id=\"dfa1744d-2545-41cc-805d-c5ab25f396e0\" class=\"plotly-graph-div\" style=\"height:525px; width:100%;\"></div>            <script type=\"text/javascript\">                require([\"plotly\"], function(Plotly) {                    window.PLOTLYENV=window.PLOTLYENV || {};                                    if (document.getElementById(\"dfa1744d-2545-41cc-805d-c5ab25f396e0\")) {                    Plotly.newPlot(                        \"dfa1744d-2545-41cc-805d-c5ab25f396e0\",                        [{\"marker\":{\"color\":\"#FDB0C0\"},\"name\":\"2019_JP\",\"type\":\"bar\",\"x\":[\"18-21\",\"22-24\",\"25-29\",\"30-34\",\"35-39\",\"40-44\",\"45-49\",\"50-54\",\"55-59\",\"60-69\",\"70+\"],\"xaxis\":\"x\",\"y\":[30,82,154,125,87,66,56,35,20,17,1],\"yaxis\":\"y\"},{\"marker\":{\"color\":\"#FD4659\"},\"name\":\"2021_JP\",\"type\":\"bar\",\"x\":[\"18-21\",\"22-24\",\"25-29\",\"30-34\",\"35-39\",\"40-44\",\"45-49\",\"50-54\",\"55-59\",\"60-69\",\"70+\"],\"xaxis\":\"x\",\"y\":[64,93,169,140,99,95,92,61,50,49,9],\"yaxis\":\"y\"},{\"marker\":{\"color\":\"#FFDB81\"},\"name\":\"2019_CN\",\"type\":\"bar\",\"x\":[\"18-21\",\"22-24\",\"25-29\",\"30-34\",\"35-39\",\"40-44\",\"45-49\",\"50-54\",\"55-59\",\"60-69\",\"70+\"],\"xaxis\":\"x2\",\"y\":[93,201,161,63,28,18,5,4,0,0,1],\"yaxis\":\"y2\"},{\"marker\":{\"color\":\"#FFAB0F\"},\"name\":\"2021_CN\",\"type\":\"bar\",\"x\":[\"18-21\",\"22-24\",\"25-29\",\"30-34\",\"35-39\",\"40-44\",\"45-49\",\"50-54\",\"55-59\",\"60-69\",\"70+\"],\"xaxis\":\"x2\",\"y\":[206,275,159,109,39,14,8,1,2,0,1],\"yaxis\":\"y2\"}],                        {\"barmode\":\"group\",\"showlegend\":true,\"template\":{\"data\":{\"bar\":[{\"error_x\":{\"color\":\"#2a3f5f\"},\"error_y\":{\"color\":\"#2a3f5f\"},\"marker\":{\"line\":{\"color\":\"#E5ECF6\",\"width\":0.5},\"pattern\":{\"fillmode\":\"overlay\",\"size\":10,\"solidity\":0.2}},\"type\":\"bar\"}],\"barpolar\":[{\"marker\":{\"line\":{\"color\":\"#E5ECF6\",\"width\":0.5},\"pattern\":{\"fillmode\":\"overlay\",\"size\":10,\"solidity\":0.2}},\"type\":\"barpolar\"}],\"carpet\":[{\"aaxis\":{\"endlinecolor\":\"#2a3f5f\",\"gridcolor\":\"white\",\"linecolor\":\"white\",\"minorgridcolor\":\"white\",\"startlinecolor\":\"#2a3f5f\"},\"baxis\":{\"endlinecolor\":\"#2a3f5f\",\"gridcolor\":\"white\",\"linecolor\":\"white\",\"minorgridcolor\":\"white\",\"startlinecolor\":\"#2a3f5f\"},\"type\":\"carpet\"}],\"choropleth\":[{\"colorbar\":{\"outlinewidth\":0,\"ticks\":\"\"},\"type\":\"choropleth\"}],\"contour\":[{\"colorbar\":{\"outlinewidth\":0,\"ticks\":\"\"},\"colorscale\":[[0.0,\"#0d0887\"],[0.1111111111111111,\"#46039f\"],[0.2222222222222222,\"#7201a8\"],[0.3333333333333333,\"#9c179e\"],[0.4444444444444444,\"#bd3786\"],[0.5555555555555556,\"#d8576b\"],[0.6666666666666666,\"#ed7953\"],[0.7777777777777778,\"#fb9f3a\"],[0.8888888888888888,\"#fdca26\"],[1.0,\"#f0f921\"]],\"type\":\"contour\"}],\"contourcarpet\":[{\"colorbar\":{\"outlinewidth\":0,\"ticks\":\"\"},\"type\":\"contourcarpet\"}],\"heatmap\":[{\"colorbar\":{\"outlinewidth\":0,\"ticks\":\"\"},\"colorscale\":[[0.0,\"#0d0887\"],[0.1111111111111111,\"#46039f\"],[0.2222222222222222,\"#7201a8\"],[0.3333333333333333,\"#9c179e\"],[0.4444444444444444,\"#bd3786\"],[0.5555555555555556,\"#d8576b\"],[0.6666666666666666,\"#ed7953\"],[0.7777777777777778,\"#fb9f3a\"],[0.8888888888888888,\"#fdca26\"],[1.0,\"#f0f921\"]],\"type\":\"heatmap\"}],\"heatmapgl\":[{\"colorbar\":{\"outlinewidth\":0,\"ticks\":\"\"},\"colorscale\":[[0.0,\"#0d0887\"],[0.1111111111111111,\"#46039f\"],[0.2222222222222222,\"#7201a8\"],[0.3333333333333333,\"#9c179e\"],[0.4444444444444444,\"#bd3786\"],[0.5555555555555556,\"#d8576b\"],[0.6666666666666666,\"#ed7953\"],[0.7777777777777778,\"#fb9f3a\"],[0.8888888888888888,\"#fdca26\"],[1.0,\"#f0f921\"]],\"type\":\"heatmapgl\"}],\"histogram\":[{\"marker\":{\"pattern\":{\"fillmode\":\"overlay\",\"size\":10,\"solidity\":0.2}},\"type\":\"histogram\"}],\"histogram2d\":[{\"colorbar\":{\"outlinewidth\":0,\"ticks\":\"\"},\"colorscale\":[[0.0,\"#0d0887\"],[0.1111111111111111,\"#46039f\"],[0.2222222222222222,\"#7201a8\"],[0.3333333333333333,\"#9c179e\"],[0.4444444444444444,\"#bd3786\"],[0.5555555555555556,\"#d8576b\"],[0.6666666666666666,\"#ed7953\"],[0.7777777777777778,\"#fb9f3a\"],[0.8888888888888888,\"#fdca26\"],[1.0,\"#f0f921\"]],\"type\":\"histogram2d\"}],\"histogram2dcontour\":[{\"colorbar\":{\"outlinewidth\":0,\"ticks\":\"\"},\"colorscale\":[[0.0,\"#0d0887\"],[0.1111111111111111,\"#46039f\"],[0.2222222222222222,\"#7201a8\"],[0.3333333333333333,\"#9c179e\"],[0.4444444444444444,\"#bd3786\"],[0.5555555555555556,\"#d8576b\"],[0.6666666666666666,\"#ed7953\"],[0.7777777777777778,\"#fb9f3a\"],[0.8888888888888888,\"#fdca26\"],[1.0,\"#f0f921\"]],\"type\":\"histogram2dcontour\"}],\"mesh3d\":[{\"colorbar\":{\"outlinewidth\":0,\"ticks\":\"\"},\"type\":\"mesh3d\"}],\"parcoords\":[{\"line\":{\"colorbar\":{\"outlinewidth\":0,\"ticks\":\"\"}},\"type\":\"parcoords\"}],\"pie\":[{\"automargin\":true,\"type\":\"pie\"}],\"scatter\":[{\"marker\":{\"colorbar\":{\"outlinewidth\":0,\"ticks\":\"\"}},\"type\":\"scatter\"}],\"scatter3d\":[{\"line\":{\"colorbar\":{\"outlinewidth\":0,\"ticks\":\"\"}},\"marker\":{\"colorbar\":{\"outlinewidth\":0,\"ticks\":\"\"}},\"type\":\"scatter3d\"}],\"scattercarpet\":[{\"marker\":{\"colorbar\":{\"outlinewidth\":0,\"ticks\":\"\"}},\"type\":\"scattercarpet\"}],\"scattergeo\":[{\"marker\":{\"colorbar\":{\"outlinewidth\":0,\"ticks\":\"\"}},\"type\":\"scattergeo\"}],\"scattergl\":[{\"marker\":{\"colorbar\":{\"outlinewidth\":0,\"ticks\":\"\"}},\"type\":\"scattergl\"}],\"scattermapbox\":[{\"marker\":{\"colorbar\":{\"outlinewidth\":0,\"ticks\":\"\"}},\"type\":\"scattermapbox\"}],\"scatterpolar\":[{\"marker\":{\"colorbar\":{\"outlinewidth\":0,\"ticks\":\"\"}},\"type\":\"scatterpolar\"}],\"scatterpolargl\":[{\"marker\":{\"colorbar\":{\"outlinewidth\":0,\"ticks\":\"\"}},\"type\":\"scatterpolargl\"}],\"scatterternary\":[{\"marker\":{\"colorbar\":{\"outlinewidth\":0,\"ticks\":\"\"}},\"type\":\"scatterternary\"}],\"surface\":[{\"colorbar\":{\"outlinewidth\":0,\"ticks\":\"\"},\"colorscale\":[[0.0,\"#0d0887\"],[0.1111111111111111,\"#46039f\"],[0.2222222222222222,\"#7201a8\"],[0.3333333333333333,\"#9c179e\"],[0.4444444444444444,\"#bd3786\"],[0.5555555555555556,\"#d8576b\"],[0.6666666666666666,\"#ed7953\"],[0.7777777777777778,\"#fb9f3a\"],[0.8888888888888888,\"#fdca26\"],[1.0,\"#f0f921\"]],\"type\":\"surface\"}],\"table\":[{\"cells\":{\"fill\":{\"color\":\"#EBF0F8\"},\"line\":{\"color\":\"white\"}},\"header\":{\"fill\":{\"color\":\"#C8D4E3\"},\"line\":{\"color\":\"white\"}},\"type\":\"table\"}]},\"layout\":{\"annotationdefaults\":{\"arrowcolor\":\"#2a3f5f\",\"arrowhead\":0,\"arrowwidth\":1},\"autotypenumbers\":\"strict\",\"coloraxis\":{\"colorbar\":{\"outlinewidth\":0,\"ticks\":\"\"}},\"colorscale\":{\"diverging\":[[0,\"#8e0152\"],[0.1,\"#c51b7d\"],[0.2,\"#de77ae\"],[0.3,\"#f1b6da\"],[0.4,\"#fde0ef\"],[0.5,\"#f7f7f7\"],[0.6,\"#e6f5d0\"],[0.7,\"#b8e186\"],[0.8,\"#7fbc41\"],[0.9,\"#4d9221\"],[1,\"#276419\"]],\"sequential\":[[0.0,\"#0d0887\"],[0.1111111111111111,\"#46039f\"],[0.2222222222222222,\"#7201a8\"],[0.3333333333333333,\"#9c179e\"],[0.4444444444444444,\"#bd3786\"],[0.5555555555555556,\"#d8576b\"],[0.6666666666666666,\"#ed7953\"],[0.7777777777777778,\"#fb9f3a\"],[0.8888888888888888,\"#fdca26\"],[1.0,\"#f0f921\"]],\"sequentialminus\":[[0.0,\"#0d0887\"],[0.1111111111111111,\"#46039f\"],[0.2222222222222222,\"#7201a8\"],[0.3333333333333333,\"#9c179e\"],[0.4444444444444444,\"#bd3786\"],[0.5555555555555556,\"#d8576b\"],[0.6666666666666666,\"#ed7953\"],[0.7777777777777778,\"#fb9f3a\"],[0.8888888888888888,\"#fdca26\"],[1.0,\"#f0f921\"]]},\"colorway\":[\"#636efa\",\"#EF553B\",\"#00cc96\",\"#ab63fa\",\"#FFA15A\",\"#19d3f3\",\"#FF6692\",\"#B6E880\",\"#FF97FF\",\"#FECB52\"],\"font\":{\"color\":\"#2a3f5f\"},\"geo\":{\"bgcolor\":\"white\",\"lakecolor\":\"white\",\"landcolor\":\"#E5ECF6\",\"showlakes\":true,\"showland\":true,\"subunitcolor\":\"white\"},\"hoverlabel\":{\"align\":\"left\"},\"hovermode\":\"closest\",\"mapbox\":{\"style\":\"light\"},\"paper_bgcolor\":\"white\",\"plot_bgcolor\":\"#E5ECF6\",\"polar\":{\"angularaxis\":{\"gridcolor\":\"white\",\"linecolor\":\"white\",\"ticks\":\"\"},\"bgcolor\":\"#E5ECF6\",\"radialaxis\":{\"gridcolor\":\"white\",\"linecolor\":\"white\",\"ticks\":\"\"}},\"scene\":{\"xaxis\":{\"backgroundcolor\":\"#E5ECF6\",\"gridcolor\":\"white\",\"gridwidth\":2,\"linecolor\":\"white\",\"showbackground\":true,\"ticks\":\"\",\"zerolinecolor\":\"white\"},\"yaxis\":{\"backgroundcolor\":\"#E5ECF6\",\"gridcolor\":\"white\",\"gridwidth\":2,\"linecolor\":\"white\",\"showbackground\":true,\"ticks\":\"\",\"zerolinecolor\":\"white\"},\"zaxis\":{\"backgroundcolor\":\"#E5ECF6\",\"gridcolor\":\"white\",\"gridwidth\":2,\"linecolor\":\"white\",\"showbackground\":true,\"ticks\":\"\",\"zerolinecolor\":\"white\"}},\"shapedefaults\":{\"line\":{\"color\":\"#2a3f5f\"}},\"ternary\":{\"aaxis\":{\"gridcolor\":\"white\",\"linecolor\":\"white\",\"ticks\":\"\"},\"baxis\":{\"gridcolor\":\"white\",\"linecolor\":\"white\",\"ticks\":\"\"},\"bgcolor\":\"#E5ECF6\",\"caxis\":{\"gridcolor\":\"white\",\"linecolor\":\"white\",\"ticks\":\"\"}},\"title\":{\"x\":0.05},\"xaxis\":{\"automargin\":true,\"gridcolor\":\"white\",\"linecolor\":\"white\",\"ticks\":\"\",\"title\":{\"standoff\":15},\"zerolinecolor\":\"white\",\"zerolinewidth\":2},\"yaxis\":{\"automargin\":true,\"gridcolor\":\"white\",\"linecolor\":\"white\",\"ticks\":\"\",\"title\":{\"standoff\":15},\"zerolinecolor\":\"white\",\"zerolinewidth\":2}}},\"title\":{\"text\":\"2019 & 2021, Japan and China age distribution\"},\"xaxis\":{\"anchor\":\"y\",\"domain\":[0.0,0.45],\"title\":{\"text\":\"Japan Age distribution\"}},\"xaxis2\":{\"anchor\":\"y2\",\"domain\":[0.55,1.0],\"title\":{\"text\":\"China Age distribution\"}},\"yaxis\":{\"anchor\":\"x\",\"domain\":[0.0,1.0],\"title\":{\"text\":\"Counts\"}},\"yaxis2\":{\"anchor\":\"x2\",\"domain\":[0.0,1.0],\"title\":{\"text\":\"Counts\"}}},                        {\"responsive\": true}                    ).then(function(){\n",
       "                            \n",
       "var gd = document.getElementById('dfa1744d-2545-41cc-805d-c5ab25f396e0');\n",
       "var x = new MutationObserver(function (mutations, observer) {{\n",
       "        var display = window.getComputedStyle(gd).display;\n",
       "        if (!display || display === 'none') {{\n",
       "            console.log([gd, 'removed!']);\n",
       "            Plotly.purge(gd);\n",
       "            observer.disconnect();\n",
       "        }}\n",
       "}});\n",
       "\n",
       "// Listen for the removal of the full notebook cells\n",
       "var notebookContainer = gd.closest('#notebook-container');\n",
       "if (notebookContainer) {{\n",
       "    x.observe(notebookContainer, {childList: true});\n",
       "}}\n",
       "\n",
       "// Listen for the clearing of the current output cell\n",
       "var outputEl = gd.closest('.output');\n",
       "if (outputEl) {{\n",
       "    x.observe(outputEl, {childList: true});\n",
       "}}\n",
       "\n",
       "                        })                };                });            </script>        </div>"
      ]
     },
     "metadata": {},
     "output_type": "display_data"
    }
   ],
   "source": [
    "fig_age = make_subplots(rows=1, cols=2, specs=[[{'type':'xy'}, {'type':'xy'}]])\n",
    "\n",
    "fig_age.add_trace(go.Bar(name=coun_years[0], x=JP_age_19.index, y=JP_age_19.values, marker_color='#FDB0C0'),1,1)\n",
    "fig_age.add_trace(go.Bar(name=coun_years[2], x=JP_age_21.index, y=JP_age_21.values, marker_color='#FD4659'),1,1)\n",
    "fig_age.add_trace(go.Bar(name=coun_years[1], x=CN_age_19.index, y=CN_age_19.values, marker_color='#FFDB81'),1,2)\n",
    "fig_age.add_trace(go.Bar(name=coun_years[3], x=CN_age_21.index, y=CN_age_21.values, marker_color='#FFAB0F'),1,2)\n",
    "\n",
    "fig_age.update_layout(barmode='group', title_text='2019 & 2021, Japan and China age distribution', showlegend=True)\n",
    "\n",
    "fig_age.update_xaxes(title_text='Japan Age distribution', row=1, col=1)\n",
    "fig_age.update_yaxes(title_text='Counts', row=1, col=1)\n",
    "fig_age.update_xaxes(title_text='China Age distribution', row=1, col=2)\n",
    "fig_age.update_yaxes(title_text='Counts', row=1, col=2)\n",
    "\n",
    "fig_age.show()"
   ]
  },
  {
   "cell_type": "markdown",
   "id": "9007b69e",
   "metadata": {
    "papermill": {
     "duration": 0.041739,
     "end_time": "2021-11-23T02:17:18.765215",
     "exception": false,
     "start_time": "2021-11-23T02:17:18.723476",
     "status": "completed"
    },
    "tags": []
   },
   "source": [
    "# 나이 분포도\n",
    "#### 일본\n",
    "> * 2019년도에 25-29세의 분포가 가장 크게 나타났으며, 다음으로는 30-34 , 35-39 비율이 가장 높다.\n",
    "> * 2021년도에 25-29세의 비율이 가장 높았으며, 2019년도 자료와 점유율은 비슷하지만 모든 연령층이 증가한것을 볼 수 있다.\n",
    "> * 가장 눈에 띄는것은 18-21세의 비율이 급격하게 높아진것과 35-49세 이상의 나이 분포도가 모두 급격하게 증가한것이 눈에 띈다.\n",
    "\n",
    "#### 중국\n",
    "> * 2019년도에 22-24 , 25-29 , 18-21 순서대로 높았으며 젊은층의 비율이 압도적으로 높은것을 볼수 있다.\n",
    "> * 2019년도에 비해 2021년에 전 연령대비 비율이 증가했지만, 18-21, 22-24, 30-34의 분포도가 압도적으로 높아진것을 볼 수 있다.\n",
    "> * 가장 눈에 띄는것은 젊은층의 비율 18-21, 22-24의 분포가 급격하게 높아졌으며 30-34 분포 또한 소폭 상승했으며 그 외에는 미미하거나 조금 높아 졌다.\n",
    "\n",
    "\n",
    "### 중국은 22-24세의 비율이 가장 높으며, 일본은 25-29세의 비율이 가장 높다.\n",
    "### 두 나라 모두 젊은층의 점유율이 가장 높은 것을 알 수 있다. "
   ]
  },
  {
   "cell_type": "markdown",
   "id": "9a14e5db",
   "metadata": {
    "papermill": {
     "duration": 0.041282,
     "end_time": "2021-11-23T02:17:18.848610",
     "exception": false,
     "start_time": "2021-11-23T02:17:18.807328",
     "status": "completed"
    },
    "tags": []
   },
   "source": [
    "# Gender Distribution\n",
    "> ## What is your gender?"
   ]
  },
  {
   "cell_type": "code",
   "execution_count": 5,
   "id": "57393976",
   "metadata": {
    "_kg_hide-input": true,
    "execution": {
     "iopub.execute_input": "2021-11-23T02:17:18.994153Z",
     "iopub.status.busy": "2021-11-23T02:17:18.993428Z",
     "iopub.status.idle": "2021-11-23T02:17:19.096460Z",
     "shell.execute_reply": "2021-11-23T02:17:19.097021Z",
     "shell.execute_reply.started": "2021-11-23T02:00:48.364123Z"
    },
    "papermill": {
     "duration": 0.147765,
     "end_time": "2021-11-23T02:17:19.097199",
     "exception": false,
     "start_time": "2021-11-23T02:17:18.949434",
     "status": "completed"
    },
    "tags": []
   },
   "outputs": [
    {
     "data": {
      "application/vnd.plotly.v1+json": {
       "config": {
        "plotlyServerURL": "https://plot.ly"
       },
       "data": [
        {
         "domain": {
          "x": [
           0.0,
           0.45
          ],
          "y": [
           0.575,
           1.0
          ]
         },
         "hole": 0.3,
         "labels": [
          "Man",
          "Woman",
          "Prefer not to say"
         ],
         "marker": {
          "colors": [
           "#4169E1",
           "#B2182B",
           "#81007F",
           "#D1B2FF",
           "#EFE4E2"
          ]
         },
         "rotation": 180,
         "textinfo": "label+percent",
         "title": {
          "text": "2019_Japan"
         },
         "type": "pie",
         "values": [
          612,
          54,
          7
         ]
        },
        {
         "domain": {
          "x": [
           0.55,
           1.0
          ],
          "y": [
           0.575,
           1.0
          ]
         },
         "hole": 0.3,
         "labels": [
          "Man",
          "Woman",
          "Prefer not to say"
         ],
         "marker": {
          "colors": [
           "#4169E1",
           "#B2182B",
           "#81007F",
           "#D1B2FF",
           "#EFE4E2"
          ]
         },
         "rotation": 180,
         "textinfo": "label+percent",
         "title": {
          "text": "2019_China"
         },
         "type": "pie",
         "values": [
          469,
          84,
          21
         ]
        },
        {
         "domain": {
          "x": [
           0.0,
           0.45
          ],
          "y": [
           0.0,
           0.425
          ]
         },
         "hole": 0.3,
         "labels": [
          "Man",
          "Woman",
          "Prefer not to say",
          "Nonbinary",
          "Prefer to self-describe"
         ],
         "marker": {
          "colors": [
           "#4169E1",
           "#B2182B",
           "#81007F",
           "#D1B2FF",
           "#EFE4E2"
          ]
         },
         "rotation": 180,
         "textinfo": "label+percent",
         "title": {
          "text": "2021_Japan"
         },
         "type": "pie",
         "values": [
          836,
          68,
          11,
          5,
          1
         ]
        },
        {
         "domain": {
          "x": [
           0.55,
           1.0
          ],
          "y": [
           0.0,
           0.425
          ]
         },
         "hole": 0.3,
         "labels": [
          "Man",
          "Woman",
          "Prefer not to say",
          "Prefer to self-describe",
          "Nonbinary"
         ],
         "marker": {
          "colors": [
           "#4169E1",
           "#B2182B",
           "#81007F",
           "#D1B2FF",
           "#EFE4E2"
          ]
         },
         "rotation": 180,
         "textinfo": "label+percent",
         "title": {
          "text": "2021_China"
         },
         "type": "pie",
         "values": [
          672,
          106,
          31,
          3,
          2
         ]
        }
       ],
       "layout": {
        "autosize": true,
        "height": 700,
        "showlegend": true,
        "template": {
         "data": {
          "bar": [
           {
            "error_x": {
             "color": "#2a3f5f"
            },
            "error_y": {
             "color": "#2a3f5f"
            },
            "marker": {
             "line": {
              "color": "#E5ECF6",
              "width": 0.5
             },
             "pattern": {
              "fillmode": "overlay",
              "size": 10,
              "solidity": 0.2
             }
            },
            "type": "bar"
           }
          ],
          "barpolar": [
           {
            "marker": {
             "line": {
              "color": "#E5ECF6",
              "width": 0.5
             },
             "pattern": {
              "fillmode": "overlay",
              "size": 10,
              "solidity": 0.2
             }
            },
            "type": "barpolar"
           }
          ],
          "carpet": [
           {
            "aaxis": {
             "endlinecolor": "#2a3f5f",
             "gridcolor": "white",
             "linecolor": "white",
             "minorgridcolor": "white",
             "startlinecolor": "#2a3f5f"
            },
            "baxis": {
             "endlinecolor": "#2a3f5f",
             "gridcolor": "white",
             "linecolor": "white",
             "minorgridcolor": "white",
             "startlinecolor": "#2a3f5f"
            },
            "type": "carpet"
           }
          ],
          "choropleth": [
           {
            "colorbar": {
             "outlinewidth": 0,
             "ticks": ""
            },
            "type": "choropleth"
           }
          ],
          "contour": [
           {
            "colorbar": {
             "outlinewidth": 0,
             "ticks": ""
            },
            "colorscale": [
             [
              0.0,
              "#0d0887"
             ],
             [
              0.1111111111111111,
              "#46039f"
             ],
             [
              0.2222222222222222,
              "#7201a8"
             ],
             [
              0.3333333333333333,
              "#9c179e"
             ],
             [
              0.4444444444444444,
              "#bd3786"
             ],
             [
              0.5555555555555556,
              "#d8576b"
             ],
             [
              0.6666666666666666,
              "#ed7953"
             ],
             [
              0.7777777777777778,
              "#fb9f3a"
             ],
             [
              0.8888888888888888,
              "#fdca26"
             ],
             [
              1.0,
              "#f0f921"
             ]
            ],
            "type": "contour"
           }
          ],
          "contourcarpet": [
           {
            "colorbar": {
             "outlinewidth": 0,
             "ticks": ""
            },
            "type": "contourcarpet"
           }
          ],
          "heatmap": [
           {
            "colorbar": {
             "outlinewidth": 0,
             "ticks": ""
            },
            "colorscale": [
             [
              0.0,
              "#0d0887"
             ],
             [
              0.1111111111111111,
              "#46039f"
             ],
             [
              0.2222222222222222,
              "#7201a8"
             ],
             [
              0.3333333333333333,
              "#9c179e"
             ],
             [
              0.4444444444444444,
              "#bd3786"
             ],
             [
              0.5555555555555556,
              "#d8576b"
             ],
             [
              0.6666666666666666,
              "#ed7953"
             ],
             [
              0.7777777777777778,
              "#fb9f3a"
             ],
             [
              0.8888888888888888,
              "#fdca26"
             ],
             [
              1.0,
              "#f0f921"
             ]
            ],
            "type": "heatmap"
           }
          ],
          "heatmapgl": [
           {
            "colorbar": {
             "outlinewidth": 0,
             "ticks": ""
            },
            "colorscale": [
             [
              0.0,
              "#0d0887"
             ],
             [
              0.1111111111111111,
              "#46039f"
             ],
             [
              0.2222222222222222,
              "#7201a8"
             ],
             [
              0.3333333333333333,
              "#9c179e"
             ],
             [
              0.4444444444444444,
              "#bd3786"
             ],
             [
              0.5555555555555556,
              "#d8576b"
             ],
             [
              0.6666666666666666,
              "#ed7953"
             ],
             [
              0.7777777777777778,
              "#fb9f3a"
             ],
             [
              0.8888888888888888,
              "#fdca26"
             ],
             [
              1.0,
              "#f0f921"
             ]
            ],
            "type": "heatmapgl"
           }
          ],
          "histogram": [
           {
            "marker": {
             "pattern": {
              "fillmode": "overlay",
              "size": 10,
              "solidity": 0.2
             }
            },
            "type": "histogram"
           }
          ],
          "histogram2d": [
           {
            "colorbar": {
             "outlinewidth": 0,
             "ticks": ""
            },
            "colorscale": [
             [
              0.0,
              "#0d0887"
             ],
             [
              0.1111111111111111,
              "#46039f"
             ],
             [
              0.2222222222222222,
              "#7201a8"
             ],
             [
              0.3333333333333333,
              "#9c179e"
             ],
             [
              0.4444444444444444,
              "#bd3786"
             ],
             [
              0.5555555555555556,
              "#d8576b"
             ],
             [
              0.6666666666666666,
              "#ed7953"
             ],
             [
              0.7777777777777778,
              "#fb9f3a"
             ],
             [
              0.8888888888888888,
              "#fdca26"
             ],
             [
              1.0,
              "#f0f921"
             ]
            ],
            "type": "histogram2d"
           }
          ],
          "histogram2dcontour": [
           {
            "colorbar": {
             "outlinewidth": 0,
             "ticks": ""
            },
            "colorscale": [
             [
              0.0,
              "#0d0887"
             ],
             [
              0.1111111111111111,
              "#46039f"
             ],
             [
              0.2222222222222222,
              "#7201a8"
             ],
             [
              0.3333333333333333,
              "#9c179e"
             ],
             [
              0.4444444444444444,
              "#bd3786"
             ],
             [
              0.5555555555555556,
              "#d8576b"
             ],
             [
              0.6666666666666666,
              "#ed7953"
             ],
             [
              0.7777777777777778,
              "#fb9f3a"
             ],
             [
              0.8888888888888888,
              "#fdca26"
             ],
             [
              1.0,
              "#f0f921"
             ]
            ],
            "type": "histogram2dcontour"
           }
          ],
          "mesh3d": [
           {
            "colorbar": {
             "outlinewidth": 0,
             "ticks": ""
            },
            "type": "mesh3d"
           }
          ],
          "parcoords": [
           {
            "line": {
             "colorbar": {
              "outlinewidth": 0,
              "ticks": ""
             }
            },
            "type": "parcoords"
           }
          ],
          "pie": [
           {
            "automargin": true,
            "type": "pie"
           }
          ],
          "scatter": [
           {
            "marker": {
             "colorbar": {
              "outlinewidth": 0,
              "ticks": ""
             }
            },
            "type": "scatter"
           }
          ],
          "scatter3d": [
           {
            "line": {
             "colorbar": {
              "outlinewidth": 0,
              "ticks": ""
             }
            },
            "marker": {
             "colorbar": {
              "outlinewidth": 0,
              "ticks": ""
             }
            },
            "type": "scatter3d"
           }
          ],
          "scattercarpet": [
           {
            "marker": {
             "colorbar": {
              "outlinewidth": 0,
              "ticks": ""
             }
            },
            "type": "scattercarpet"
           }
          ],
          "scattergeo": [
           {
            "marker": {
             "colorbar": {
              "outlinewidth": 0,
              "ticks": ""
             }
            },
            "type": "scattergeo"
           }
          ],
          "scattergl": [
           {
            "marker": {
             "colorbar": {
              "outlinewidth": 0,
              "ticks": ""
             }
            },
            "type": "scattergl"
           }
          ],
          "scattermapbox": [
           {
            "marker": {
             "colorbar": {
              "outlinewidth": 0,
              "ticks": ""
             }
            },
            "type": "scattermapbox"
           }
          ],
          "scatterpolar": [
           {
            "marker": {
             "colorbar": {
              "outlinewidth": 0,
              "ticks": ""
             }
            },
            "type": "scatterpolar"
           }
          ],
          "scatterpolargl": [
           {
            "marker": {
             "colorbar": {
              "outlinewidth": 0,
              "ticks": ""
             }
            },
            "type": "scatterpolargl"
           }
          ],
          "scatterternary": [
           {
            "marker": {
             "colorbar": {
              "outlinewidth": 0,
              "ticks": ""
             }
            },
            "type": "scatterternary"
           }
          ],
          "surface": [
           {
            "colorbar": {
             "outlinewidth": 0,
             "ticks": ""
            },
            "colorscale": [
             [
              0.0,
              "#0d0887"
             ],
             [
              0.1111111111111111,
              "#46039f"
             ],
             [
              0.2222222222222222,
              "#7201a8"
             ],
             [
              0.3333333333333333,
              "#9c179e"
             ],
             [
              0.4444444444444444,
              "#bd3786"
             ],
             [
              0.5555555555555556,
              "#d8576b"
             ],
             [
              0.6666666666666666,
              "#ed7953"
             ],
             [
              0.7777777777777778,
              "#fb9f3a"
             ],
             [
              0.8888888888888888,
              "#fdca26"
             ],
             [
              1.0,
              "#f0f921"
             ]
            ],
            "type": "surface"
           }
          ],
          "table": [
           {
            "cells": {
             "fill": {
              "color": "#EBF0F8"
             },
             "line": {
              "color": "white"
             }
            },
            "header": {
             "fill": {
              "color": "#C8D4E3"
             },
             "line": {
              "color": "white"
             }
            },
            "type": "table"
           }
          ]
         },
         "layout": {
          "annotationdefaults": {
           "arrowcolor": "#2a3f5f",
           "arrowhead": 0,
           "arrowwidth": 1
          },
          "autotypenumbers": "strict",
          "coloraxis": {
           "colorbar": {
            "outlinewidth": 0,
            "ticks": ""
           }
          },
          "colorscale": {
           "diverging": [
            [
             0,
             "#8e0152"
            ],
            [
             0.1,
             "#c51b7d"
            ],
            [
             0.2,
             "#de77ae"
            ],
            [
             0.3,
             "#f1b6da"
            ],
            [
             0.4,
             "#fde0ef"
            ],
            [
             0.5,
             "#f7f7f7"
            ],
            [
             0.6,
             "#e6f5d0"
            ],
            [
             0.7,
             "#b8e186"
            ],
            [
             0.8,
             "#7fbc41"
            ],
            [
             0.9,
             "#4d9221"
            ],
            [
             1,
             "#276419"
            ]
           ],
           "sequential": [
            [
             0.0,
             "#0d0887"
            ],
            [
             0.1111111111111111,
             "#46039f"
            ],
            [
             0.2222222222222222,
             "#7201a8"
            ],
            [
             0.3333333333333333,
             "#9c179e"
            ],
            [
             0.4444444444444444,
             "#bd3786"
            ],
            [
             0.5555555555555556,
             "#d8576b"
            ],
            [
             0.6666666666666666,
             "#ed7953"
            ],
            [
             0.7777777777777778,
             "#fb9f3a"
            ],
            [
             0.8888888888888888,
             "#fdca26"
            ],
            [
             1.0,
             "#f0f921"
            ]
           ],
           "sequentialminus": [
            [
             0.0,
             "#0d0887"
            ],
            [
             0.1111111111111111,
             "#46039f"
            ],
            [
             0.2222222222222222,
             "#7201a8"
            ],
            [
             0.3333333333333333,
             "#9c179e"
            ],
            [
             0.4444444444444444,
             "#bd3786"
            ],
            [
             0.5555555555555556,
             "#d8576b"
            ],
            [
             0.6666666666666666,
             "#ed7953"
            ],
            [
             0.7777777777777778,
             "#fb9f3a"
            ],
            [
             0.8888888888888888,
             "#fdca26"
            ],
            [
             1.0,
             "#f0f921"
            ]
           ]
          },
          "colorway": [
           "#636efa",
           "#EF553B",
           "#00cc96",
           "#ab63fa",
           "#FFA15A",
           "#19d3f3",
           "#FF6692",
           "#B6E880",
           "#FF97FF",
           "#FECB52"
          ],
          "font": {
           "color": "#2a3f5f"
          },
          "geo": {
           "bgcolor": "white",
           "lakecolor": "white",
           "landcolor": "#E5ECF6",
           "showlakes": true,
           "showland": true,
           "subunitcolor": "white"
          },
          "hoverlabel": {
           "align": "left"
          },
          "hovermode": "closest",
          "mapbox": {
           "style": "light"
          },
          "paper_bgcolor": "white",
          "plot_bgcolor": "#E5ECF6",
          "polar": {
           "angularaxis": {
            "gridcolor": "white",
            "linecolor": "white",
            "ticks": ""
           },
           "bgcolor": "#E5ECF6",
           "radialaxis": {
            "gridcolor": "white",
            "linecolor": "white",
            "ticks": ""
           }
          },
          "scene": {
           "xaxis": {
            "backgroundcolor": "#E5ECF6",
            "gridcolor": "white",
            "gridwidth": 2,
            "linecolor": "white",
            "showbackground": true,
            "ticks": "",
            "zerolinecolor": "white"
           },
           "yaxis": {
            "backgroundcolor": "#E5ECF6",
            "gridcolor": "white",
            "gridwidth": 2,
            "linecolor": "white",
            "showbackground": true,
            "ticks": "",
            "zerolinecolor": "white"
           },
           "zaxis": {
            "backgroundcolor": "#E5ECF6",
            "gridcolor": "white",
            "gridwidth": 2,
            "linecolor": "white",
            "showbackground": true,
            "ticks": "",
            "zerolinecolor": "white"
           }
          },
          "shapedefaults": {
           "line": {
            "color": "#2a3f5f"
           }
          },
          "ternary": {
           "aaxis": {
            "gridcolor": "white",
            "linecolor": "white",
            "ticks": ""
           },
           "baxis": {
            "gridcolor": "white",
            "linecolor": "white",
            "ticks": ""
           },
           "bgcolor": "#E5ECF6",
           "caxis": {
            "gridcolor": "white",
            "linecolor": "white",
            "ticks": ""
           }
          },
          "title": {
           "x": 0.05
          },
          "xaxis": {
           "automargin": true,
           "gridcolor": "white",
           "linecolor": "white",
           "ticks": "",
           "title": {
            "standoff": 15
           },
           "zerolinecolor": "white",
           "zerolinewidth": 2
          },
          "yaxis": {
           "automargin": true,
           "gridcolor": "white",
           "linecolor": "white",
           "ticks": "",
           "title": {
            "standoff": 15
           },
           "zerolinecolor": "white",
           "zerolinewidth": 2
          }
         }
        },
        "title": {
         "text": "Gender Distribution"
        }
       }
      },
      "text/html": [
       "<div>                            <div id=\"0ca009ac-072b-4a46-8b6b-e4198a9a49dc\" class=\"plotly-graph-div\" style=\"height:700px; width:100%;\"></div>            <script type=\"text/javascript\">                require([\"plotly\"], function(Plotly) {                    window.PLOTLYENV=window.PLOTLYENV || {};                                    if (document.getElementById(\"0ca009ac-072b-4a46-8b6b-e4198a9a49dc\")) {                    Plotly.newPlot(                        \"0ca009ac-072b-4a46-8b6b-e4198a9a49dc\",                        [{\"domain\":{\"x\":[0.0,0.45],\"y\":[0.575,1.0]},\"hole\":0.3,\"labels\":[\"Man\",\"Woman\",\"Prefer not to say\"],\"marker\":{\"colors\":[\"#4169E1\",\"#B2182B\",\"#81007F\",\"#D1B2FF\",\"#EFE4E2\"]},\"rotation\":180,\"textinfo\":\"label+percent\",\"title\":{\"text\":\"2019_Japan\"},\"type\":\"pie\",\"values\":[612,54,7]},{\"domain\":{\"x\":[0.55,1.0],\"y\":[0.575,1.0]},\"hole\":0.3,\"labels\":[\"Man\",\"Woman\",\"Prefer not to say\"],\"marker\":{\"colors\":[\"#4169E1\",\"#B2182B\",\"#81007F\",\"#D1B2FF\",\"#EFE4E2\"]},\"rotation\":180,\"textinfo\":\"label+percent\",\"title\":{\"text\":\"2019_China\"},\"type\":\"pie\",\"values\":[469,84,21]},{\"domain\":{\"x\":[0.0,0.45],\"y\":[0.0,0.425]},\"hole\":0.3,\"labels\":[\"Man\",\"Woman\",\"Prefer not to say\",\"Nonbinary\",\"Prefer to self-describe\"],\"marker\":{\"colors\":[\"#4169E1\",\"#B2182B\",\"#81007F\",\"#D1B2FF\",\"#EFE4E2\"]},\"rotation\":180,\"textinfo\":\"label+percent\",\"title\":{\"text\":\"2021_Japan\"},\"type\":\"pie\",\"values\":[836,68,11,5,1]},{\"domain\":{\"x\":[0.55,1.0],\"y\":[0.0,0.425]},\"hole\":0.3,\"labels\":[\"Man\",\"Woman\",\"Prefer not to say\",\"Prefer to self-describe\",\"Nonbinary\"],\"marker\":{\"colors\":[\"#4169E1\",\"#B2182B\",\"#81007F\",\"#D1B2FF\",\"#EFE4E2\"]},\"rotation\":180,\"textinfo\":\"label+percent\",\"title\":{\"text\":\"2021_China\"},\"type\":\"pie\",\"values\":[672,106,31,3,2]}],                        {\"autosize\":true,\"height\":700,\"showlegend\":true,\"template\":{\"data\":{\"bar\":[{\"error_x\":{\"color\":\"#2a3f5f\"},\"error_y\":{\"color\":\"#2a3f5f\"},\"marker\":{\"line\":{\"color\":\"#E5ECF6\",\"width\":0.5},\"pattern\":{\"fillmode\":\"overlay\",\"size\":10,\"solidity\":0.2}},\"type\":\"bar\"}],\"barpolar\":[{\"marker\":{\"line\":{\"color\":\"#E5ECF6\",\"width\":0.5},\"pattern\":{\"fillmode\":\"overlay\",\"size\":10,\"solidity\":0.2}},\"type\":\"barpolar\"}],\"carpet\":[{\"aaxis\":{\"endlinecolor\":\"#2a3f5f\",\"gridcolor\":\"white\",\"linecolor\":\"white\",\"minorgridcolor\":\"white\",\"startlinecolor\":\"#2a3f5f\"},\"baxis\":{\"endlinecolor\":\"#2a3f5f\",\"gridcolor\":\"white\",\"linecolor\":\"white\",\"minorgridcolor\":\"white\",\"startlinecolor\":\"#2a3f5f\"},\"type\":\"carpet\"}],\"choropleth\":[{\"colorbar\":{\"outlinewidth\":0,\"ticks\":\"\"},\"type\":\"choropleth\"}],\"contour\":[{\"colorbar\":{\"outlinewidth\":0,\"ticks\":\"\"},\"colorscale\":[[0.0,\"#0d0887\"],[0.1111111111111111,\"#46039f\"],[0.2222222222222222,\"#7201a8\"],[0.3333333333333333,\"#9c179e\"],[0.4444444444444444,\"#bd3786\"],[0.5555555555555556,\"#d8576b\"],[0.6666666666666666,\"#ed7953\"],[0.7777777777777778,\"#fb9f3a\"],[0.8888888888888888,\"#fdca26\"],[1.0,\"#f0f921\"]],\"type\":\"contour\"}],\"contourcarpet\":[{\"colorbar\":{\"outlinewidth\":0,\"ticks\":\"\"},\"type\":\"contourcarpet\"}],\"heatmap\":[{\"colorbar\":{\"outlinewidth\":0,\"ticks\":\"\"},\"colorscale\":[[0.0,\"#0d0887\"],[0.1111111111111111,\"#46039f\"],[0.2222222222222222,\"#7201a8\"],[0.3333333333333333,\"#9c179e\"],[0.4444444444444444,\"#bd3786\"],[0.5555555555555556,\"#d8576b\"],[0.6666666666666666,\"#ed7953\"],[0.7777777777777778,\"#fb9f3a\"],[0.8888888888888888,\"#fdca26\"],[1.0,\"#f0f921\"]],\"type\":\"heatmap\"}],\"heatmapgl\":[{\"colorbar\":{\"outlinewidth\":0,\"ticks\":\"\"},\"colorscale\":[[0.0,\"#0d0887\"],[0.1111111111111111,\"#46039f\"],[0.2222222222222222,\"#7201a8\"],[0.3333333333333333,\"#9c179e\"],[0.4444444444444444,\"#bd3786\"],[0.5555555555555556,\"#d8576b\"],[0.6666666666666666,\"#ed7953\"],[0.7777777777777778,\"#fb9f3a\"],[0.8888888888888888,\"#fdca26\"],[1.0,\"#f0f921\"]],\"type\":\"heatmapgl\"}],\"histogram\":[{\"marker\":{\"pattern\":{\"fillmode\":\"overlay\",\"size\":10,\"solidity\":0.2}},\"type\":\"histogram\"}],\"histogram2d\":[{\"colorbar\":{\"outlinewidth\":0,\"ticks\":\"\"},\"colorscale\":[[0.0,\"#0d0887\"],[0.1111111111111111,\"#46039f\"],[0.2222222222222222,\"#7201a8\"],[0.3333333333333333,\"#9c179e\"],[0.4444444444444444,\"#bd3786\"],[0.5555555555555556,\"#d8576b\"],[0.6666666666666666,\"#ed7953\"],[0.7777777777777778,\"#fb9f3a\"],[0.8888888888888888,\"#fdca26\"],[1.0,\"#f0f921\"]],\"type\":\"histogram2d\"}],\"histogram2dcontour\":[{\"colorbar\":{\"outlinewidth\":0,\"ticks\":\"\"},\"colorscale\":[[0.0,\"#0d0887\"],[0.1111111111111111,\"#46039f\"],[0.2222222222222222,\"#7201a8\"],[0.3333333333333333,\"#9c179e\"],[0.4444444444444444,\"#bd3786\"],[0.5555555555555556,\"#d8576b\"],[0.6666666666666666,\"#ed7953\"],[0.7777777777777778,\"#fb9f3a\"],[0.8888888888888888,\"#fdca26\"],[1.0,\"#f0f921\"]],\"type\":\"histogram2dcontour\"}],\"mesh3d\":[{\"colorbar\":{\"outlinewidth\":0,\"ticks\":\"\"},\"type\":\"mesh3d\"}],\"parcoords\":[{\"line\":{\"colorbar\":{\"outlinewidth\":0,\"ticks\":\"\"}},\"type\":\"parcoords\"}],\"pie\":[{\"automargin\":true,\"type\":\"pie\"}],\"scatter\":[{\"marker\":{\"colorbar\":{\"outlinewidth\":0,\"ticks\":\"\"}},\"type\":\"scatter\"}],\"scatter3d\":[{\"line\":{\"colorbar\":{\"outlinewidth\":0,\"ticks\":\"\"}},\"marker\":{\"colorbar\":{\"outlinewidth\":0,\"ticks\":\"\"}},\"type\":\"scatter3d\"}],\"scattercarpet\":[{\"marker\":{\"colorbar\":{\"outlinewidth\":0,\"ticks\":\"\"}},\"type\":\"scattercarpet\"}],\"scattergeo\":[{\"marker\":{\"colorbar\":{\"outlinewidth\":0,\"ticks\":\"\"}},\"type\":\"scattergeo\"}],\"scattergl\":[{\"marker\":{\"colorbar\":{\"outlinewidth\":0,\"ticks\":\"\"}},\"type\":\"scattergl\"}],\"scattermapbox\":[{\"marker\":{\"colorbar\":{\"outlinewidth\":0,\"ticks\":\"\"}},\"type\":\"scattermapbox\"}],\"scatterpolar\":[{\"marker\":{\"colorbar\":{\"outlinewidth\":0,\"ticks\":\"\"}},\"type\":\"scatterpolar\"}],\"scatterpolargl\":[{\"marker\":{\"colorbar\":{\"outlinewidth\":0,\"ticks\":\"\"}},\"type\":\"scatterpolargl\"}],\"scatterternary\":[{\"marker\":{\"colorbar\":{\"outlinewidth\":0,\"ticks\":\"\"}},\"type\":\"scatterternary\"}],\"surface\":[{\"colorbar\":{\"outlinewidth\":0,\"ticks\":\"\"},\"colorscale\":[[0.0,\"#0d0887\"],[0.1111111111111111,\"#46039f\"],[0.2222222222222222,\"#7201a8\"],[0.3333333333333333,\"#9c179e\"],[0.4444444444444444,\"#bd3786\"],[0.5555555555555556,\"#d8576b\"],[0.6666666666666666,\"#ed7953\"],[0.7777777777777778,\"#fb9f3a\"],[0.8888888888888888,\"#fdca26\"],[1.0,\"#f0f921\"]],\"type\":\"surface\"}],\"table\":[{\"cells\":{\"fill\":{\"color\":\"#EBF0F8\"},\"line\":{\"color\":\"white\"}},\"header\":{\"fill\":{\"color\":\"#C8D4E3\"},\"line\":{\"color\":\"white\"}},\"type\":\"table\"}]},\"layout\":{\"annotationdefaults\":{\"arrowcolor\":\"#2a3f5f\",\"arrowhead\":0,\"arrowwidth\":1},\"autotypenumbers\":\"strict\",\"coloraxis\":{\"colorbar\":{\"outlinewidth\":0,\"ticks\":\"\"}},\"colorscale\":{\"diverging\":[[0,\"#8e0152\"],[0.1,\"#c51b7d\"],[0.2,\"#de77ae\"],[0.3,\"#f1b6da\"],[0.4,\"#fde0ef\"],[0.5,\"#f7f7f7\"],[0.6,\"#e6f5d0\"],[0.7,\"#b8e186\"],[0.8,\"#7fbc41\"],[0.9,\"#4d9221\"],[1,\"#276419\"]],\"sequential\":[[0.0,\"#0d0887\"],[0.1111111111111111,\"#46039f\"],[0.2222222222222222,\"#7201a8\"],[0.3333333333333333,\"#9c179e\"],[0.4444444444444444,\"#bd3786\"],[0.5555555555555556,\"#d8576b\"],[0.6666666666666666,\"#ed7953\"],[0.7777777777777778,\"#fb9f3a\"],[0.8888888888888888,\"#fdca26\"],[1.0,\"#f0f921\"]],\"sequentialminus\":[[0.0,\"#0d0887\"],[0.1111111111111111,\"#46039f\"],[0.2222222222222222,\"#7201a8\"],[0.3333333333333333,\"#9c179e\"],[0.4444444444444444,\"#bd3786\"],[0.5555555555555556,\"#d8576b\"],[0.6666666666666666,\"#ed7953\"],[0.7777777777777778,\"#fb9f3a\"],[0.8888888888888888,\"#fdca26\"],[1.0,\"#f0f921\"]]},\"colorway\":[\"#636efa\",\"#EF553B\",\"#00cc96\",\"#ab63fa\",\"#FFA15A\",\"#19d3f3\",\"#FF6692\",\"#B6E880\",\"#FF97FF\",\"#FECB52\"],\"font\":{\"color\":\"#2a3f5f\"},\"geo\":{\"bgcolor\":\"white\",\"lakecolor\":\"white\",\"landcolor\":\"#E5ECF6\",\"showlakes\":true,\"showland\":true,\"subunitcolor\":\"white\"},\"hoverlabel\":{\"align\":\"left\"},\"hovermode\":\"closest\",\"mapbox\":{\"style\":\"light\"},\"paper_bgcolor\":\"white\",\"plot_bgcolor\":\"#E5ECF6\",\"polar\":{\"angularaxis\":{\"gridcolor\":\"white\",\"linecolor\":\"white\",\"ticks\":\"\"},\"bgcolor\":\"#E5ECF6\",\"radialaxis\":{\"gridcolor\":\"white\",\"linecolor\":\"white\",\"ticks\":\"\"}},\"scene\":{\"xaxis\":{\"backgroundcolor\":\"#E5ECF6\",\"gridcolor\":\"white\",\"gridwidth\":2,\"linecolor\":\"white\",\"showbackground\":true,\"ticks\":\"\",\"zerolinecolor\":\"white\"},\"yaxis\":{\"backgroundcolor\":\"#E5ECF6\",\"gridcolor\":\"white\",\"gridwidth\":2,\"linecolor\":\"white\",\"showbackground\":true,\"ticks\":\"\",\"zerolinecolor\":\"white\"},\"zaxis\":{\"backgroundcolor\":\"#E5ECF6\",\"gridcolor\":\"white\",\"gridwidth\":2,\"linecolor\":\"white\",\"showbackground\":true,\"ticks\":\"\",\"zerolinecolor\":\"white\"}},\"shapedefaults\":{\"line\":{\"color\":\"#2a3f5f\"}},\"ternary\":{\"aaxis\":{\"gridcolor\":\"white\",\"linecolor\":\"white\",\"ticks\":\"\"},\"baxis\":{\"gridcolor\":\"white\",\"linecolor\":\"white\",\"ticks\":\"\"},\"bgcolor\":\"#E5ECF6\",\"caxis\":{\"gridcolor\":\"white\",\"linecolor\":\"white\",\"ticks\":\"\"}},\"title\":{\"x\":0.05},\"xaxis\":{\"automargin\":true,\"gridcolor\":\"white\",\"linecolor\":\"white\",\"ticks\":\"\",\"title\":{\"standoff\":15},\"zerolinecolor\":\"white\",\"zerolinewidth\":2},\"yaxis\":{\"automargin\":true,\"gridcolor\":\"white\",\"linecolor\":\"white\",\"ticks\":\"\",\"title\":{\"standoff\":15},\"zerolinecolor\":\"white\",\"zerolinewidth\":2}}},\"title\":{\"text\":\"Gender Distribution\"}},                        {\"responsive\": true}                    ).then(function(){\n",
       "                            \n",
       "var gd = document.getElementById('0ca009ac-072b-4a46-8b6b-e4198a9a49dc');\n",
       "var x = new MutationObserver(function (mutations, observer) {{\n",
       "        var display = window.getComputedStyle(gd).display;\n",
       "        if (!display || display === 'none') {{\n",
       "            console.log([gd, 'removed!']);\n",
       "            Plotly.purge(gd);\n",
       "            observer.disconnect();\n",
       "        }}\n",
       "}});\n",
       "\n",
       "// Listen for the removal of the full notebook cells\n",
       "var notebookContainer = gd.closest('#notebook-container');\n",
       "if (notebookContainer) {{\n",
       "    x.observe(notebookContainer, {childList: true});\n",
       "}}\n",
       "\n",
       "// Listen for the clearing of the current output cell\n",
       "var outputEl = gd.closest('.output');\n",
       "if (outputEl) {{\n",
       "    x.observe(outputEl, {childList: true});\n",
       "}}\n",
       "\n",
       "                        })                };                });            </script>        </div>"
      ]
     },
     "metadata": {},
     "output_type": "display_data"
    }
   ],
   "source": [
    "fig = make_subplots(rows=2, cols=2, specs=[[{'type':'domain'}, {'type':'domain'}],\n",
    "                                           [{'type':'domain'}, {'type':'domain'}]])\n",
    "\n",
    "fig.add_trace(go_Pie('2019_Japan', JP_age_series.value_counts()),1,1)\n",
    "fig.add_trace(go_Pie('2019_China', CN_age_series.value_counts()),1,2)\n",
    "fig.add_trace(go_Pie('2021_Japan', group(df21,'Japan','Q2')),2,1)\n",
    "fig.add_trace(go_Pie('2021_China', group(df21,'China','Q2')),2,2)\n",
    "\n",
    "fig.update_traces(marker=dict(colors=gen_colors[0:]),\n",
    "                  rotation=180)\n",
    "fig.update_layout(title_text='Gender Distribution',\n",
    "                  showlegend=True,\n",
    "                  autosize=True,\n",
    "                  height=700)\n",
    "fig.show()"
   ]
  },
  {
   "cell_type": "markdown",
   "id": "3b7df0f4",
   "metadata": {
    "papermill": {
     "duration": 0.048608,
     "end_time": "2021-11-23T02:17:19.194337",
     "exception": false,
     "start_time": "2021-11-23T02:17:19.145729",
     "status": "completed"
    },
    "tags": []
   },
   "source": [
    "# 성비율\n",
    "\n",
    "#### 일본\n",
    "> * 2019년도와 2021년도 모두 남성의 비율이 높으며 여성의 비율은 미미하게 감소했다.\n",
    "\n",
    "#### 중국\n",
    "> * 2019년도와 2021년도 모두 남성의 비율이 높으며 여성의 비율은 미미하게 감소했다.\n",
    "\n",
    "\n",
    "### 일본과 중국 모두 남성의 비율이 압도적으로 높다\n",
    "### 증가한 캐글러들의 성비가 남성의 유입이 많은걸 알 수 있다.\n"
   ]
  },
  {
   "cell_type": "markdown",
   "id": "ba2ba417",
   "metadata": {
    "papermill": {
     "duration": 0.047992,
     "end_time": "2021-11-23T02:17:19.290871",
     "exception": false,
     "start_time": "2021-11-23T02:17:19.242879",
     "status": "completed"
    },
    "tags": []
   },
   "source": [
    "# 2019 vs 2021 (Japan , China)\n",
    "> ##  In which country do you currently reside?"
   ]
  },
  {
   "cell_type": "code",
   "execution_count": 6,
   "id": "aa537493",
   "metadata": {
    "_kg_hide-input": true,
    "execution": {
     "iopub.execute_input": "2021-11-23T02:17:19.407407Z",
     "iopub.status.busy": "2021-11-23T02:17:19.406449Z",
     "iopub.status.idle": "2021-11-23T02:17:19.410885Z",
     "shell.execute_reply": "2021-11-23T02:17:19.411405Z",
     "shell.execute_reply.started": "2021-11-23T01:58:08.123556Z"
    },
    "papermill": {
     "duration": 0.069974,
     "end_time": "2021-11-23T02:17:19.411576",
     "exception": false,
     "start_time": "2021-11-23T02:17:19.341602",
     "status": "completed"
    },
    "tags": []
   },
   "outputs": [
    {
     "data": {
      "application/vnd.plotly.v1+json": {
       "config": {
        "plotlyServerURL": "https://plot.ly"
       },
       "data": [
        {
         "marker": {
          "color": "#D90B0B"
         },
         "name": "Japan",
         "type": "bar",
         "x": [
          "2019",
          "2021"
         ],
         "y": [
          673,
          921
         ]
        },
        {
         "marker": {
          "color": "#FFCE3F"
         },
         "name": "China",
         "type": "bar",
         "x": [
          "2019",
          "2021"
         ],
         "y": [
          574,
          814
         ]
        }
       ],
       "layout": {
        "barmode": "group",
        "template": {
         "data": {
          "bar": [
           {
            "error_x": {
             "color": "#2a3f5f"
            },
            "error_y": {
             "color": "#2a3f5f"
            },
            "marker": {
             "line": {
              "color": "#E5ECF6",
              "width": 0.5
             },
             "pattern": {
              "fillmode": "overlay",
              "size": 10,
              "solidity": 0.2
             }
            },
            "type": "bar"
           }
          ],
          "barpolar": [
           {
            "marker": {
             "line": {
              "color": "#E5ECF6",
              "width": 0.5
             },
             "pattern": {
              "fillmode": "overlay",
              "size": 10,
              "solidity": 0.2
             }
            },
            "type": "barpolar"
           }
          ],
          "carpet": [
           {
            "aaxis": {
             "endlinecolor": "#2a3f5f",
             "gridcolor": "white",
             "linecolor": "white",
             "minorgridcolor": "white",
             "startlinecolor": "#2a3f5f"
            },
            "baxis": {
             "endlinecolor": "#2a3f5f",
             "gridcolor": "white",
             "linecolor": "white",
             "minorgridcolor": "white",
             "startlinecolor": "#2a3f5f"
            },
            "type": "carpet"
           }
          ],
          "choropleth": [
           {
            "colorbar": {
             "outlinewidth": 0,
             "ticks": ""
            },
            "type": "choropleth"
           }
          ],
          "contour": [
           {
            "colorbar": {
             "outlinewidth": 0,
             "ticks": ""
            },
            "colorscale": [
             [
              0.0,
              "#0d0887"
             ],
             [
              0.1111111111111111,
              "#46039f"
             ],
             [
              0.2222222222222222,
              "#7201a8"
             ],
             [
              0.3333333333333333,
              "#9c179e"
             ],
             [
              0.4444444444444444,
              "#bd3786"
             ],
             [
              0.5555555555555556,
              "#d8576b"
             ],
             [
              0.6666666666666666,
              "#ed7953"
             ],
             [
              0.7777777777777778,
              "#fb9f3a"
             ],
             [
              0.8888888888888888,
              "#fdca26"
             ],
             [
              1.0,
              "#f0f921"
             ]
            ],
            "type": "contour"
           }
          ],
          "contourcarpet": [
           {
            "colorbar": {
             "outlinewidth": 0,
             "ticks": ""
            },
            "type": "contourcarpet"
           }
          ],
          "heatmap": [
           {
            "colorbar": {
             "outlinewidth": 0,
             "ticks": ""
            },
            "colorscale": [
             [
              0.0,
              "#0d0887"
             ],
             [
              0.1111111111111111,
              "#46039f"
             ],
             [
              0.2222222222222222,
              "#7201a8"
             ],
             [
              0.3333333333333333,
              "#9c179e"
             ],
             [
              0.4444444444444444,
              "#bd3786"
             ],
             [
              0.5555555555555556,
              "#d8576b"
             ],
             [
              0.6666666666666666,
              "#ed7953"
             ],
             [
              0.7777777777777778,
              "#fb9f3a"
             ],
             [
              0.8888888888888888,
              "#fdca26"
             ],
             [
              1.0,
              "#f0f921"
             ]
            ],
            "type": "heatmap"
           }
          ],
          "heatmapgl": [
           {
            "colorbar": {
             "outlinewidth": 0,
             "ticks": ""
            },
            "colorscale": [
             [
              0.0,
              "#0d0887"
             ],
             [
              0.1111111111111111,
              "#46039f"
             ],
             [
              0.2222222222222222,
              "#7201a8"
             ],
             [
              0.3333333333333333,
              "#9c179e"
             ],
             [
              0.4444444444444444,
              "#bd3786"
             ],
             [
              0.5555555555555556,
              "#d8576b"
             ],
             [
              0.6666666666666666,
              "#ed7953"
             ],
             [
              0.7777777777777778,
              "#fb9f3a"
             ],
             [
              0.8888888888888888,
              "#fdca26"
             ],
             [
              1.0,
              "#f0f921"
             ]
            ],
            "type": "heatmapgl"
           }
          ],
          "histogram": [
           {
            "marker": {
             "pattern": {
              "fillmode": "overlay",
              "size": 10,
              "solidity": 0.2
             }
            },
            "type": "histogram"
           }
          ],
          "histogram2d": [
           {
            "colorbar": {
             "outlinewidth": 0,
             "ticks": ""
            },
            "colorscale": [
             [
              0.0,
              "#0d0887"
             ],
             [
              0.1111111111111111,
              "#46039f"
             ],
             [
              0.2222222222222222,
              "#7201a8"
             ],
             [
              0.3333333333333333,
              "#9c179e"
             ],
             [
              0.4444444444444444,
              "#bd3786"
             ],
             [
              0.5555555555555556,
              "#d8576b"
             ],
             [
              0.6666666666666666,
              "#ed7953"
             ],
             [
              0.7777777777777778,
              "#fb9f3a"
             ],
             [
              0.8888888888888888,
              "#fdca26"
             ],
             [
              1.0,
              "#f0f921"
             ]
            ],
            "type": "histogram2d"
           }
          ],
          "histogram2dcontour": [
           {
            "colorbar": {
             "outlinewidth": 0,
             "ticks": ""
            },
            "colorscale": [
             [
              0.0,
              "#0d0887"
             ],
             [
              0.1111111111111111,
              "#46039f"
             ],
             [
              0.2222222222222222,
              "#7201a8"
             ],
             [
              0.3333333333333333,
              "#9c179e"
             ],
             [
              0.4444444444444444,
              "#bd3786"
             ],
             [
              0.5555555555555556,
              "#d8576b"
             ],
             [
              0.6666666666666666,
              "#ed7953"
             ],
             [
              0.7777777777777778,
              "#fb9f3a"
             ],
             [
              0.8888888888888888,
              "#fdca26"
             ],
             [
              1.0,
              "#f0f921"
             ]
            ],
            "type": "histogram2dcontour"
           }
          ],
          "mesh3d": [
           {
            "colorbar": {
             "outlinewidth": 0,
             "ticks": ""
            },
            "type": "mesh3d"
           }
          ],
          "parcoords": [
           {
            "line": {
             "colorbar": {
              "outlinewidth": 0,
              "ticks": ""
             }
            },
            "type": "parcoords"
           }
          ],
          "pie": [
           {
            "automargin": true,
            "type": "pie"
           }
          ],
          "scatter": [
           {
            "marker": {
             "colorbar": {
              "outlinewidth": 0,
              "ticks": ""
             }
            },
            "type": "scatter"
           }
          ],
          "scatter3d": [
           {
            "line": {
             "colorbar": {
              "outlinewidth": 0,
              "ticks": ""
             }
            },
            "marker": {
             "colorbar": {
              "outlinewidth": 0,
              "ticks": ""
             }
            },
            "type": "scatter3d"
           }
          ],
          "scattercarpet": [
           {
            "marker": {
             "colorbar": {
              "outlinewidth": 0,
              "ticks": ""
             }
            },
            "type": "scattercarpet"
           }
          ],
          "scattergeo": [
           {
            "marker": {
             "colorbar": {
              "outlinewidth": 0,
              "ticks": ""
             }
            },
            "type": "scattergeo"
           }
          ],
          "scattergl": [
           {
            "marker": {
             "colorbar": {
              "outlinewidth": 0,
              "ticks": ""
             }
            },
            "type": "scattergl"
           }
          ],
          "scattermapbox": [
           {
            "marker": {
             "colorbar": {
              "outlinewidth": 0,
              "ticks": ""
             }
            },
            "type": "scattermapbox"
           }
          ],
          "scatterpolar": [
           {
            "marker": {
             "colorbar": {
              "outlinewidth": 0,
              "ticks": ""
             }
            },
            "type": "scatterpolar"
           }
          ],
          "scatterpolargl": [
           {
            "marker": {
             "colorbar": {
              "outlinewidth": 0,
              "ticks": ""
             }
            },
            "type": "scatterpolargl"
           }
          ],
          "scatterternary": [
           {
            "marker": {
             "colorbar": {
              "outlinewidth": 0,
              "ticks": ""
             }
            },
            "type": "scatterternary"
           }
          ],
          "surface": [
           {
            "colorbar": {
             "outlinewidth": 0,
             "ticks": ""
            },
            "colorscale": [
             [
              0.0,
              "#0d0887"
             ],
             [
              0.1111111111111111,
              "#46039f"
             ],
             [
              0.2222222222222222,
              "#7201a8"
             ],
             [
              0.3333333333333333,
              "#9c179e"
             ],
             [
              0.4444444444444444,
              "#bd3786"
             ],
             [
              0.5555555555555556,
              "#d8576b"
             ],
             [
              0.6666666666666666,
              "#ed7953"
             ],
             [
              0.7777777777777778,
              "#fb9f3a"
             ],
             [
              0.8888888888888888,
              "#fdca26"
             ],
             [
              1.0,
              "#f0f921"
             ]
            ],
            "type": "surface"
           }
          ],
          "table": [
           {
            "cells": {
             "fill": {
              "color": "#EBF0F8"
             },
             "line": {
              "color": "white"
             }
            },
            "header": {
             "fill": {
              "color": "#C8D4E3"
             },
             "line": {
              "color": "white"
             }
            },
            "type": "table"
           }
          ]
         },
         "layout": {
          "annotationdefaults": {
           "arrowcolor": "#2a3f5f",
           "arrowhead": 0,
           "arrowwidth": 1
          },
          "autotypenumbers": "strict",
          "coloraxis": {
           "colorbar": {
            "outlinewidth": 0,
            "ticks": ""
           }
          },
          "colorscale": {
           "diverging": [
            [
             0,
             "#8e0152"
            ],
            [
             0.1,
             "#c51b7d"
            ],
            [
             0.2,
             "#de77ae"
            ],
            [
             0.3,
             "#f1b6da"
            ],
            [
             0.4,
             "#fde0ef"
            ],
            [
             0.5,
             "#f7f7f7"
            ],
            [
             0.6,
             "#e6f5d0"
            ],
            [
             0.7,
             "#b8e186"
            ],
            [
             0.8,
             "#7fbc41"
            ],
            [
             0.9,
             "#4d9221"
            ],
            [
             1,
             "#276419"
            ]
           ],
           "sequential": [
            [
             0.0,
             "#0d0887"
            ],
            [
             0.1111111111111111,
             "#46039f"
            ],
            [
             0.2222222222222222,
             "#7201a8"
            ],
            [
             0.3333333333333333,
             "#9c179e"
            ],
            [
             0.4444444444444444,
             "#bd3786"
            ],
            [
             0.5555555555555556,
             "#d8576b"
            ],
            [
             0.6666666666666666,
             "#ed7953"
            ],
            [
             0.7777777777777778,
             "#fb9f3a"
            ],
            [
             0.8888888888888888,
             "#fdca26"
            ],
            [
             1.0,
             "#f0f921"
            ]
           ],
           "sequentialminus": [
            [
             0.0,
             "#0d0887"
            ],
            [
             0.1111111111111111,
             "#46039f"
            ],
            [
             0.2222222222222222,
             "#7201a8"
            ],
            [
             0.3333333333333333,
             "#9c179e"
            ],
            [
             0.4444444444444444,
             "#bd3786"
            ],
            [
             0.5555555555555556,
             "#d8576b"
            ],
            [
             0.6666666666666666,
             "#ed7953"
            ],
            [
             0.7777777777777778,
             "#fb9f3a"
            ],
            [
             0.8888888888888888,
             "#fdca26"
            ],
            [
             1.0,
             "#f0f921"
            ]
           ]
          },
          "colorway": [
           "#636efa",
           "#EF553B",
           "#00cc96",
           "#ab63fa",
           "#FFA15A",
           "#19d3f3",
           "#FF6692",
           "#B6E880",
           "#FF97FF",
           "#FECB52"
          ],
          "font": {
           "color": "#2a3f5f"
          },
          "geo": {
           "bgcolor": "white",
           "lakecolor": "white",
           "landcolor": "#E5ECF6",
           "showlakes": true,
           "showland": true,
           "subunitcolor": "white"
          },
          "hoverlabel": {
           "align": "left"
          },
          "hovermode": "closest",
          "mapbox": {
           "style": "light"
          },
          "paper_bgcolor": "white",
          "plot_bgcolor": "#E5ECF6",
          "polar": {
           "angularaxis": {
            "gridcolor": "white",
            "linecolor": "white",
            "ticks": ""
           },
           "bgcolor": "#E5ECF6",
           "radialaxis": {
            "gridcolor": "white",
            "linecolor": "white",
            "ticks": ""
           }
          },
          "scene": {
           "xaxis": {
            "backgroundcolor": "#E5ECF6",
            "gridcolor": "white",
            "gridwidth": 2,
            "linecolor": "white",
            "showbackground": true,
            "ticks": "",
            "zerolinecolor": "white"
           },
           "yaxis": {
            "backgroundcolor": "#E5ECF6",
            "gridcolor": "white",
            "gridwidth": 2,
            "linecolor": "white",
            "showbackground": true,
            "ticks": "",
            "zerolinecolor": "white"
           },
           "zaxis": {
            "backgroundcolor": "#E5ECF6",
            "gridcolor": "white",
            "gridwidth": 2,
            "linecolor": "white",
            "showbackground": true,
            "ticks": "",
            "zerolinecolor": "white"
           }
          },
          "shapedefaults": {
           "line": {
            "color": "#2a3f5f"
           }
          },
          "ternary": {
           "aaxis": {
            "gridcolor": "white",
            "linecolor": "white",
            "ticks": ""
           },
           "baxis": {
            "gridcolor": "white",
            "linecolor": "white",
            "ticks": ""
           },
           "bgcolor": "#E5ECF6",
           "caxis": {
            "gridcolor": "white",
            "linecolor": "white",
            "ticks": ""
           }
          },
          "title": {
           "x": 0.05
          },
          "xaxis": {
           "automargin": true,
           "gridcolor": "white",
           "linecolor": "white",
           "ticks": "",
           "title": {
            "standoff": 15
           },
           "zerolinecolor": "white",
           "zerolinewidth": 2
          },
          "yaxis": {
           "automargin": true,
           "gridcolor": "white",
           "linecolor": "white",
           "ticks": "",
           "title": {
            "standoff": 15
           },
           "zerolinecolor": "white",
           "zerolinewidth": 2
          }
         }
        },
        "title": {
         "text": "2019 & 2021, the number of Kaggler living in Japan and China"
        },
        "xaxis": {
         "title": {
          "text": "Years"
         }
        },
        "yaxis": {
         "title": {
          "text": "Counts"
         }
        }
       }
      },
      "text/html": [
       "<div>                            <div id=\"8877b41c-3397-4df1-b8de-aed9445c2fff\" class=\"plotly-graph-div\" style=\"height:525px; width:100%;\"></div>            <script type=\"text/javascript\">                require([\"plotly\"], function(Plotly) {                    window.PLOTLYENV=window.PLOTLYENV || {};                                    if (document.getElementById(\"8877b41c-3397-4df1-b8de-aed9445c2fff\")) {                    Plotly.newPlot(                        \"8877b41c-3397-4df1-b8de-aed9445c2fff\",                        [{\"marker\":{\"color\":\"#D90B0B\"},\"name\":\"Japan\",\"type\":\"bar\",\"x\":[\"2019\",\"2021\"],\"y\":[673,921]},{\"marker\":{\"color\":\"#FFCE3F\"},\"name\":\"China\",\"type\":\"bar\",\"x\":[\"2019\",\"2021\"],\"y\":[574,814]}],                        {\"barmode\":\"group\",\"template\":{\"data\":{\"bar\":[{\"error_x\":{\"color\":\"#2a3f5f\"},\"error_y\":{\"color\":\"#2a3f5f\"},\"marker\":{\"line\":{\"color\":\"#E5ECF6\",\"width\":0.5},\"pattern\":{\"fillmode\":\"overlay\",\"size\":10,\"solidity\":0.2}},\"type\":\"bar\"}],\"barpolar\":[{\"marker\":{\"line\":{\"color\":\"#E5ECF6\",\"width\":0.5},\"pattern\":{\"fillmode\":\"overlay\",\"size\":10,\"solidity\":0.2}},\"type\":\"barpolar\"}],\"carpet\":[{\"aaxis\":{\"endlinecolor\":\"#2a3f5f\",\"gridcolor\":\"white\",\"linecolor\":\"white\",\"minorgridcolor\":\"white\",\"startlinecolor\":\"#2a3f5f\"},\"baxis\":{\"endlinecolor\":\"#2a3f5f\",\"gridcolor\":\"white\",\"linecolor\":\"white\",\"minorgridcolor\":\"white\",\"startlinecolor\":\"#2a3f5f\"},\"type\":\"carpet\"}],\"choropleth\":[{\"colorbar\":{\"outlinewidth\":0,\"ticks\":\"\"},\"type\":\"choropleth\"}],\"contour\":[{\"colorbar\":{\"outlinewidth\":0,\"ticks\":\"\"},\"colorscale\":[[0.0,\"#0d0887\"],[0.1111111111111111,\"#46039f\"],[0.2222222222222222,\"#7201a8\"],[0.3333333333333333,\"#9c179e\"],[0.4444444444444444,\"#bd3786\"],[0.5555555555555556,\"#d8576b\"],[0.6666666666666666,\"#ed7953\"],[0.7777777777777778,\"#fb9f3a\"],[0.8888888888888888,\"#fdca26\"],[1.0,\"#f0f921\"]],\"type\":\"contour\"}],\"contourcarpet\":[{\"colorbar\":{\"outlinewidth\":0,\"ticks\":\"\"},\"type\":\"contourcarpet\"}],\"heatmap\":[{\"colorbar\":{\"outlinewidth\":0,\"ticks\":\"\"},\"colorscale\":[[0.0,\"#0d0887\"],[0.1111111111111111,\"#46039f\"],[0.2222222222222222,\"#7201a8\"],[0.3333333333333333,\"#9c179e\"],[0.4444444444444444,\"#bd3786\"],[0.5555555555555556,\"#d8576b\"],[0.6666666666666666,\"#ed7953\"],[0.7777777777777778,\"#fb9f3a\"],[0.8888888888888888,\"#fdca26\"],[1.0,\"#f0f921\"]],\"type\":\"heatmap\"}],\"heatmapgl\":[{\"colorbar\":{\"outlinewidth\":0,\"ticks\":\"\"},\"colorscale\":[[0.0,\"#0d0887\"],[0.1111111111111111,\"#46039f\"],[0.2222222222222222,\"#7201a8\"],[0.3333333333333333,\"#9c179e\"],[0.4444444444444444,\"#bd3786\"],[0.5555555555555556,\"#d8576b\"],[0.6666666666666666,\"#ed7953\"],[0.7777777777777778,\"#fb9f3a\"],[0.8888888888888888,\"#fdca26\"],[1.0,\"#f0f921\"]],\"type\":\"heatmapgl\"}],\"histogram\":[{\"marker\":{\"pattern\":{\"fillmode\":\"overlay\",\"size\":10,\"solidity\":0.2}},\"type\":\"histogram\"}],\"histogram2d\":[{\"colorbar\":{\"outlinewidth\":0,\"ticks\":\"\"},\"colorscale\":[[0.0,\"#0d0887\"],[0.1111111111111111,\"#46039f\"],[0.2222222222222222,\"#7201a8\"],[0.3333333333333333,\"#9c179e\"],[0.4444444444444444,\"#bd3786\"],[0.5555555555555556,\"#d8576b\"],[0.6666666666666666,\"#ed7953\"],[0.7777777777777778,\"#fb9f3a\"],[0.8888888888888888,\"#fdca26\"],[1.0,\"#f0f921\"]],\"type\":\"histogram2d\"}],\"histogram2dcontour\":[{\"colorbar\":{\"outlinewidth\":0,\"ticks\":\"\"},\"colorscale\":[[0.0,\"#0d0887\"],[0.1111111111111111,\"#46039f\"],[0.2222222222222222,\"#7201a8\"],[0.3333333333333333,\"#9c179e\"],[0.4444444444444444,\"#bd3786\"],[0.5555555555555556,\"#d8576b\"],[0.6666666666666666,\"#ed7953\"],[0.7777777777777778,\"#fb9f3a\"],[0.8888888888888888,\"#fdca26\"],[1.0,\"#f0f921\"]],\"type\":\"histogram2dcontour\"}],\"mesh3d\":[{\"colorbar\":{\"outlinewidth\":0,\"ticks\":\"\"},\"type\":\"mesh3d\"}],\"parcoords\":[{\"line\":{\"colorbar\":{\"outlinewidth\":0,\"ticks\":\"\"}},\"type\":\"parcoords\"}],\"pie\":[{\"automargin\":true,\"type\":\"pie\"}],\"scatter\":[{\"marker\":{\"colorbar\":{\"outlinewidth\":0,\"ticks\":\"\"}},\"type\":\"scatter\"}],\"scatter3d\":[{\"line\":{\"colorbar\":{\"outlinewidth\":0,\"ticks\":\"\"}},\"marker\":{\"colorbar\":{\"outlinewidth\":0,\"ticks\":\"\"}},\"type\":\"scatter3d\"}],\"scattercarpet\":[{\"marker\":{\"colorbar\":{\"outlinewidth\":0,\"ticks\":\"\"}},\"type\":\"scattercarpet\"}],\"scattergeo\":[{\"marker\":{\"colorbar\":{\"outlinewidth\":0,\"ticks\":\"\"}},\"type\":\"scattergeo\"}],\"scattergl\":[{\"marker\":{\"colorbar\":{\"outlinewidth\":0,\"ticks\":\"\"}},\"type\":\"scattergl\"}],\"scattermapbox\":[{\"marker\":{\"colorbar\":{\"outlinewidth\":0,\"ticks\":\"\"}},\"type\":\"scattermapbox\"}],\"scatterpolar\":[{\"marker\":{\"colorbar\":{\"outlinewidth\":0,\"ticks\":\"\"}},\"type\":\"scatterpolar\"}],\"scatterpolargl\":[{\"marker\":{\"colorbar\":{\"outlinewidth\":0,\"ticks\":\"\"}},\"type\":\"scatterpolargl\"}],\"scatterternary\":[{\"marker\":{\"colorbar\":{\"outlinewidth\":0,\"ticks\":\"\"}},\"type\":\"scatterternary\"}],\"surface\":[{\"colorbar\":{\"outlinewidth\":0,\"ticks\":\"\"},\"colorscale\":[[0.0,\"#0d0887\"],[0.1111111111111111,\"#46039f\"],[0.2222222222222222,\"#7201a8\"],[0.3333333333333333,\"#9c179e\"],[0.4444444444444444,\"#bd3786\"],[0.5555555555555556,\"#d8576b\"],[0.6666666666666666,\"#ed7953\"],[0.7777777777777778,\"#fb9f3a\"],[0.8888888888888888,\"#fdca26\"],[1.0,\"#f0f921\"]],\"type\":\"surface\"}],\"table\":[{\"cells\":{\"fill\":{\"color\":\"#EBF0F8\"},\"line\":{\"color\":\"white\"}},\"header\":{\"fill\":{\"color\":\"#C8D4E3\"},\"line\":{\"color\":\"white\"}},\"type\":\"table\"}]},\"layout\":{\"annotationdefaults\":{\"arrowcolor\":\"#2a3f5f\",\"arrowhead\":0,\"arrowwidth\":1},\"autotypenumbers\":\"strict\",\"coloraxis\":{\"colorbar\":{\"outlinewidth\":0,\"ticks\":\"\"}},\"colorscale\":{\"diverging\":[[0,\"#8e0152\"],[0.1,\"#c51b7d\"],[0.2,\"#de77ae\"],[0.3,\"#f1b6da\"],[0.4,\"#fde0ef\"],[0.5,\"#f7f7f7\"],[0.6,\"#e6f5d0\"],[0.7,\"#b8e186\"],[0.8,\"#7fbc41\"],[0.9,\"#4d9221\"],[1,\"#276419\"]],\"sequential\":[[0.0,\"#0d0887\"],[0.1111111111111111,\"#46039f\"],[0.2222222222222222,\"#7201a8\"],[0.3333333333333333,\"#9c179e\"],[0.4444444444444444,\"#bd3786\"],[0.5555555555555556,\"#d8576b\"],[0.6666666666666666,\"#ed7953\"],[0.7777777777777778,\"#fb9f3a\"],[0.8888888888888888,\"#fdca26\"],[1.0,\"#f0f921\"]],\"sequentialminus\":[[0.0,\"#0d0887\"],[0.1111111111111111,\"#46039f\"],[0.2222222222222222,\"#7201a8\"],[0.3333333333333333,\"#9c179e\"],[0.4444444444444444,\"#bd3786\"],[0.5555555555555556,\"#d8576b\"],[0.6666666666666666,\"#ed7953\"],[0.7777777777777778,\"#fb9f3a\"],[0.8888888888888888,\"#fdca26\"],[1.0,\"#f0f921\"]]},\"colorway\":[\"#636efa\",\"#EF553B\",\"#00cc96\",\"#ab63fa\",\"#FFA15A\",\"#19d3f3\",\"#FF6692\",\"#B6E880\",\"#FF97FF\",\"#FECB52\"],\"font\":{\"color\":\"#2a3f5f\"},\"geo\":{\"bgcolor\":\"white\",\"lakecolor\":\"white\",\"landcolor\":\"#E5ECF6\",\"showlakes\":true,\"showland\":true,\"subunitcolor\":\"white\"},\"hoverlabel\":{\"align\":\"left\"},\"hovermode\":\"closest\",\"mapbox\":{\"style\":\"light\"},\"paper_bgcolor\":\"white\",\"plot_bgcolor\":\"#E5ECF6\",\"polar\":{\"angularaxis\":{\"gridcolor\":\"white\",\"linecolor\":\"white\",\"ticks\":\"\"},\"bgcolor\":\"#E5ECF6\",\"radialaxis\":{\"gridcolor\":\"white\",\"linecolor\":\"white\",\"ticks\":\"\"}},\"scene\":{\"xaxis\":{\"backgroundcolor\":\"#E5ECF6\",\"gridcolor\":\"white\",\"gridwidth\":2,\"linecolor\":\"white\",\"showbackground\":true,\"ticks\":\"\",\"zerolinecolor\":\"white\"},\"yaxis\":{\"backgroundcolor\":\"#E5ECF6\",\"gridcolor\":\"white\",\"gridwidth\":2,\"linecolor\":\"white\",\"showbackground\":true,\"ticks\":\"\",\"zerolinecolor\":\"white\"},\"zaxis\":{\"backgroundcolor\":\"#E5ECF6\",\"gridcolor\":\"white\",\"gridwidth\":2,\"linecolor\":\"white\",\"showbackground\":true,\"ticks\":\"\",\"zerolinecolor\":\"white\"}},\"shapedefaults\":{\"line\":{\"color\":\"#2a3f5f\"}},\"ternary\":{\"aaxis\":{\"gridcolor\":\"white\",\"linecolor\":\"white\",\"ticks\":\"\"},\"baxis\":{\"gridcolor\":\"white\",\"linecolor\":\"white\",\"ticks\":\"\"},\"bgcolor\":\"#E5ECF6\",\"caxis\":{\"gridcolor\":\"white\",\"linecolor\":\"white\",\"ticks\":\"\"}},\"title\":{\"x\":0.05},\"xaxis\":{\"automargin\":true,\"gridcolor\":\"white\",\"linecolor\":\"white\",\"ticks\":\"\",\"title\":{\"standoff\":15},\"zerolinecolor\":\"white\",\"zerolinewidth\":2},\"yaxis\":{\"automargin\":true,\"gridcolor\":\"white\",\"linecolor\":\"white\",\"ticks\":\"\",\"title\":{\"standoff\":15},\"zerolinecolor\":\"white\",\"zerolinewidth\":2}}},\"title\":{\"text\":\"2019 & 2021, the number of Kaggler living in Japan and China\"},\"xaxis\":{\"title\":{\"text\":\"Years\"}},\"yaxis\":{\"title\":{\"text\":\"Counts\"}}},                        {\"responsive\": true}                    ).then(function(){\n",
       "                            \n",
       "var gd = document.getElementById('8877b41c-3397-4df1-b8de-aed9445c2fff');\n",
       "var x = new MutationObserver(function (mutations, observer) {{\n",
       "        var display = window.getComputedStyle(gd).display;\n",
       "        if (!display || display === 'none') {{\n",
       "            console.log([gd, 'removed!']);\n",
       "            Plotly.purge(gd);\n",
       "            observer.disconnect();\n",
       "        }}\n",
       "}});\n",
       "\n",
       "// Listen for the removal of the full notebook cells\n",
       "var notebookContainer = gd.closest('#notebook-container');\n",
       "if (notebookContainer) {{\n",
       "    x.observe(notebookContainer, {childList: true});\n",
       "}}\n",
       "\n",
       "// Listen for the clearing of the current output cell\n",
       "var outputEl = gd.closest('.output');\n",
       "if (outputEl) {{\n",
       "    x.observe(outputEl, {childList: true});\n",
       "}}\n",
       "\n",
       "                        })                };                });            </script>        </div>"
      ]
     },
     "metadata": {},
     "output_type": "display_data"
    }
   ],
   "source": [
    "fig_country = go.Figure(data=[\n",
    "    go.Bar(name='Japan', x=years, y=JP_country_count_19_21, marker_color=JP_colors[0]),\n",
    "    go.Bar(name='China', x=years, y=CN_country_count_19_21, marker_color=CN_colors[1])\n",
    "])\n",
    "\n",
    "fig_country.update_layout(\n",
    "                    barmode='group',\n",
    "                    title_text='2019 & 2021, the number of Kaggler living in Japan and China',\n",
    "                    xaxis_title='Years',\n",
    "                    yaxis_title='Counts')\n",
    "fig_country.show()\n"
   ]
  },
  {
   "cell_type": "markdown",
   "id": "d8c135cc",
   "metadata": {
    "papermill": {
     "duration": 0.054177,
     "end_time": "2021-11-23T02:17:19.521103",
     "exception": false,
     "start_time": "2021-11-23T02:17:19.466926",
     "status": "completed"
    },
    "tags": []
   },
   "source": [
    " # 인원의 증감\n",
    "\n",
    "#### 일본\n",
    "> * 2019년 673명, 2021년에는 921명으로 약 248명정도 증가 했다.\n",
    "\n",
    "#### 중국\n",
    "> * 2019년 574명, 2021년에는 814명으로 약 240명정도 증가 했다.\n",
    "\n",
    "### 일본이 중국보다 약 90명정도 캐글러가 많으며, \n",
    "### 2019년대비 2021년 현재 두 나라 모두 증가했음을 알 수 있다."
   ]
  },
  {
   "cell_type": "markdown",
   "id": "82b5ae31",
   "metadata": {
    "papermill": {
     "duration": 0.05561,
     "end_time": "2021-11-23T02:17:19.631389",
     "exception": false,
     "start_time": "2021-11-23T02:17:19.575779",
     "status": "completed"
    },
    "tags": []
   },
   "source": [
    "# visualization libraries or tools\n",
    ">  ## What data visualization libraries or tools do you use on a regular basis? (Select all that apply)"
   ]
  },
  {
   "cell_type": "code",
   "execution_count": 7,
   "id": "c488942b",
   "metadata": {
    "_kg_hide-input": true,
    "execution": {
     "iopub.execute_input": "2021-11-23T02:17:19.743900Z",
     "iopub.status.busy": "2021-11-23T02:17:19.743197Z",
     "iopub.status.idle": "2021-11-23T02:17:19.798437Z",
     "shell.execute_reply": "2021-11-23T02:17:19.798987Z",
     "shell.execute_reply.started": "2021-11-23T01:58:08.144681Z"
    },
    "papermill": {
     "duration": 0.113102,
     "end_time": "2021-11-23T02:17:19.799166",
     "exception": false,
     "start_time": "2021-11-23T02:17:19.686064",
     "status": "completed"
    },
    "tags": []
   },
   "outputs": [
    {
     "data": {
      "application/vnd.plotly.v1+json": {
       "config": {
        "plotlyServerURL": "https://plot.ly"
       },
       "data": [
        {
         "marker": {
          "color": "#FDB0C0"
         },
         "name": "2019_JP",
         "type": "bar",
         "x": [
          " Matplotlib ",
          " Seaborn ",
          " Plotly / Plotly Express ",
          " Ggplot / ggplot2 ",
          " Shiny ",
          " D3 js ",
          " Altair ",
          " Bokeh ",
          " Geoplotlib ",
          " Leaflet / Folium ",
          "None",
          "Other"
         ],
         "xaxis": "x",
         "y": [
          367,
          247,
          61,
          79,
          15,
          28,
          2,
          25,
          5,
          5,
          36,
          9
         ],
         "yaxis": "y"
        },
        {
         "marker": {
          "color": "#FFDB81"
         },
         "name": "2019_CN",
         "type": "bar",
         "x": [
          " Matplotlib ",
          " Seaborn ",
          " Plotly / Plotly Express ",
          " Ggplot / ggplot2 ",
          " Shiny ",
          " D3 js ",
          " Altair ",
          " Bokeh ",
          " Geoplotlib ",
          " Leaflet / Folium ",
          "None",
          "Other"
         ],
         "xaxis": "x",
         "y": [
          321,
          160,
          50,
          54,
          6,
          24,
          1,
          6,
          7,
          3,
          22,
          11
         ],
         "yaxis": "y"
        },
        {
         "marker": {
          "color": "#FD4659"
         },
         "name": "2021_JP",
         "type": "bar",
         "x": [
          " Matplotlib ",
          " Seaborn ",
          " Plotly / Plotly Express ",
          " Ggplot / ggplot2 ",
          " Shiny ",
          " D3 js ",
          " Altair ",
          " Bokeh ",
          " Geoplotlib ",
          " Leaflet / Folium ",
          "None",
          "Other"
         ],
         "xaxis": "x2",
         "y": [
          660,
          412,
          115,
          74,
          15,
          27,
          5,
          21,
          6,
          11,
          137,
          21
         ],
         "yaxis": "y2"
        },
        {
         "marker": {
          "color": "#FFAB0F"
         },
         "name": "2021_CN",
         "type": "bar",
         "x": [
          " Matplotlib ",
          " Seaborn ",
          " Plotly / Plotly Express ",
          " Ggplot / ggplot2 ",
          " Shiny ",
          " D3 js ",
          " Altair ",
          " Bokeh ",
          " Geoplotlib ",
          " Leaflet / Folium ",
          "None",
          "Other"
         ],
         "xaxis": "x2",
         "y": [
          491,
          215,
          75,
          72,
          13,
          30,
          4,
          15,
          16,
          13,
          155,
          26
         ],
         "yaxis": "y2"
        }
       ],
       "layout": {
        "autosize": true,
        "showlegend": true,
        "template": {
         "data": {
          "bar": [
           {
            "error_x": {
             "color": "#2a3f5f"
            },
            "error_y": {
             "color": "#2a3f5f"
            },
            "marker": {
             "line": {
              "color": "#E5ECF6",
              "width": 0.5
             },
             "pattern": {
              "fillmode": "overlay",
              "size": 10,
              "solidity": 0.2
             }
            },
            "type": "bar"
           }
          ],
          "barpolar": [
           {
            "marker": {
             "line": {
              "color": "#E5ECF6",
              "width": 0.5
             },
             "pattern": {
              "fillmode": "overlay",
              "size": 10,
              "solidity": 0.2
             }
            },
            "type": "barpolar"
           }
          ],
          "carpet": [
           {
            "aaxis": {
             "endlinecolor": "#2a3f5f",
             "gridcolor": "white",
             "linecolor": "white",
             "minorgridcolor": "white",
             "startlinecolor": "#2a3f5f"
            },
            "baxis": {
             "endlinecolor": "#2a3f5f",
             "gridcolor": "white",
             "linecolor": "white",
             "minorgridcolor": "white",
             "startlinecolor": "#2a3f5f"
            },
            "type": "carpet"
           }
          ],
          "choropleth": [
           {
            "colorbar": {
             "outlinewidth": 0,
             "ticks": ""
            },
            "type": "choropleth"
           }
          ],
          "contour": [
           {
            "colorbar": {
             "outlinewidth": 0,
             "ticks": ""
            },
            "colorscale": [
             [
              0.0,
              "#0d0887"
             ],
             [
              0.1111111111111111,
              "#46039f"
             ],
             [
              0.2222222222222222,
              "#7201a8"
             ],
             [
              0.3333333333333333,
              "#9c179e"
             ],
             [
              0.4444444444444444,
              "#bd3786"
             ],
             [
              0.5555555555555556,
              "#d8576b"
             ],
             [
              0.6666666666666666,
              "#ed7953"
             ],
             [
              0.7777777777777778,
              "#fb9f3a"
             ],
             [
              0.8888888888888888,
              "#fdca26"
             ],
             [
              1.0,
              "#f0f921"
             ]
            ],
            "type": "contour"
           }
          ],
          "contourcarpet": [
           {
            "colorbar": {
             "outlinewidth": 0,
             "ticks": ""
            },
            "type": "contourcarpet"
           }
          ],
          "heatmap": [
           {
            "colorbar": {
             "outlinewidth": 0,
             "ticks": ""
            },
            "colorscale": [
             [
              0.0,
              "#0d0887"
             ],
             [
              0.1111111111111111,
              "#46039f"
             ],
             [
              0.2222222222222222,
              "#7201a8"
             ],
             [
              0.3333333333333333,
              "#9c179e"
             ],
             [
              0.4444444444444444,
              "#bd3786"
             ],
             [
              0.5555555555555556,
              "#d8576b"
             ],
             [
              0.6666666666666666,
              "#ed7953"
             ],
             [
              0.7777777777777778,
              "#fb9f3a"
             ],
             [
              0.8888888888888888,
              "#fdca26"
             ],
             [
              1.0,
              "#f0f921"
             ]
            ],
            "type": "heatmap"
           }
          ],
          "heatmapgl": [
           {
            "colorbar": {
             "outlinewidth": 0,
             "ticks": ""
            },
            "colorscale": [
             [
              0.0,
              "#0d0887"
             ],
             [
              0.1111111111111111,
              "#46039f"
             ],
             [
              0.2222222222222222,
              "#7201a8"
             ],
             [
              0.3333333333333333,
              "#9c179e"
             ],
             [
              0.4444444444444444,
              "#bd3786"
             ],
             [
              0.5555555555555556,
              "#d8576b"
             ],
             [
              0.6666666666666666,
              "#ed7953"
             ],
             [
              0.7777777777777778,
              "#fb9f3a"
             ],
             [
              0.8888888888888888,
              "#fdca26"
             ],
             [
              1.0,
              "#f0f921"
             ]
            ],
            "type": "heatmapgl"
           }
          ],
          "histogram": [
           {
            "marker": {
             "pattern": {
              "fillmode": "overlay",
              "size": 10,
              "solidity": 0.2
             }
            },
            "type": "histogram"
           }
          ],
          "histogram2d": [
           {
            "colorbar": {
             "outlinewidth": 0,
             "ticks": ""
            },
            "colorscale": [
             [
              0.0,
              "#0d0887"
             ],
             [
              0.1111111111111111,
              "#46039f"
             ],
             [
              0.2222222222222222,
              "#7201a8"
             ],
             [
              0.3333333333333333,
              "#9c179e"
             ],
             [
              0.4444444444444444,
              "#bd3786"
             ],
             [
              0.5555555555555556,
              "#d8576b"
             ],
             [
              0.6666666666666666,
              "#ed7953"
             ],
             [
              0.7777777777777778,
              "#fb9f3a"
             ],
             [
              0.8888888888888888,
              "#fdca26"
             ],
             [
              1.0,
              "#f0f921"
             ]
            ],
            "type": "histogram2d"
           }
          ],
          "histogram2dcontour": [
           {
            "colorbar": {
             "outlinewidth": 0,
             "ticks": ""
            },
            "colorscale": [
             [
              0.0,
              "#0d0887"
             ],
             [
              0.1111111111111111,
              "#46039f"
             ],
             [
              0.2222222222222222,
              "#7201a8"
             ],
             [
              0.3333333333333333,
              "#9c179e"
             ],
             [
              0.4444444444444444,
              "#bd3786"
             ],
             [
              0.5555555555555556,
              "#d8576b"
             ],
             [
              0.6666666666666666,
              "#ed7953"
             ],
             [
              0.7777777777777778,
              "#fb9f3a"
             ],
             [
              0.8888888888888888,
              "#fdca26"
             ],
             [
              1.0,
              "#f0f921"
             ]
            ],
            "type": "histogram2dcontour"
           }
          ],
          "mesh3d": [
           {
            "colorbar": {
             "outlinewidth": 0,
             "ticks": ""
            },
            "type": "mesh3d"
           }
          ],
          "parcoords": [
           {
            "line": {
             "colorbar": {
              "outlinewidth": 0,
              "ticks": ""
             }
            },
            "type": "parcoords"
           }
          ],
          "pie": [
           {
            "automargin": true,
            "type": "pie"
           }
          ],
          "scatter": [
           {
            "marker": {
             "colorbar": {
              "outlinewidth": 0,
              "ticks": ""
             }
            },
            "type": "scatter"
           }
          ],
          "scatter3d": [
           {
            "line": {
             "colorbar": {
              "outlinewidth": 0,
              "ticks": ""
             }
            },
            "marker": {
             "colorbar": {
              "outlinewidth": 0,
              "ticks": ""
             }
            },
            "type": "scatter3d"
           }
          ],
          "scattercarpet": [
           {
            "marker": {
             "colorbar": {
              "outlinewidth": 0,
              "ticks": ""
             }
            },
            "type": "scattercarpet"
           }
          ],
          "scattergeo": [
           {
            "marker": {
             "colorbar": {
              "outlinewidth": 0,
              "ticks": ""
             }
            },
            "type": "scattergeo"
           }
          ],
          "scattergl": [
           {
            "marker": {
             "colorbar": {
              "outlinewidth": 0,
              "ticks": ""
             }
            },
            "type": "scattergl"
           }
          ],
          "scattermapbox": [
           {
            "marker": {
             "colorbar": {
              "outlinewidth": 0,
              "ticks": ""
             }
            },
            "type": "scattermapbox"
           }
          ],
          "scatterpolar": [
           {
            "marker": {
             "colorbar": {
              "outlinewidth": 0,
              "ticks": ""
             }
            },
            "type": "scatterpolar"
           }
          ],
          "scatterpolargl": [
           {
            "marker": {
             "colorbar": {
              "outlinewidth": 0,
              "ticks": ""
             }
            },
            "type": "scatterpolargl"
           }
          ],
          "scatterternary": [
           {
            "marker": {
             "colorbar": {
              "outlinewidth": 0,
              "ticks": ""
             }
            },
            "type": "scatterternary"
           }
          ],
          "surface": [
           {
            "colorbar": {
             "outlinewidth": 0,
             "ticks": ""
            },
            "colorscale": [
             [
              0.0,
              "#0d0887"
             ],
             [
              0.1111111111111111,
              "#46039f"
             ],
             [
              0.2222222222222222,
              "#7201a8"
             ],
             [
              0.3333333333333333,
              "#9c179e"
             ],
             [
              0.4444444444444444,
              "#bd3786"
             ],
             [
              0.5555555555555556,
              "#d8576b"
             ],
             [
              0.6666666666666666,
              "#ed7953"
             ],
             [
              0.7777777777777778,
              "#fb9f3a"
             ],
             [
              0.8888888888888888,
              "#fdca26"
             ],
             [
              1.0,
              "#f0f921"
             ]
            ],
            "type": "surface"
           }
          ],
          "table": [
           {
            "cells": {
             "fill": {
              "color": "#EBF0F8"
             },
             "line": {
              "color": "white"
             }
            },
            "header": {
             "fill": {
              "color": "#C8D4E3"
             },
             "line": {
              "color": "white"
             }
            },
            "type": "table"
           }
          ]
         },
         "layout": {
          "annotationdefaults": {
           "arrowcolor": "#2a3f5f",
           "arrowhead": 0,
           "arrowwidth": 1
          },
          "autotypenumbers": "strict",
          "coloraxis": {
           "colorbar": {
            "outlinewidth": 0,
            "ticks": ""
           }
          },
          "colorscale": {
           "diverging": [
            [
             0,
             "#8e0152"
            ],
            [
             0.1,
             "#c51b7d"
            ],
            [
             0.2,
             "#de77ae"
            ],
            [
             0.3,
             "#f1b6da"
            ],
            [
             0.4,
             "#fde0ef"
            ],
            [
             0.5,
             "#f7f7f7"
            ],
            [
             0.6,
             "#e6f5d0"
            ],
            [
             0.7,
             "#b8e186"
            ],
            [
             0.8,
             "#7fbc41"
            ],
            [
             0.9,
             "#4d9221"
            ],
            [
             1,
             "#276419"
            ]
           ],
           "sequential": [
            [
             0.0,
             "#0d0887"
            ],
            [
             0.1111111111111111,
             "#46039f"
            ],
            [
             0.2222222222222222,
             "#7201a8"
            ],
            [
             0.3333333333333333,
             "#9c179e"
            ],
            [
             0.4444444444444444,
             "#bd3786"
            ],
            [
             0.5555555555555556,
             "#d8576b"
            ],
            [
             0.6666666666666666,
             "#ed7953"
            ],
            [
             0.7777777777777778,
             "#fb9f3a"
            ],
            [
             0.8888888888888888,
             "#fdca26"
            ],
            [
             1.0,
             "#f0f921"
            ]
           ],
           "sequentialminus": [
            [
             0.0,
             "#0d0887"
            ],
            [
             0.1111111111111111,
             "#46039f"
            ],
            [
             0.2222222222222222,
             "#7201a8"
            ],
            [
             0.3333333333333333,
             "#9c179e"
            ],
            [
             0.4444444444444444,
             "#bd3786"
            ],
            [
             0.5555555555555556,
             "#d8576b"
            ],
            [
             0.6666666666666666,
             "#ed7953"
            ],
            [
             0.7777777777777778,
             "#fb9f3a"
            ],
            [
             0.8888888888888888,
             "#fdca26"
            ],
            [
             1.0,
             "#f0f921"
            ]
           ]
          },
          "colorway": [
           "#636efa",
           "#EF553B",
           "#00cc96",
           "#ab63fa",
           "#FFA15A",
           "#19d3f3",
           "#FF6692",
           "#B6E880",
           "#FF97FF",
           "#FECB52"
          ],
          "font": {
           "color": "#2a3f5f"
          },
          "geo": {
           "bgcolor": "white",
           "lakecolor": "white",
           "landcolor": "#E5ECF6",
           "showlakes": true,
           "showland": true,
           "subunitcolor": "white"
          },
          "hoverlabel": {
           "align": "left"
          },
          "hovermode": "closest",
          "mapbox": {
           "style": "light"
          },
          "paper_bgcolor": "white",
          "plot_bgcolor": "#E5ECF6",
          "polar": {
           "angularaxis": {
            "gridcolor": "white",
            "linecolor": "white",
            "ticks": ""
           },
           "bgcolor": "#E5ECF6",
           "radialaxis": {
            "gridcolor": "white",
            "linecolor": "white",
            "ticks": ""
           }
          },
          "scene": {
           "xaxis": {
            "backgroundcolor": "#E5ECF6",
            "gridcolor": "white",
            "gridwidth": 2,
            "linecolor": "white",
            "showbackground": true,
            "ticks": "",
            "zerolinecolor": "white"
           },
           "yaxis": {
            "backgroundcolor": "#E5ECF6",
            "gridcolor": "white",
            "gridwidth": 2,
            "linecolor": "white",
            "showbackground": true,
            "ticks": "",
            "zerolinecolor": "white"
           },
           "zaxis": {
            "backgroundcolor": "#E5ECF6",
            "gridcolor": "white",
            "gridwidth": 2,
            "linecolor": "white",
            "showbackground": true,
            "ticks": "",
            "zerolinecolor": "white"
           }
          },
          "shapedefaults": {
           "line": {
            "color": "#2a3f5f"
           }
          },
          "ternary": {
           "aaxis": {
            "gridcolor": "white",
            "linecolor": "white",
            "ticks": ""
           },
           "baxis": {
            "gridcolor": "white",
            "linecolor": "white",
            "ticks": ""
           },
           "bgcolor": "#E5ECF6",
           "caxis": {
            "gridcolor": "white",
            "linecolor": "white",
            "ticks": ""
           }
          },
          "title": {
           "x": 0.05
          },
          "xaxis": {
           "automargin": true,
           "gridcolor": "white",
           "linecolor": "white",
           "ticks": "",
           "title": {
            "standoff": 15
           },
           "zerolinecolor": "white",
           "zerolinewidth": 2
          },
          "yaxis": {
           "automargin": true,
           "gridcolor": "white",
           "linecolor": "white",
           "ticks": "",
           "title": {
            "standoff": 15
           },
           "zerolinecolor": "white",
           "zerolinewidth": 2
          }
         }
        },
        "title": {
         "text": "2019 & 2021, Visualization Library and Tools in Use"
        },
        "xaxis": {
         "anchor": "y",
         "domain": [
          0.0,
          0.45
         ],
         "title": {
          "text": "2019 Library and Tools"
         }
        },
        "xaxis2": {
         "anchor": "y2",
         "domain": [
          0.55,
          1.0
         ],
         "title": {
          "text": "2021 Library and Tools"
         }
        },
        "yaxis": {
         "anchor": "x",
         "domain": [
          0.0,
          1.0
         ],
         "title": {
          "text": "Counts"
         }
        },
        "yaxis2": {
         "anchor": "x2",
         "domain": [
          0.0,
          1.0
         ],
         "title": {
          "text": "Counts"
         }
        }
       }
      },
      "text/html": [
       "<div>                            <div id=\"72e18eac-6fbd-471d-a34b-0323d218cf19\" class=\"plotly-graph-div\" style=\"height:525px; width:100%;\"></div>            <script type=\"text/javascript\">                require([\"plotly\"], function(Plotly) {                    window.PLOTLYENV=window.PLOTLYENV || {};                                    if (document.getElementById(\"72e18eac-6fbd-471d-a34b-0323d218cf19\")) {                    Plotly.newPlot(                        \"72e18eac-6fbd-471d-a34b-0323d218cf19\",                        [{\"marker\":{\"color\":\"#FDB0C0\"},\"name\":\"2019_JP\",\"type\":\"bar\",\"x\":[\" Matplotlib \",\" Seaborn \",\" Plotly / Plotly Express \",\" Ggplot / ggplot2 \",\" Shiny \",\" D3 js \",\" Altair \",\" Bokeh \",\" Geoplotlib \",\" Leaflet / Folium \",\"None\",\"Other\"],\"xaxis\":\"x\",\"y\":[367,247,61,79,15,28,2,25,5,5,36,9],\"yaxis\":\"y\"},{\"marker\":{\"color\":\"#FFDB81\"},\"name\":\"2019_CN\",\"type\":\"bar\",\"x\":[\" Matplotlib \",\" Seaborn \",\" Plotly / Plotly Express \",\" Ggplot / ggplot2 \",\" Shiny \",\" D3 js \",\" Altair \",\" Bokeh \",\" Geoplotlib \",\" Leaflet / Folium \",\"None\",\"Other\"],\"xaxis\":\"x\",\"y\":[321,160,50,54,6,24,1,6,7,3,22,11],\"yaxis\":\"y\"},{\"marker\":{\"color\":\"#FD4659\"},\"name\":\"2021_JP\",\"type\":\"bar\",\"x\":[\" Matplotlib \",\" Seaborn \",\" Plotly / Plotly Express \",\" Ggplot / ggplot2 \",\" Shiny \",\" D3 js \",\" Altair \",\" Bokeh \",\" Geoplotlib \",\" Leaflet / Folium \",\"None\",\"Other\"],\"xaxis\":\"x2\",\"y\":[660,412,115,74,15,27,5,21,6,11,137,21],\"yaxis\":\"y2\"},{\"marker\":{\"color\":\"#FFAB0F\"},\"name\":\"2021_CN\",\"type\":\"bar\",\"x\":[\" Matplotlib \",\" Seaborn \",\" Plotly / Plotly Express \",\" Ggplot / ggplot2 \",\" Shiny \",\" D3 js \",\" Altair \",\" Bokeh \",\" Geoplotlib \",\" Leaflet / Folium \",\"None\",\"Other\"],\"xaxis\":\"x2\",\"y\":[491,215,75,72,13,30,4,15,16,13,155,26],\"yaxis\":\"y2\"}],                        {\"autosize\":true,\"showlegend\":true,\"template\":{\"data\":{\"bar\":[{\"error_x\":{\"color\":\"#2a3f5f\"},\"error_y\":{\"color\":\"#2a3f5f\"},\"marker\":{\"line\":{\"color\":\"#E5ECF6\",\"width\":0.5},\"pattern\":{\"fillmode\":\"overlay\",\"size\":10,\"solidity\":0.2}},\"type\":\"bar\"}],\"barpolar\":[{\"marker\":{\"line\":{\"color\":\"#E5ECF6\",\"width\":0.5},\"pattern\":{\"fillmode\":\"overlay\",\"size\":10,\"solidity\":0.2}},\"type\":\"barpolar\"}],\"carpet\":[{\"aaxis\":{\"endlinecolor\":\"#2a3f5f\",\"gridcolor\":\"white\",\"linecolor\":\"white\",\"minorgridcolor\":\"white\",\"startlinecolor\":\"#2a3f5f\"},\"baxis\":{\"endlinecolor\":\"#2a3f5f\",\"gridcolor\":\"white\",\"linecolor\":\"white\",\"minorgridcolor\":\"white\",\"startlinecolor\":\"#2a3f5f\"},\"type\":\"carpet\"}],\"choropleth\":[{\"colorbar\":{\"outlinewidth\":0,\"ticks\":\"\"},\"type\":\"choropleth\"}],\"contour\":[{\"colorbar\":{\"outlinewidth\":0,\"ticks\":\"\"},\"colorscale\":[[0.0,\"#0d0887\"],[0.1111111111111111,\"#46039f\"],[0.2222222222222222,\"#7201a8\"],[0.3333333333333333,\"#9c179e\"],[0.4444444444444444,\"#bd3786\"],[0.5555555555555556,\"#d8576b\"],[0.6666666666666666,\"#ed7953\"],[0.7777777777777778,\"#fb9f3a\"],[0.8888888888888888,\"#fdca26\"],[1.0,\"#f0f921\"]],\"type\":\"contour\"}],\"contourcarpet\":[{\"colorbar\":{\"outlinewidth\":0,\"ticks\":\"\"},\"type\":\"contourcarpet\"}],\"heatmap\":[{\"colorbar\":{\"outlinewidth\":0,\"ticks\":\"\"},\"colorscale\":[[0.0,\"#0d0887\"],[0.1111111111111111,\"#46039f\"],[0.2222222222222222,\"#7201a8\"],[0.3333333333333333,\"#9c179e\"],[0.4444444444444444,\"#bd3786\"],[0.5555555555555556,\"#d8576b\"],[0.6666666666666666,\"#ed7953\"],[0.7777777777777778,\"#fb9f3a\"],[0.8888888888888888,\"#fdca26\"],[1.0,\"#f0f921\"]],\"type\":\"heatmap\"}],\"heatmapgl\":[{\"colorbar\":{\"outlinewidth\":0,\"ticks\":\"\"},\"colorscale\":[[0.0,\"#0d0887\"],[0.1111111111111111,\"#46039f\"],[0.2222222222222222,\"#7201a8\"],[0.3333333333333333,\"#9c179e\"],[0.4444444444444444,\"#bd3786\"],[0.5555555555555556,\"#d8576b\"],[0.6666666666666666,\"#ed7953\"],[0.7777777777777778,\"#fb9f3a\"],[0.8888888888888888,\"#fdca26\"],[1.0,\"#f0f921\"]],\"type\":\"heatmapgl\"}],\"histogram\":[{\"marker\":{\"pattern\":{\"fillmode\":\"overlay\",\"size\":10,\"solidity\":0.2}},\"type\":\"histogram\"}],\"histogram2d\":[{\"colorbar\":{\"outlinewidth\":0,\"ticks\":\"\"},\"colorscale\":[[0.0,\"#0d0887\"],[0.1111111111111111,\"#46039f\"],[0.2222222222222222,\"#7201a8\"],[0.3333333333333333,\"#9c179e\"],[0.4444444444444444,\"#bd3786\"],[0.5555555555555556,\"#d8576b\"],[0.6666666666666666,\"#ed7953\"],[0.7777777777777778,\"#fb9f3a\"],[0.8888888888888888,\"#fdca26\"],[1.0,\"#f0f921\"]],\"type\":\"histogram2d\"}],\"histogram2dcontour\":[{\"colorbar\":{\"outlinewidth\":0,\"ticks\":\"\"},\"colorscale\":[[0.0,\"#0d0887\"],[0.1111111111111111,\"#46039f\"],[0.2222222222222222,\"#7201a8\"],[0.3333333333333333,\"#9c179e\"],[0.4444444444444444,\"#bd3786\"],[0.5555555555555556,\"#d8576b\"],[0.6666666666666666,\"#ed7953\"],[0.7777777777777778,\"#fb9f3a\"],[0.8888888888888888,\"#fdca26\"],[1.0,\"#f0f921\"]],\"type\":\"histogram2dcontour\"}],\"mesh3d\":[{\"colorbar\":{\"outlinewidth\":0,\"ticks\":\"\"},\"type\":\"mesh3d\"}],\"parcoords\":[{\"line\":{\"colorbar\":{\"outlinewidth\":0,\"ticks\":\"\"}},\"type\":\"parcoords\"}],\"pie\":[{\"automargin\":true,\"type\":\"pie\"}],\"scatter\":[{\"marker\":{\"colorbar\":{\"outlinewidth\":0,\"ticks\":\"\"}},\"type\":\"scatter\"}],\"scatter3d\":[{\"line\":{\"colorbar\":{\"outlinewidth\":0,\"ticks\":\"\"}},\"marker\":{\"colorbar\":{\"outlinewidth\":0,\"ticks\":\"\"}},\"type\":\"scatter3d\"}],\"scattercarpet\":[{\"marker\":{\"colorbar\":{\"outlinewidth\":0,\"ticks\":\"\"}},\"type\":\"scattercarpet\"}],\"scattergeo\":[{\"marker\":{\"colorbar\":{\"outlinewidth\":0,\"ticks\":\"\"}},\"type\":\"scattergeo\"}],\"scattergl\":[{\"marker\":{\"colorbar\":{\"outlinewidth\":0,\"ticks\":\"\"}},\"type\":\"scattergl\"}],\"scattermapbox\":[{\"marker\":{\"colorbar\":{\"outlinewidth\":0,\"ticks\":\"\"}},\"type\":\"scattermapbox\"}],\"scatterpolar\":[{\"marker\":{\"colorbar\":{\"outlinewidth\":0,\"ticks\":\"\"}},\"type\":\"scatterpolar\"}],\"scatterpolargl\":[{\"marker\":{\"colorbar\":{\"outlinewidth\":0,\"ticks\":\"\"}},\"type\":\"scatterpolargl\"}],\"scatterternary\":[{\"marker\":{\"colorbar\":{\"outlinewidth\":0,\"ticks\":\"\"}},\"type\":\"scatterternary\"}],\"surface\":[{\"colorbar\":{\"outlinewidth\":0,\"ticks\":\"\"},\"colorscale\":[[0.0,\"#0d0887\"],[0.1111111111111111,\"#46039f\"],[0.2222222222222222,\"#7201a8\"],[0.3333333333333333,\"#9c179e\"],[0.4444444444444444,\"#bd3786\"],[0.5555555555555556,\"#d8576b\"],[0.6666666666666666,\"#ed7953\"],[0.7777777777777778,\"#fb9f3a\"],[0.8888888888888888,\"#fdca26\"],[1.0,\"#f0f921\"]],\"type\":\"surface\"}],\"table\":[{\"cells\":{\"fill\":{\"color\":\"#EBF0F8\"},\"line\":{\"color\":\"white\"}},\"header\":{\"fill\":{\"color\":\"#C8D4E3\"},\"line\":{\"color\":\"white\"}},\"type\":\"table\"}]},\"layout\":{\"annotationdefaults\":{\"arrowcolor\":\"#2a3f5f\",\"arrowhead\":0,\"arrowwidth\":1},\"autotypenumbers\":\"strict\",\"coloraxis\":{\"colorbar\":{\"outlinewidth\":0,\"ticks\":\"\"}},\"colorscale\":{\"diverging\":[[0,\"#8e0152\"],[0.1,\"#c51b7d\"],[0.2,\"#de77ae\"],[0.3,\"#f1b6da\"],[0.4,\"#fde0ef\"],[0.5,\"#f7f7f7\"],[0.6,\"#e6f5d0\"],[0.7,\"#b8e186\"],[0.8,\"#7fbc41\"],[0.9,\"#4d9221\"],[1,\"#276419\"]],\"sequential\":[[0.0,\"#0d0887\"],[0.1111111111111111,\"#46039f\"],[0.2222222222222222,\"#7201a8\"],[0.3333333333333333,\"#9c179e\"],[0.4444444444444444,\"#bd3786\"],[0.5555555555555556,\"#d8576b\"],[0.6666666666666666,\"#ed7953\"],[0.7777777777777778,\"#fb9f3a\"],[0.8888888888888888,\"#fdca26\"],[1.0,\"#f0f921\"]],\"sequentialminus\":[[0.0,\"#0d0887\"],[0.1111111111111111,\"#46039f\"],[0.2222222222222222,\"#7201a8\"],[0.3333333333333333,\"#9c179e\"],[0.4444444444444444,\"#bd3786\"],[0.5555555555555556,\"#d8576b\"],[0.6666666666666666,\"#ed7953\"],[0.7777777777777778,\"#fb9f3a\"],[0.8888888888888888,\"#fdca26\"],[1.0,\"#f0f921\"]]},\"colorway\":[\"#636efa\",\"#EF553B\",\"#00cc96\",\"#ab63fa\",\"#FFA15A\",\"#19d3f3\",\"#FF6692\",\"#B6E880\",\"#FF97FF\",\"#FECB52\"],\"font\":{\"color\":\"#2a3f5f\"},\"geo\":{\"bgcolor\":\"white\",\"lakecolor\":\"white\",\"landcolor\":\"#E5ECF6\",\"showlakes\":true,\"showland\":true,\"subunitcolor\":\"white\"},\"hoverlabel\":{\"align\":\"left\"},\"hovermode\":\"closest\",\"mapbox\":{\"style\":\"light\"},\"paper_bgcolor\":\"white\",\"plot_bgcolor\":\"#E5ECF6\",\"polar\":{\"angularaxis\":{\"gridcolor\":\"white\",\"linecolor\":\"white\",\"ticks\":\"\"},\"bgcolor\":\"#E5ECF6\",\"radialaxis\":{\"gridcolor\":\"white\",\"linecolor\":\"white\",\"ticks\":\"\"}},\"scene\":{\"xaxis\":{\"backgroundcolor\":\"#E5ECF6\",\"gridcolor\":\"white\",\"gridwidth\":2,\"linecolor\":\"white\",\"showbackground\":true,\"ticks\":\"\",\"zerolinecolor\":\"white\"},\"yaxis\":{\"backgroundcolor\":\"#E5ECF6\",\"gridcolor\":\"white\",\"gridwidth\":2,\"linecolor\":\"white\",\"showbackground\":true,\"ticks\":\"\",\"zerolinecolor\":\"white\"},\"zaxis\":{\"backgroundcolor\":\"#E5ECF6\",\"gridcolor\":\"white\",\"gridwidth\":2,\"linecolor\":\"white\",\"showbackground\":true,\"ticks\":\"\",\"zerolinecolor\":\"white\"}},\"shapedefaults\":{\"line\":{\"color\":\"#2a3f5f\"}},\"ternary\":{\"aaxis\":{\"gridcolor\":\"white\",\"linecolor\":\"white\",\"ticks\":\"\"},\"baxis\":{\"gridcolor\":\"white\",\"linecolor\":\"white\",\"ticks\":\"\"},\"bgcolor\":\"#E5ECF6\",\"caxis\":{\"gridcolor\":\"white\",\"linecolor\":\"white\",\"ticks\":\"\"}},\"title\":{\"x\":0.05},\"xaxis\":{\"automargin\":true,\"gridcolor\":\"white\",\"linecolor\":\"white\",\"ticks\":\"\",\"title\":{\"standoff\":15},\"zerolinecolor\":\"white\",\"zerolinewidth\":2},\"yaxis\":{\"automargin\":true,\"gridcolor\":\"white\",\"linecolor\":\"white\",\"ticks\":\"\",\"title\":{\"standoff\":15},\"zerolinecolor\":\"white\",\"zerolinewidth\":2}}},\"title\":{\"text\":\"2019 & 2021, Visualization Library and Tools in Use\"},\"xaxis\":{\"anchor\":\"y\",\"domain\":[0.0,0.45],\"title\":{\"text\":\"2019 Library and Tools\"}},\"xaxis2\":{\"anchor\":\"y2\",\"domain\":[0.55,1.0],\"title\":{\"text\":\"2021 Library and Tools\"}},\"yaxis\":{\"anchor\":\"x\",\"domain\":[0.0,1.0],\"title\":{\"text\":\"Counts\"}},\"yaxis2\":{\"anchor\":\"x2\",\"domain\":[0.0,1.0],\"title\":{\"text\":\"Counts\"}}},                        {\"responsive\": true}                    ).then(function(){\n",
       "                            \n",
       "var gd = document.getElementById('72e18eac-6fbd-471d-a34b-0323d218cf19');\n",
       "var x = new MutationObserver(function (mutations, observer) {{\n",
       "        var display = window.getComputedStyle(gd).display;\n",
       "        if (!display || display === 'none') {{\n",
       "            console.log([gd, 'removed!']);\n",
       "            Plotly.purge(gd);\n",
       "            observer.disconnect();\n",
       "        }}\n",
       "}});\n",
       "\n",
       "// Listen for the removal of the full notebook cells\n",
       "var notebookContainer = gd.closest('#notebook-container');\n",
       "if (notebookContainer) {{\n",
       "    x.observe(notebookContainer, {childList: true});\n",
       "}}\n",
       "\n",
       "// Listen for the clearing of the current output cell\n",
       "var outputEl = gd.closest('.output');\n",
       "if (outputEl) {{\n",
       "    x.observe(outputEl, {childList: true});\n",
       "}}\n",
       "\n",
       "                        })                };                });            </script>        </div>"
      ]
     },
     "metadata": {},
     "output_type": "display_data"
    }
   ],
   "source": [
    "fig_T = make_subplots(rows=1, cols=2, specs=[[{'type':'xy'}, {'type':'xy'}]])\n",
    "\n",
    "fig_T.add_trace(go.Bar(name=coun_years[0], x=df19_JP_Q14['Q20'].values, y=df19_JP_Q14['counts'].values, marker_color=coun_years_colors[0]),1,1)\n",
    "fig_T.add_trace(go.Bar(name=coun_years[1], x=df19_CN_Q14['Q20'].values, y=df19_CN_Q14['counts'].values, marker_color=coun_years_colors[1]),1,1)\n",
    "fig_T.add_trace(go.Bar(name=coun_years[2], x=df21_JP_Q14['Q14'].values, y=df21_JP_Q14['counts'].values, marker_color=coun_years_colors[2]),1,2)\n",
    "fig_T.add_trace(go.Bar(name=coun_years[3], x=df21_CN_Q14['Q14'].values, y=df21_CN_Q14['counts'].values, marker_color=coun_years_colors[3]),1,2)\n",
    "\n",
    "fig_T.update_layout(title_text='2019 & 2021, Visualization Library and Tools in Use',\n",
    "                    showlegend=True,\n",
    "                    autosize=True)\n",
    "\n",
    "fig_T.update_xaxes(title_text='2019 Library and Tools', row=1, col=1)\n",
    "fig_T.update_yaxes(title_text='Counts', row=1, col=1)\n",
    "fig_T.update_xaxes(title_text='2021 Library and Tools', row=1, col=2)\n",
    "fig_T.update_yaxes(title_text='Counts', row=1, col=2)\n",
    "\n",
    "fig_T.show()"
   ]
  },
  {
   "cell_type": "markdown",
   "id": "c28b6859",
   "metadata": {
    "papermill": {
     "duration": 0.06178,
     "end_time": "2021-11-23T02:17:19.923042",
     "exception": false,
     "start_time": "2021-11-23T02:17:19.861262",
     "status": "completed"
    },
    "tags": []
   },
   "source": [
    "# 라이브러리와 툴 프로그램\n",
    "#### 일본\n",
    "> * 2019년 일본은 Matplotlib수치가 367로 가장 높은 비율이며, 두번째로는 seaborn(247) 세번째로는 Ggplot/ggplot2(79) 네번째로는 Plotly(61)이다.\n",
    "> * 2021년 일본은 Matplotlib수치가 660로 가장 높은 비율이며, 두번째로는 seaborn(412) 세번째로는 None(137) 네번째는 Plotly(115) 다섯번째가 Ggplot/gglot2(74)이다.\n",
    "> * 2019년 대비 Matplotlib가 2배에 가까운 수치로 증가했으며, seaborn이 뒤를 따르고 있다. None의 응답수도 많아졌으며, 2019년에 세번째로 비율이 높았던 Ggplot/ggplot2의 인원과 비율이 줄었다.\n",
    "> * Plotly는 2019년 대비 인원과 비율이 증가했으며 None의 응답을 제외하면 3번째의 비율을 차지하고 있다.\n",
    "\n",
    "#### 중국\n",
    "> * 2019년 중국은 Matplotlib수치가 321로 가장 높은 비율이며, 두번째로는 seaborn(160) 세번째로는 Ggplot/gglot2(54) 네번째로는 Plotly(50)이다.\n",
    "> * 2021년 중국은 Matplotlib수치가 491로 가장 높은 비율이며, 두번째로는 Seaborn(215) 세번째로는 None(155) 네번째는 Plotly(75) 다섯번째로 Ggplot/ggplot2(72)이다.\n",
    "> * 2019년 대비 Matplotlib의 수치가 약 170명 정도 늘어 났고 seaborn 또한 약 50명정도 늘어났으며 세번째로 높았던 Ggplot/ggplot2의 시용은 소폭 증가했지만 Plotly의 증가에 뒤쳐졌다. None의 응답수가 눈에 띄게 증가했다.\n",
    "\n",
    "### 2019년과 대비해 기존에 높았던 Matplotlib와 Seaborn 차지 비율은 더 높아졌고 Plotly/Plotly Express이 Ggplot/ggplot2를 제치고 증가했다."
   ]
  },
  {
   "cell_type": "markdown",
   "id": "8ae2deff",
   "metadata": {
    "papermill": {
     "duration": 0.061998,
     "end_time": "2021-11-23T02:17:20.047725",
     "exception": false,
     "start_time": "2021-11-23T02:17:19.985727",
     "status": "completed"
    },
    "tags": []
   },
   "source": [
    "# Japan & China programming languages\n",
    "> ## What data visualization libraries or tools do you use on a regular basis? (Select all that apply)"
   ]
  },
  {
   "cell_type": "markdown",
   "id": "d1f21aed",
   "metadata": {
    "papermill": {
     "duration": 0.062955,
     "end_time": "2021-11-23T02:17:20.172842",
     "exception": false,
     "start_time": "2021-11-23T02:17:20.109887",
     "status": "completed"
    },
    "tags": []
   },
   "source": [
    "### 2021 Japan & China total Dataframe SET\n",
    "2021년 Q3(Country) 일본 중국 추출 dataframe"
   ]
  },
  {
   "cell_type": "code",
   "execution_count": 8,
   "id": "b9150312",
   "metadata": {
    "_kg_hide-input": true,
    "execution": {
     "iopub.execute_input": "2021-11-23T02:17:20.301204Z",
     "iopub.status.busy": "2021-11-23T02:17:20.300438Z",
     "iopub.status.idle": "2021-11-23T02:17:20.340201Z",
     "shell.execute_reply": "2021-11-23T02:17:20.340777Z",
     "shell.execute_reply.started": "2021-11-23T01:58:08.210099Z"
    },
    "jupyter": {
     "source_hidden": true
    },
    "papermill": {
     "duration": 0.105539,
     "end_time": "2021-11-23T02:17:20.340973",
     "exception": false,
     "start_time": "2021-11-23T02:17:20.235434",
     "status": "completed"
    },
    "tags": []
   },
   "outputs": [],
   "source": [
    "df21_ChJp = df21[df21.Q3.isin([\"Japan\",\"China\"])]\n",
    "\n",
    "df21_ChJp_total_PL = pd.DataFrame()\n",
    "df21_ChJp_total_PL['Program_Language'] = [df21_ChJp[col][1:].value_counts().index[0] for col in df21_ChJp.columns[7:20]]\n",
    "df21_ChJp_total_PL['counts'] = [df21_ChJp[col][1:].value_counts().values[0] for col in df21_ChJp.columns[7:20]]"
   ]
  },
  {
   "cell_type": "markdown",
   "id": "5b6a237b",
   "metadata": {
    "papermill": {
     "duration": 0.061802,
     "end_time": "2021-11-23T02:17:20.464637",
     "exception": false,
     "start_time": "2021-11-23T02:17:20.402835",
     "status": "completed"
    },
    "tags": []
   },
   "source": [
    "### 2019 Japan & China total\n",
    "2019년 Q3(Country) 일본 중국 추출 dataframe"
   ]
  },
  {
   "cell_type": "code",
   "execution_count": 9,
   "id": "d6d1eeba",
   "metadata": {
    "_kg_hide-input": true,
    "execution": {
     "iopub.execute_input": "2021-11-23T02:17:20.593077Z",
     "iopub.status.busy": "2021-11-23T02:17:20.592363Z",
     "iopub.status.idle": "2021-11-23T02:17:20.620148Z",
     "shell.execute_reply": "2021-11-23T02:17:20.620755Z",
     "shell.execute_reply.started": "2021-11-23T01:58:08.252847Z"
    },
    "jupyter": {
     "source_hidden": true
    },
    "papermill": {
     "duration": 0.093874,
     "end_time": "2021-11-23T02:17:20.621002",
     "exception": false,
     "start_time": "2021-11-23T02:17:20.527128",
     "status": "completed"
    },
    "tags": []
   },
   "outputs": [],
   "source": [
    "df19_ChJp = df19[df19.Q3.isin([\"Japan\",\"China\"])]\n",
    "\n",
    "df19_ChJp_total_PL = pd.DataFrame()\n",
    "df19_ChJp_total_PL['Program_Language'] = [df19_ChJp[col][1:].value_counts().index[0] for col in df19_ChJp.columns[82:94]]\n",
    "df19_ChJp_total_PL['counts'] = [df19_ChJp[col][1:].value_counts().values[0] for col in df19_ChJp.columns[82:94]]"
   ]
  },
  {
   "cell_type": "markdown",
   "id": "cf3d64c5",
   "metadata": {
    "papermill": {
     "duration": 0.061085,
     "end_time": "2021-11-23T02:17:20.744469",
     "exception": false,
     "start_time": "2021-11-23T02:17:20.683384",
     "status": "completed"
    },
    "tags": []
   },
   "source": [
    "### Split Country\n",
    "나라별 value_counts를 위해 각 나라로 dataframe 분리"
   ]
  },
  {
   "cell_type": "markdown",
   "id": "3d91c307",
   "metadata": {
    "papermill": {
     "duration": 0.064244,
     "end_time": "2021-11-23T02:17:20.872017",
     "exception": false,
     "start_time": "2021-11-23T02:17:20.807773",
     "status": "completed"
    },
    "tags": []
   },
   "source": [
    "#### 2021"
   ]
  },
  {
   "cell_type": "code",
   "execution_count": 10,
   "id": "5db5c386",
   "metadata": {
    "_kg_hide-input": true,
    "execution": {
     "iopub.execute_input": "2021-11-23T02:17:21.010758Z",
     "iopub.status.busy": "2021-11-23T02:17:21.010004Z",
     "iopub.status.idle": "2021-11-23T02:17:21.049208Z",
     "shell.execute_reply": "2021-11-23T02:17:21.048532Z",
     "shell.execute_reply.started": "2021-11-23T01:58:08.286002Z"
    },
    "jupyter": {
     "source_hidden": true
    },
    "papermill": {
     "duration": 0.113451,
     "end_time": "2021-11-23T02:17:21.049358",
     "exception": false,
     "start_time": "2021-11-23T02:17:20.935907",
     "status": "completed"
    },
    "tags": []
   },
   "outputs": [],
   "source": [
    "df21_Ch = df21_ChJp[df21_ChJp.Q3.isin([\"China\"])]\n",
    "df21_Jp = df21_ChJp[df21_ChJp.Q3.isin([\"Japan\"])]\n",
    "\n",
    "\n",
    "## Q7(Program_Language): 칼럼번호 8~20 - others\n",
    "df21_Jp_PL = pd.DataFrame()\n",
    "df21_Jp_PL['Program_Language'] = [df21_Jp[col][1:].value_counts().index[0] for col in df21_Jp.columns[7:19]]\n",
    "df21_Jp_PL['counts'] = [df21_Jp[col][1:].value_counts().values[0] for col in df21_Jp.columns[7:19]]\n",
    "\n",
    "\n",
    "## 2021 China: Q7_Part12(None) value == 0이므로 결측값 제거\n",
    "df21_Ch_rmQ07P12 = df21_Ch.drop(['Q7_Part_12'], axis='columns')\n",
    "\n",
    "## Q7(Program_Language): 칼럼번호 8~20 - others - Q7_Part12(None)\n",
    "df21_Ch_PL = pd.DataFrame()\n",
    "df21_Ch_PL['Program_Language'] = [df21_Ch_rmQ07P12[col][1:].value_counts() .index[0] for col in df21_Ch_rmQ07P12.columns[7:18]]\n",
    "df21_Ch_PL['counts'] = [df21_Ch_rmQ07P12[col][1:].value_counts() .values[0] for col in df21_Ch_rmQ07P12.columns[7:18]]\n",
    "\n",
    "\n",
    "## 제거된 나라 칼럼과 value를 각각 삽입 및 통합\n",
    "df21_Jp_PL.insert(0, 'Country',  'Japan')\n",
    "df21_Ch_PL.insert(0, 'Country',  'China')\n",
    "\n",
    "df21_PL_JnC = pd.concat([df21_Jp_PL,df21_Ch_PL], ignore_index=True)"
   ]
  },
  {
   "cell_type": "markdown",
   "id": "5ea20611",
   "metadata": {
    "papermill": {
     "duration": 0.061293,
     "end_time": "2021-11-23T02:17:21.173438",
     "exception": false,
     "start_time": "2021-11-23T02:17:21.112145",
     "status": "completed"
    },
    "tags": []
   },
   "source": [
    "#### 2019"
   ]
  },
  {
   "cell_type": "code",
   "execution_count": 11,
   "id": "dae4d1a3",
   "metadata": {
    "_kg_hide-input": true,
    "execution": {
     "iopub.execute_input": "2021-11-23T02:17:21.300583Z",
     "iopub.status.busy": "2021-11-23T02:17:21.299886Z",
     "iopub.status.idle": "2021-11-23T02:17:21.341196Z",
     "shell.execute_reply": "2021-11-23T02:17:21.340585Z",
     "shell.execute_reply.started": "2021-11-23T01:58:08.335785Z"
    },
    "jupyter": {
     "source_hidden": true
    },
    "papermill": {
     "duration": 0.106149,
     "end_time": "2021-11-23T02:17:21.341355",
     "exception": false,
     "start_time": "2021-11-23T02:17:21.235206",
     "status": "completed"
    },
    "tags": []
   },
   "outputs": [],
   "source": [
    "df19_Ch = df19_ChJp[df19_ChJp.Q3.isin([\"China\"])]\n",
    "df19_Jp = df19_ChJp[df19_ChJp.Q3.isin([\"Japan\"])]\n",
    "\n",
    "\n",
    "## Q18(Program_Language): 칼럼번호 83~95 - others\n",
    "df19_Jp_PL = pd.DataFrame()\n",
    "df19_Jp_PL['Program_Language'] = [df19_Jp[col][1:].value_counts().index[0] for col in df19_Jp.columns[82:94]]\n",
    "df19_Jp_PL['counts'] = [df19_Jp[col][1:].value_counts().values[0] for col in df19_Jp.columns[82:94]]\n",
    "\n",
    "\n",
    "## 2019 China Q18_Part11(None) 결측값 제거\n",
    "df19_Ch_rmQ18P11 = df19_Ch.drop(['Q18_Part_11'], axis='columns')\n",
    "\n",
    "## Q18(Program_Language): 칼럼번호 83~95 - others - Q18_Part11(None)\n",
    "df19_Ch_PL = pd.DataFrame()\n",
    "df19_Ch_PL['Program_Language'] = [df19_Ch_rmQ18P11[col][1:].value_counts() .index[0] for col in df19_Ch_rmQ18P11.columns[82:93]]\n",
    "df19_Ch_PL['counts'] = [df19_Ch_rmQ18P11[col][1:].value_counts() .values[0] for col in df19_Ch_rmQ18P11.columns[82:93]]\n",
    "\n",
    "\n",
    "\n",
    "df19_Jp_PL.insert(0, 'Country',  'Japan')\n",
    "df19_Ch_PL.insert(0, 'Country',  'China')\n",
    "\n",
    "df19_PL_JnC = pd.concat([df19_Jp_PL,df19_Ch_PL], ignore_index=True)"
   ]
  },
  {
   "cell_type": "markdown",
   "id": "a0eae420",
   "metadata": {
    "papermill": {
     "duration": 0.061278,
     "end_time": "2021-11-23T02:17:21.466626",
     "exception": false,
     "start_time": "2021-11-23T02:17:21.405348",
     "status": "completed"
    },
    "tags": []
   },
   "source": [
    "### Split year{Country}\n",
    "다른 csv인 2019자료와 2021자료 통합"
   ]
  },
  {
   "cell_type": "code",
   "execution_count": 12,
   "id": "c5bcbb3f",
   "metadata": {
    "_kg_hide-input": true,
    "execution": {
     "iopub.execute_input": "2021-11-23T02:17:21.595698Z",
     "iopub.status.busy": "2021-11-23T02:17:21.595023Z",
     "iopub.status.idle": "2021-11-23T02:17:21.601520Z",
     "shell.execute_reply": "2021-11-23T02:17:21.602171Z",
     "shell.execute_reply.started": "2021-11-23T01:58:08.391094Z"
    },
    "jupyter": {
     "source_hidden": true
    },
    "papermill": {
     "duration": 0.072912,
     "end_time": "2021-11-23T02:17:21.602344",
     "exception": false,
     "start_time": "2021-11-23T02:17:21.529432",
     "status": "completed"
    },
    "tags": []
   },
   "outputs": [],
   "source": [
    "df21_PL_JnC.insert(0, 'year',  '2021')\n",
    "df19_PL_JnC.insert(0, 'year',  '2019')\n",
    "\n",
    "df_PL_JnC_21n19 = pd.concat([df21_PL_JnC,df19_PL_JnC], ignore_index=True)"
   ]
  },
  {
   "cell_type": "markdown",
   "id": "66f59b61",
   "metadata": {
    "papermill": {
     "duration": 0.06151,
     "end_time": "2021-11-23T02:17:21.726200",
     "exception": false,
     "start_time": "2021-11-23T02:17:21.664690",
     "status": "completed"
    },
    "tags": []
   },
   "source": [
    "* Program_Language의 19년도 21년도 통합 value_counts의 정렬(연도 - 언어 - 나라)\n",
    "\n",
    "* values는 Program_Language의 value_counts\n",
    "\n",
    "* color 기준: country"
   ]
  },
  {
   "cell_type": "code",
   "execution_count": 13,
   "id": "74d91cef",
   "metadata": {
    "_kg_hide-input": true,
    "execution": {
     "iopub.execute_input": "2021-11-23T02:17:21.853050Z",
     "iopub.status.busy": "2021-11-23T02:17:21.852298Z",
     "iopub.status.idle": "2021-11-23T02:17:22.728543Z",
     "shell.execute_reply": "2021-11-23T02:17:22.729098Z",
     "shell.execute_reply.started": "2021-11-23T01:58:08.411736Z"
    },
    "papermill": {
     "duration": 0.941717,
     "end_time": "2021-11-23T02:17:22.729280",
     "exception": false,
     "start_time": "2021-11-23T02:17:21.787563",
     "status": "completed"
    },
    "tags": []
   },
   "outputs": [
    {
     "data": {
      "application/vnd.plotly.v1+json": {
       "config": {
        "plotlyServerURL": "https://plot.ly"
       },
       "data": [
        {
         "branchvalues": "total",
         "customdata": [
          [
           "Japan"
          ],
          [
           "Japan"
          ],
          [
           "Japan"
          ],
          [
           "Japan"
          ],
          [
           "Japan"
          ],
          [
           "Japan"
          ],
          [
           "Japan"
          ],
          [
           "Japan"
          ],
          [
           "Japan"
          ],
          [
           "Japan"
          ],
          [
           "Japan"
          ],
          [
           "China"
          ],
          [
           "China"
          ],
          [
           "China"
          ],
          [
           "China"
          ],
          [
           "China"
          ],
          [
           "Japan"
          ],
          [
           "China"
          ],
          [
           "China"
          ],
          [
           "China"
          ],
          [
           "China"
          ],
          [
           "China"
          ],
          [
           "China"
          ],
          [
           "China"
          ],
          [
           "China"
          ],
          [
           "China"
          ],
          [
           "China"
          ],
          [
           "China"
          ],
          [
           "China"
          ],
          [
           "China"
          ],
          [
           "China"
          ],
          [
           "Japan"
          ],
          [
           "Japan"
          ],
          [
           "Japan"
          ],
          [
           "Japan"
          ],
          [
           "Japan"
          ],
          [
           "Japan"
          ],
          [
           "Japan"
          ],
          [
           "Japan"
          ],
          [
           "Japan"
          ],
          [
           "Japan"
          ],
          [
           "Japan"
          ],
          [
           "China"
          ],
          [
           "China"
          ],
          [
           "Japan"
          ],
          [
           "China"
          ],
          [
           "(?)"
          ],
          [
           "(?)"
          ],
          [
           "(?)"
          ],
          [
           "(?)"
          ],
          [
           "(?)"
          ],
          [
           "(?)"
          ],
          [
           "(?)"
          ],
          [
           "(?)"
          ],
          [
           "(?)"
          ],
          [
           "(?)"
          ],
          [
           "(?)"
          ],
          [
           "(?)"
          ],
          [
           "(?)"
          ],
          [
           "Japan"
          ],
          [
           "Japan"
          ],
          [
           "(?)"
          ],
          [
           "(?)"
          ],
          [
           "(?)"
          ],
          [
           "(?)"
          ],
          [
           "(?)"
          ],
          [
           "(?)"
          ],
          [
           "(?)"
          ],
          [
           "(?)"
          ],
          [
           "(?)"
          ],
          [
           "(?)"
          ],
          [
           "(?)"
          ],
          [
           "(?)"
          ]
         ],
         "domain": {
          "x": [
           0.0,
           1.0
          ],
          "y": [
           0.0,
           1.0
          ]
         },
         "hovertemplate": "labels=%{label}<br>counts=%{value}<br>parent=%{parent}<br>id=%{id}<br>Country=%{customdata[0]}<extra></extra>",
         "ids": [
          "2019n2021/2019/Bash/Japan",
          "2019n2021/2021/SQL/Japan",
          "2019n2021/2019/SQL/Japan",
          "2019n2021/2021/R/Japan",
          "2019n2021/2019/R/Japan",
          "2019n2021/2021/Python/Japan",
          "2019n2021/2019/Python/Japan",
          "2019n2021/2019/Other/Japan",
          "2019n2021/2021/None/Japan",
          "2019n2021/2019/None/Japan",
          "2019n2021/2021/Swift/Japan",
          "2019n2021/2019/TypeScript/China",
          "2019n2021/2021/Swift/China",
          "2019n2021/2021/SQL/China",
          "2019n2021/2019/SQL/China",
          "2019n2021/2021/R/China",
          "2019n2021/2019/TypeScript/Japan",
          "2019n2021/2021/Python/China",
          "2019n2021/2019/Python/China",
          "2019n2021/2019/Other/China",
          "2019n2021/2021/MATLAB/China",
          "2019n2021/2019/R/China",
          "2019n2021/2021/Bash/China",
          "2019n2021/2019/C/China",
          "2019n2021/2021/C/China",
          "2019n2021/2019/C++/China",
          "2019n2021/2021/C++/China",
          "2019n2021/2019/Java/China",
          "2019n2021/2021/Java/China",
          "2019n2021/2019/Javascript/China",
          "2019n2021/2021/Javascript/China",
          "2019n2021/2021/MATLAB/Japan",
          "2019n2021/2019/MATLAB/Japan",
          "2019n2021/2021/Javascript/Japan",
          "2019n2021/2019/Javascript/Japan",
          "2019n2021/2021/Java/Japan",
          "2019n2021/2019/Java/Japan",
          "2019n2021/2021/C++/Japan",
          "2019n2021/2019/C++/Japan",
          "2019n2021/2021/C/Japan",
          "2019n2021/2019/C/Japan",
          "2019n2021/2021/Bash/Japan",
          "2019n2021/2021/Julia/China",
          "2019n2021/2019/MATLAB/China",
          "2019n2021/2021/Julia/Japan",
          "2019n2021/2019/Bash/China",
          "2019n2021/2019/Bash",
          "2019n2021/2021/Bash",
          "2019n2021/2019/C",
          "2019n2021/2021/C",
          "2019n2021/2019/C++",
          "2019n2021/2021/C++",
          "2019n2021/2019/Java",
          "2019n2021/2021/Java",
          "2019n2021/2019/Javascript",
          "2019n2021/2021/Javascript",
          "2019n2021/2021/Julia",
          "2019n2021/2019/MATLAB",
          "2019n2021/2021/MATLAB",
          "2019n2021/2019/None",
          "2019n2021/2021/None",
          "2019n2021/2019/Other",
          "2019n2021/2019/Python",
          "2019n2021/2021/Python",
          "2019n2021/2019/R",
          "2019n2021/2021/R",
          "2019n2021/2019/SQL",
          "2019n2021/2021/SQL",
          "2019n2021/2021/Swift",
          "2019n2021/2019/TypeScript",
          "2019n2021/2019",
          "2019n2021/2021",
          "2019n2021"
         ],
         "labels": [
          "Japan",
          "Japan",
          "Japan",
          "Japan",
          "Japan",
          "Japan",
          "Japan",
          "Japan",
          "Japan",
          "Japan",
          "Japan",
          "China",
          "China",
          "China",
          "China",
          "China",
          "Japan",
          "China",
          "China",
          "China",
          "China",
          "China",
          "China",
          "China",
          "China",
          "China",
          "China",
          "China",
          "China",
          "China",
          "China",
          "Japan",
          "Japan",
          "Japan",
          "Japan",
          "Japan",
          "Japan",
          "Japan",
          "Japan",
          "Japan",
          "Japan",
          "Japan",
          "China",
          "China",
          "Japan",
          "China",
          "Bash",
          "Bash",
          "C",
          "C",
          "C++",
          "C++",
          "Java",
          "Java",
          "Javascript",
          "Javascript",
          "Julia",
          "MATLAB",
          "MATLAB",
          "None",
          "None",
          "Other",
          "Python",
          "Python",
          "R",
          "R",
          "SQL",
          "SQL",
          "Swift",
          "TypeScript",
          "2019",
          "2021",
          "2019n2021"
         ],
         "marker": {
          "colors": [
           "darkblue",
           "darkblue",
           "darkblue",
           "darkblue",
           "darkblue",
           "darkblue",
           "darkblue",
           "darkblue",
           "darkblue",
           "darkblue",
           "darkblue",
           "gold",
           "gold",
           "gold",
           "gold",
           "gold",
           "darkblue",
           "gold",
           "gold",
           "gold",
           "gold",
           "gold",
           "gold",
           "gold",
           "gold",
           "gold",
           "gold",
           "gold",
           "gold",
           "gold",
           "gold",
           "darkblue",
           "darkblue",
           "darkblue",
           "darkblue",
           "darkblue",
           "darkblue",
           "darkblue",
           "darkblue",
           "darkblue",
           "darkblue",
           "darkblue",
           "gold",
           "gold",
           "darkblue",
           "gold",
           "lightgrey",
           "lightgrey",
           "lightgrey",
           "lightgrey",
           "lightgrey",
           "lightgrey",
           "lightgrey",
           "lightgrey",
           "lightgrey",
           "lightgrey",
           "lightgrey",
           "lightgrey",
           "lightgrey",
           "darkblue",
           "darkblue",
           "lightgrey",
           "lightgrey",
           "lightgrey",
           "lightgrey",
           "lightgrey",
           "lightgrey",
           "lightgrey",
           "lightgrey",
           "lightgrey",
           "lightgrey",
           "lightgrey",
           "lightgrey"
          ]
         },
         "name": "",
         "parents": [
          "2019n2021/2019/Bash",
          "2019n2021/2021/SQL",
          "2019n2021/2019/SQL",
          "2019n2021/2021/R",
          "2019n2021/2019/R",
          "2019n2021/2021/Python",
          "2019n2021/2019/Python",
          "2019n2021/2019/Other",
          "2019n2021/2021/None",
          "2019n2021/2019/None",
          "2019n2021/2021/Swift",
          "2019n2021/2019/TypeScript",
          "2019n2021/2021/Swift",
          "2019n2021/2021/SQL",
          "2019n2021/2019/SQL",
          "2019n2021/2021/R",
          "2019n2021/2019/TypeScript",
          "2019n2021/2021/Python",
          "2019n2021/2019/Python",
          "2019n2021/2019/Other",
          "2019n2021/2021/MATLAB",
          "2019n2021/2019/R",
          "2019n2021/2021/Bash",
          "2019n2021/2019/C",
          "2019n2021/2021/C",
          "2019n2021/2019/C++",
          "2019n2021/2021/C++",
          "2019n2021/2019/Java",
          "2019n2021/2021/Java",
          "2019n2021/2019/Javascript",
          "2019n2021/2021/Javascript",
          "2019n2021/2021/MATLAB",
          "2019n2021/2019/MATLAB",
          "2019n2021/2021/Javascript",
          "2019n2021/2019/Javascript",
          "2019n2021/2021/Java",
          "2019n2021/2019/Java",
          "2019n2021/2021/C++",
          "2019n2021/2019/C++",
          "2019n2021/2021/C",
          "2019n2021/2019/C",
          "2019n2021/2021/Bash",
          "2019n2021/2021/Julia",
          "2019n2021/2019/MATLAB",
          "2019n2021/2021/Julia",
          "2019n2021/2019/Bash",
          "2019n2021/2019",
          "2019n2021/2021",
          "2019n2021/2019",
          "2019n2021/2021",
          "2019n2021/2019",
          "2019n2021/2021",
          "2019n2021/2019",
          "2019n2021/2021",
          "2019n2021/2019",
          "2019n2021/2021",
          "2019n2021/2021",
          "2019n2021/2019",
          "2019n2021/2021",
          "2019n2021/2019",
          "2019n2021/2021",
          "2019n2021/2019",
          "2019n2021/2019",
          "2019n2021/2021",
          "2019n2021/2019",
          "2019n2021/2021",
          "2019n2021/2019",
          "2019n2021/2021",
          "2019n2021/2021",
          "2019n2021/2019",
          "2019n2021",
          "2019n2021",
          ""
         ],
         "textinfo": "label+percent parent+value",
         "type": "treemap",
         "values": [
          64,
          232,
          150,
          122,
          121,
          786,
          442,
          41,
          6,
          3,
          20,
          5,
          5,
          215,
          117,
          85,
          11,
          737,
          375,
          12,
          169,
          60,
          31,
          66,
          225,
          98,
          267,
          73,
          212,
          38,
          86,
          53,
          37,
          147,
          73,
          137,
          56,
          164,
          79,
          163,
          70,
          81,
          4,
          67,
          8,
          36,
          100,
          112,
          136,
          388,
          177,
          431,
          129,
          349,
          111,
          233,
          12,
          104,
          222,
          3,
          6,
          53,
          817,
          1523,
          181,
          207,
          267,
          447,
          25,
          16,
          2094,
          3955,
          6049
         ]
        }
       ],
       "layout": {
        "legend": {
         "tracegroupgap": 0
        },
        "margin": {
         "b": 25,
         "l": 25,
         "r": 25,
         "t": 50
        },
        "template": {
         "data": {
          "bar": [
           {
            "error_x": {
             "color": "#2a3f5f"
            },
            "error_y": {
             "color": "#2a3f5f"
            },
            "marker": {
             "line": {
              "color": "#E5ECF6",
              "width": 0.5
             },
             "pattern": {
              "fillmode": "overlay",
              "size": 10,
              "solidity": 0.2
             }
            },
            "type": "bar"
           }
          ],
          "barpolar": [
           {
            "marker": {
             "line": {
              "color": "#E5ECF6",
              "width": 0.5
             },
             "pattern": {
              "fillmode": "overlay",
              "size": 10,
              "solidity": 0.2
             }
            },
            "type": "barpolar"
           }
          ],
          "carpet": [
           {
            "aaxis": {
             "endlinecolor": "#2a3f5f",
             "gridcolor": "white",
             "linecolor": "white",
             "minorgridcolor": "white",
             "startlinecolor": "#2a3f5f"
            },
            "baxis": {
             "endlinecolor": "#2a3f5f",
             "gridcolor": "white",
             "linecolor": "white",
             "minorgridcolor": "white",
             "startlinecolor": "#2a3f5f"
            },
            "type": "carpet"
           }
          ],
          "choropleth": [
           {
            "colorbar": {
             "outlinewidth": 0,
             "ticks": ""
            },
            "type": "choropleth"
           }
          ],
          "contour": [
           {
            "colorbar": {
             "outlinewidth": 0,
             "ticks": ""
            },
            "colorscale": [
             [
              0.0,
              "#0d0887"
             ],
             [
              0.1111111111111111,
              "#46039f"
             ],
             [
              0.2222222222222222,
              "#7201a8"
             ],
             [
              0.3333333333333333,
              "#9c179e"
             ],
             [
              0.4444444444444444,
              "#bd3786"
             ],
             [
              0.5555555555555556,
              "#d8576b"
             ],
             [
              0.6666666666666666,
              "#ed7953"
             ],
             [
              0.7777777777777778,
              "#fb9f3a"
             ],
             [
              0.8888888888888888,
              "#fdca26"
             ],
             [
              1.0,
              "#f0f921"
             ]
            ],
            "type": "contour"
           }
          ],
          "contourcarpet": [
           {
            "colorbar": {
             "outlinewidth": 0,
             "ticks": ""
            },
            "type": "contourcarpet"
           }
          ],
          "heatmap": [
           {
            "colorbar": {
             "outlinewidth": 0,
             "ticks": ""
            },
            "colorscale": [
             [
              0.0,
              "#0d0887"
             ],
             [
              0.1111111111111111,
              "#46039f"
             ],
             [
              0.2222222222222222,
              "#7201a8"
             ],
             [
              0.3333333333333333,
              "#9c179e"
             ],
             [
              0.4444444444444444,
              "#bd3786"
             ],
             [
              0.5555555555555556,
              "#d8576b"
             ],
             [
              0.6666666666666666,
              "#ed7953"
             ],
             [
              0.7777777777777778,
              "#fb9f3a"
             ],
             [
              0.8888888888888888,
              "#fdca26"
             ],
             [
              1.0,
              "#f0f921"
             ]
            ],
            "type": "heatmap"
           }
          ],
          "heatmapgl": [
           {
            "colorbar": {
             "outlinewidth": 0,
             "ticks": ""
            },
            "colorscale": [
             [
              0.0,
              "#0d0887"
             ],
             [
              0.1111111111111111,
              "#46039f"
             ],
             [
              0.2222222222222222,
              "#7201a8"
             ],
             [
              0.3333333333333333,
              "#9c179e"
             ],
             [
              0.4444444444444444,
              "#bd3786"
             ],
             [
              0.5555555555555556,
              "#d8576b"
             ],
             [
              0.6666666666666666,
              "#ed7953"
             ],
             [
              0.7777777777777778,
              "#fb9f3a"
             ],
             [
              0.8888888888888888,
              "#fdca26"
             ],
             [
              1.0,
              "#f0f921"
             ]
            ],
            "type": "heatmapgl"
           }
          ],
          "histogram": [
           {
            "marker": {
             "pattern": {
              "fillmode": "overlay",
              "size": 10,
              "solidity": 0.2
             }
            },
            "type": "histogram"
           }
          ],
          "histogram2d": [
           {
            "colorbar": {
             "outlinewidth": 0,
             "ticks": ""
            },
            "colorscale": [
             [
              0.0,
              "#0d0887"
             ],
             [
              0.1111111111111111,
              "#46039f"
             ],
             [
              0.2222222222222222,
              "#7201a8"
             ],
             [
              0.3333333333333333,
              "#9c179e"
             ],
             [
              0.4444444444444444,
              "#bd3786"
             ],
             [
              0.5555555555555556,
              "#d8576b"
             ],
             [
              0.6666666666666666,
              "#ed7953"
             ],
             [
              0.7777777777777778,
              "#fb9f3a"
             ],
             [
              0.8888888888888888,
              "#fdca26"
             ],
             [
              1.0,
              "#f0f921"
             ]
            ],
            "type": "histogram2d"
           }
          ],
          "histogram2dcontour": [
           {
            "colorbar": {
             "outlinewidth": 0,
             "ticks": ""
            },
            "colorscale": [
             [
              0.0,
              "#0d0887"
             ],
             [
              0.1111111111111111,
              "#46039f"
             ],
             [
              0.2222222222222222,
              "#7201a8"
             ],
             [
              0.3333333333333333,
              "#9c179e"
             ],
             [
              0.4444444444444444,
              "#bd3786"
             ],
             [
              0.5555555555555556,
              "#d8576b"
             ],
             [
              0.6666666666666666,
              "#ed7953"
             ],
             [
              0.7777777777777778,
              "#fb9f3a"
             ],
             [
              0.8888888888888888,
              "#fdca26"
             ],
             [
              1.0,
              "#f0f921"
             ]
            ],
            "type": "histogram2dcontour"
           }
          ],
          "mesh3d": [
           {
            "colorbar": {
             "outlinewidth": 0,
             "ticks": ""
            },
            "type": "mesh3d"
           }
          ],
          "parcoords": [
           {
            "line": {
             "colorbar": {
              "outlinewidth": 0,
              "ticks": ""
             }
            },
            "type": "parcoords"
           }
          ],
          "pie": [
           {
            "automargin": true,
            "type": "pie"
           }
          ],
          "scatter": [
           {
            "marker": {
             "colorbar": {
              "outlinewidth": 0,
              "ticks": ""
             }
            },
            "type": "scatter"
           }
          ],
          "scatter3d": [
           {
            "line": {
             "colorbar": {
              "outlinewidth": 0,
              "ticks": ""
             }
            },
            "marker": {
             "colorbar": {
              "outlinewidth": 0,
              "ticks": ""
             }
            },
            "type": "scatter3d"
           }
          ],
          "scattercarpet": [
           {
            "marker": {
             "colorbar": {
              "outlinewidth": 0,
              "ticks": ""
             }
            },
            "type": "scattercarpet"
           }
          ],
          "scattergeo": [
           {
            "marker": {
             "colorbar": {
              "outlinewidth": 0,
              "ticks": ""
             }
            },
            "type": "scattergeo"
           }
          ],
          "scattergl": [
           {
            "marker": {
             "colorbar": {
              "outlinewidth": 0,
              "ticks": ""
             }
            },
            "type": "scattergl"
           }
          ],
          "scattermapbox": [
           {
            "marker": {
             "colorbar": {
              "outlinewidth": 0,
              "ticks": ""
             }
            },
            "type": "scattermapbox"
           }
          ],
          "scatterpolar": [
           {
            "marker": {
             "colorbar": {
              "outlinewidth": 0,
              "ticks": ""
             }
            },
            "type": "scatterpolar"
           }
          ],
          "scatterpolargl": [
           {
            "marker": {
             "colorbar": {
              "outlinewidth": 0,
              "ticks": ""
             }
            },
            "type": "scatterpolargl"
           }
          ],
          "scatterternary": [
           {
            "marker": {
             "colorbar": {
              "outlinewidth": 0,
              "ticks": ""
             }
            },
            "type": "scatterternary"
           }
          ],
          "surface": [
           {
            "colorbar": {
             "outlinewidth": 0,
             "ticks": ""
            },
            "colorscale": [
             [
              0.0,
              "#0d0887"
             ],
             [
              0.1111111111111111,
              "#46039f"
             ],
             [
              0.2222222222222222,
              "#7201a8"
             ],
             [
              0.3333333333333333,
              "#9c179e"
             ],
             [
              0.4444444444444444,
              "#bd3786"
             ],
             [
              0.5555555555555556,
              "#d8576b"
             ],
             [
              0.6666666666666666,
              "#ed7953"
             ],
             [
              0.7777777777777778,
              "#fb9f3a"
             ],
             [
              0.8888888888888888,
              "#fdca26"
             ],
             [
              1.0,
              "#f0f921"
             ]
            ],
            "type": "surface"
           }
          ],
          "table": [
           {
            "cells": {
             "fill": {
              "color": "#EBF0F8"
             },
             "line": {
              "color": "white"
             }
            },
            "header": {
             "fill": {
              "color": "#C8D4E3"
             },
             "line": {
              "color": "white"
             }
            },
            "type": "table"
           }
          ]
         },
         "layout": {
          "annotationdefaults": {
           "arrowcolor": "#2a3f5f",
           "arrowhead": 0,
           "arrowwidth": 1
          },
          "autotypenumbers": "strict",
          "coloraxis": {
           "colorbar": {
            "outlinewidth": 0,
            "ticks": ""
           }
          },
          "colorscale": {
           "diverging": [
            [
             0,
             "#8e0152"
            ],
            [
             0.1,
             "#c51b7d"
            ],
            [
             0.2,
             "#de77ae"
            ],
            [
             0.3,
             "#f1b6da"
            ],
            [
             0.4,
             "#fde0ef"
            ],
            [
             0.5,
             "#f7f7f7"
            ],
            [
             0.6,
             "#e6f5d0"
            ],
            [
             0.7,
             "#b8e186"
            ],
            [
             0.8,
             "#7fbc41"
            ],
            [
             0.9,
             "#4d9221"
            ],
            [
             1,
             "#276419"
            ]
           ],
           "sequential": [
            [
             0.0,
             "#0d0887"
            ],
            [
             0.1111111111111111,
             "#46039f"
            ],
            [
             0.2222222222222222,
             "#7201a8"
            ],
            [
             0.3333333333333333,
             "#9c179e"
            ],
            [
             0.4444444444444444,
             "#bd3786"
            ],
            [
             0.5555555555555556,
             "#d8576b"
            ],
            [
             0.6666666666666666,
             "#ed7953"
            ],
            [
             0.7777777777777778,
             "#fb9f3a"
            ],
            [
             0.8888888888888888,
             "#fdca26"
            ],
            [
             1.0,
             "#f0f921"
            ]
           ],
           "sequentialminus": [
            [
             0.0,
             "#0d0887"
            ],
            [
             0.1111111111111111,
             "#46039f"
            ],
            [
             0.2222222222222222,
             "#7201a8"
            ],
            [
             0.3333333333333333,
             "#9c179e"
            ],
            [
             0.4444444444444444,
             "#bd3786"
            ],
            [
             0.5555555555555556,
             "#d8576b"
            ],
            [
             0.6666666666666666,
             "#ed7953"
            ],
            [
             0.7777777777777778,
             "#fb9f3a"
            ],
            [
             0.8888888888888888,
             "#fdca26"
            ],
            [
             1.0,
             "#f0f921"
            ]
           ]
          },
          "colorway": [
           "#636efa",
           "#EF553B",
           "#00cc96",
           "#ab63fa",
           "#FFA15A",
           "#19d3f3",
           "#FF6692",
           "#B6E880",
           "#FF97FF",
           "#FECB52"
          ],
          "font": {
           "color": "#2a3f5f"
          },
          "geo": {
           "bgcolor": "white",
           "lakecolor": "white",
           "landcolor": "#E5ECF6",
           "showlakes": true,
           "showland": true,
           "subunitcolor": "white"
          },
          "hoverlabel": {
           "align": "left"
          },
          "hovermode": "closest",
          "mapbox": {
           "style": "light"
          },
          "paper_bgcolor": "white",
          "plot_bgcolor": "#E5ECF6",
          "polar": {
           "angularaxis": {
            "gridcolor": "white",
            "linecolor": "white",
            "ticks": ""
           },
           "bgcolor": "#E5ECF6",
           "radialaxis": {
            "gridcolor": "white",
            "linecolor": "white",
            "ticks": ""
           }
          },
          "scene": {
           "xaxis": {
            "backgroundcolor": "#E5ECF6",
            "gridcolor": "white",
            "gridwidth": 2,
            "linecolor": "white",
            "showbackground": true,
            "ticks": "",
            "zerolinecolor": "white"
           },
           "yaxis": {
            "backgroundcolor": "#E5ECF6",
            "gridcolor": "white",
            "gridwidth": 2,
            "linecolor": "white",
            "showbackground": true,
            "ticks": "",
            "zerolinecolor": "white"
           },
           "zaxis": {
            "backgroundcolor": "#E5ECF6",
            "gridcolor": "white",
            "gridwidth": 2,
            "linecolor": "white",
            "showbackground": true,
            "ticks": "",
            "zerolinecolor": "white"
           }
          },
          "shapedefaults": {
           "line": {
            "color": "#2a3f5f"
           }
          },
          "ternary": {
           "aaxis": {
            "gridcolor": "white",
            "linecolor": "white",
            "ticks": ""
           },
           "baxis": {
            "gridcolor": "white",
            "linecolor": "white",
            "ticks": ""
           },
           "bgcolor": "#E5ECF6",
           "caxis": {
            "gridcolor": "white",
            "linecolor": "white",
            "ticks": ""
           }
          },
          "title": {
           "x": 0.05
          },
          "xaxis": {
           "automargin": true,
           "gridcolor": "white",
           "linecolor": "white",
           "ticks": "",
           "title": {
            "standoff": 15
           },
           "zerolinecolor": "white",
           "zerolinewidth": 2
          },
          "yaxis": {
           "automargin": true,
           "gridcolor": "white",
           "linecolor": "white",
           "ticks": "",
           "title": {
            "standoff": 15
           },
           "zerolinecolor": "white",
           "zerolinewidth": 2
          }
         }
        }
       }
      },
      "text/html": [
       "<div>                            <div id=\"6e22a5d8-9c4a-4824-ac5d-54cf6ea6373b\" class=\"plotly-graph-div\" style=\"height:525px; width:100%;\"></div>            <script type=\"text/javascript\">                require([\"plotly\"], function(Plotly) {                    window.PLOTLYENV=window.PLOTLYENV || {};                                    if (document.getElementById(\"6e22a5d8-9c4a-4824-ac5d-54cf6ea6373b\")) {                    Plotly.newPlot(                        \"6e22a5d8-9c4a-4824-ac5d-54cf6ea6373b\",                        [{\"branchvalues\":\"total\",\"customdata\":[[\"Japan\"],[\"Japan\"],[\"Japan\"],[\"Japan\"],[\"Japan\"],[\"Japan\"],[\"Japan\"],[\"Japan\"],[\"Japan\"],[\"Japan\"],[\"Japan\"],[\"China\"],[\"China\"],[\"China\"],[\"China\"],[\"China\"],[\"Japan\"],[\"China\"],[\"China\"],[\"China\"],[\"China\"],[\"China\"],[\"China\"],[\"China\"],[\"China\"],[\"China\"],[\"China\"],[\"China\"],[\"China\"],[\"China\"],[\"China\"],[\"Japan\"],[\"Japan\"],[\"Japan\"],[\"Japan\"],[\"Japan\"],[\"Japan\"],[\"Japan\"],[\"Japan\"],[\"Japan\"],[\"Japan\"],[\"Japan\"],[\"China\"],[\"China\"],[\"Japan\"],[\"China\"],[\"(?)\"],[\"(?)\"],[\"(?)\"],[\"(?)\"],[\"(?)\"],[\"(?)\"],[\"(?)\"],[\"(?)\"],[\"(?)\"],[\"(?)\"],[\"(?)\"],[\"(?)\"],[\"(?)\"],[\"Japan\"],[\"Japan\"],[\"(?)\"],[\"(?)\"],[\"(?)\"],[\"(?)\"],[\"(?)\"],[\"(?)\"],[\"(?)\"],[\"(?)\"],[\"(?)\"],[\"(?)\"],[\"(?)\"],[\"(?)\"]],\"domain\":{\"x\":[0.0,1.0],\"y\":[0.0,1.0]},\"hovertemplate\":\"labels=%{label}<br>counts=%{value}<br>parent=%{parent}<br>id=%{id}<br>Country=%{customdata[0]}<extra></extra>\",\"ids\":[\"2019n2021/2019/Bash/Japan\",\"2019n2021/2021/SQL/Japan\",\"2019n2021/2019/SQL/Japan\",\"2019n2021/2021/R/Japan\",\"2019n2021/2019/R/Japan\",\"2019n2021/2021/Python/Japan\",\"2019n2021/2019/Python/Japan\",\"2019n2021/2019/Other/Japan\",\"2019n2021/2021/None/Japan\",\"2019n2021/2019/None/Japan\",\"2019n2021/2021/Swift/Japan\",\"2019n2021/2019/TypeScript/China\",\"2019n2021/2021/Swift/China\",\"2019n2021/2021/SQL/China\",\"2019n2021/2019/SQL/China\",\"2019n2021/2021/R/China\",\"2019n2021/2019/TypeScript/Japan\",\"2019n2021/2021/Python/China\",\"2019n2021/2019/Python/China\",\"2019n2021/2019/Other/China\",\"2019n2021/2021/MATLAB/China\",\"2019n2021/2019/R/China\",\"2019n2021/2021/Bash/China\",\"2019n2021/2019/C/China\",\"2019n2021/2021/C/China\",\"2019n2021/2019/C++/China\",\"2019n2021/2021/C++/China\",\"2019n2021/2019/Java/China\",\"2019n2021/2021/Java/China\",\"2019n2021/2019/Javascript/China\",\"2019n2021/2021/Javascript/China\",\"2019n2021/2021/MATLAB/Japan\",\"2019n2021/2019/MATLAB/Japan\",\"2019n2021/2021/Javascript/Japan\",\"2019n2021/2019/Javascript/Japan\",\"2019n2021/2021/Java/Japan\",\"2019n2021/2019/Java/Japan\",\"2019n2021/2021/C++/Japan\",\"2019n2021/2019/C++/Japan\",\"2019n2021/2021/C/Japan\",\"2019n2021/2019/C/Japan\",\"2019n2021/2021/Bash/Japan\",\"2019n2021/2021/Julia/China\",\"2019n2021/2019/MATLAB/China\",\"2019n2021/2021/Julia/Japan\",\"2019n2021/2019/Bash/China\",\"2019n2021/2019/Bash\",\"2019n2021/2021/Bash\",\"2019n2021/2019/C\",\"2019n2021/2021/C\",\"2019n2021/2019/C++\",\"2019n2021/2021/C++\",\"2019n2021/2019/Java\",\"2019n2021/2021/Java\",\"2019n2021/2019/Javascript\",\"2019n2021/2021/Javascript\",\"2019n2021/2021/Julia\",\"2019n2021/2019/MATLAB\",\"2019n2021/2021/MATLAB\",\"2019n2021/2019/None\",\"2019n2021/2021/None\",\"2019n2021/2019/Other\",\"2019n2021/2019/Python\",\"2019n2021/2021/Python\",\"2019n2021/2019/R\",\"2019n2021/2021/R\",\"2019n2021/2019/SQL\",\"2019n2021/2021/SQL\",\"2019n2021/2021/Swift\",\"2019n2021/2019/TypeScript\",\"2019n2021/2019\",\"2019n2021/2021\",\"2019n2021\"],\"labels\":[\"Japan\",\"Japan\",\"Japan\",\"Japan\",\"Japan\",\"Japan\",\"Japan\",\"Japan\",\"Japan\",\"Japan\",\"Japan\",\"China\",\"China\",\"China\",\"China\",\"China\",\"Japan\",\"China\",\"China\",\"China\",\"China\",\"China\",\"China\",\"China\",\"China\",\"China\",\"China\",\"China\",\"China\",\"China\",\"China\",\"Japan\",\"Japan\",\"Japan\",\"Japan\",\"Japan\",\"Japan\",\"Japan\",\"Japan\",\"Japan\",\"Japan\",\"Japan\",\"China\",\"China\",\"Japan\",\"China\",\"Bash\",\"Bash\",\"C\",\"C\",\"C++\",\"C++\",\"Java\",\"Java\",\"Javascript\",\"Javascript\",\"Julia\",\"MATLAB\",\"MATLAB\",\"None\",\"None\",\"Other\",\"Python\",\"Python\",\"R\",\"R\",\"SQL\",\"SQL\",\"Swift\",\"TypeScript\",\"2019\",\"2021\",\"2019n2021\"],\"marker\":{\"colors\":[\"darkblue\",\"darkblue\",\"darkblue\",\"darkblue\",\"darkblue\",\"darkblue\",\"darkblue\",\"darkblue\",\"darkblue\",\"darkblue\",\"darkblue\",\"gold\",\"gold\",\"gold\",\"gold\",\"gold\",\"darkblue\",\"gold\",\"gold\",\"gold\",\"gold\",\"gold\",\"gold\",\"gold\",\"gold\",\"gold\",\"gold\",\"gold\",\"gold\",\"gold\",\"gold\",\"darkblue\",\"darkblue\",\"darkblue\",\"darkblue\",\"darkblue\",\"darkblue\",\"darkblue\",\"darkblue\",\"darkblue\",\"darkblue\",\"darkblue\",\"gold\",\"gold\",\"darkblue\",\"gold\",\"lightgrey\",\"lightgrey\",\"lightgrey\",\"lightgrey\",\"lightgrey\",\"lightgrey\",\"lightgrey\",\"lightgrey\",\"lightgrey\",\"lightgrey\",\"lightgrey\",\"lightgrey\",\"lightgrey\",\"darkblue\",\"darkblue\",\"lightgrey\",\"lightgrey\",\"lightgrey\",\"lightgrey\",\"lightgrey\",\"lightgrey\",\"lightgrey\",\"lightgrey\",\"lightgrey\",\"lightgrey\",\"lightgrey\",\"lightgrey\"]},\"name\":\"\",\"parents\":[\"2019n2021/2019/Bash\",\"2019n2021/2021/SQL\",\"2019n2021/2019/SQL\",\"2019n2021/2021/R\",\"2019n2021/2019/R\",\"2019n2021/2021/Python\",\"2019n2021/2019/Python\",\"2019n2021/2019/Other\",\"2019n2021/2021/None\",\"2019n2021/2019/None\",\"2019n2021/2021/Swift\",\"2019n2021/2019/TypeScript\",\"2019n2021/2021/Swift\",\"2019n2021/2021/SQL\",\"2019n2021/2019/SQL\",\"2019n2021/2021/R\",\"2019n2021/2019/TypeScript\",\"2019n2021/2021/Python\",\"2019n2021/2019/Python\",\"2019n2021/2019/Other\",\"2019n2021/2021/MATLAB\",\"2019n2021/2019/R\",\"2019n2021/2021/Bash\",\"2019n2021/2019/C\",\"2019n2021/2021/C\",\"2019n2021/2019/C++\",\"2019n2021/2021/C++\",\"2019n2021/2019/Java\",\"2019n2021/2021/Java\",\"2019n2021/2019/Javascript\",\"2019n2021/2021/Javascript\",\"2019n2021/2021/MATLAB\",\"2019n2021/2019/MATLAB\",\"2019n2021/2021/Javascript\",\"2019n2021/2019/Javascript\",\"2019n2021/2021/Java\",\"2019n2021/2019/Java\",\"2019n2021/2021/C++\",\"2019n2021/2019/C++\",\"2019n2021/2021/C\",\"2019n2021/2019/C\",\"2019n2021/2021/Bash\",\"2019n2021/2021/Julia\",\"2019n2021/2019/MATLAB\",\"2019n2021/2021/Julia\",\"2019n2021/2019/Bash\",\"2019n2021/2019\",\"2019n2021/2021\",\"2019n2021/2019\",\"2019n2021/2021\",\"2019n2021/2019\",\"2019n2021/2021\",\"2019n2021/2019\",\"2019n2021/2021\",\"2019n2021/2019\",\"2019n2021/2021\",\"2019n2021/2021\",\"2019n2021/2019\",\"2019n2021/2021\",\"2019n2021/2019\",\"2019n2021/2021\",\"2019n2021/2019\",\"2019n2021/2019\",\"2019n2021/2021\",\"2019n2021/2019\",\"2019n2021/2021\",\"2019n2021/2019\",\"2019n2021/2021\",\"2019n2021/2021\",\"2019n2021/2019\",\"2019n2021\",\"2019n2021\",\"\"],\"textinfo\":\"label+percent parent+value\",\"type\":\"treemap\",\"values\":[64,232,150,122,121,786,442,41,6,3,20,5,5,215,117,85,11,737,375,12,169,60,31,66,225,98,267,73,212,38,86,53,37,147,73,137,56,164,79,163,70,81,4,67,8,36,100,112,136,388,177,431,129,349,111,233,12,104,222,3,6,53,817,1523,181,207,267,447,25,16,2094,3955,6049]}],                        {\"legend\":{\"tracegroupgap\":0},\"margin\":{\"b\":25,\"l\":25,\"r\":25,\"t\":50},\"template\":{\"data\":{\"bar\":[{\"error_x\":{\"color\":\"#2a3f5f\"},\"error_y\":{\"color\":\"#2a3f5f\"},\"marker\":{\"line\":{\"color\":\"#E5ECF6\",\"width\":0.5},\"pattern\":{\"fillmode\":\"overlay\",\"size\":10,\"solidity\":0.2}},\"type\":\"bar\"}],\"barpolar\":[{\"marker\":{\"line\":{\"color\":\"#E5ECF6\",\"width\":0.5},\"pattern\":{\"fillmode\":\"overlay\",\"size\":10,\"solidity\":0.2}},\"type\":\"barpolar\"}],\"carpet\":[{\"aaxis\":{\"endlinecolor\":\"#2a3f5f\",\"gridcolor\":\"white\",\"linecolor\":\"white\",\"minorgridcolor\":\"white\",\"startlinecolor\":\"#2a3f5f\"},\"baxis\":{\"endlinecolor\":\"#2a3f5f\",\"gridcolor\":\"white\",\"linecolor\":\"white\",\"minorgridcolor\":\"white\",\"startlinecolor\":\"#2a3f5f\"},\"type\":\"carpet\"}],\"choropleth\":[{\"colorbar\":{\"outlinewidth\":0,\"ticks\":\"\"},\"type\":\"choropleth\"}],\"contour\":[{\"colorbar\":{\"outlinewidth\":0,\"ticks\":\"\"},\"colorscale\":[[0.0,\"#0d0887\"],[0.1111111111111111,\"#46039f\"],[0.2222222222222222,\"#7201a8\"],[0.3333333333333333,\"#9c179e\"],[0.4444444444444444,\"#bd3786\"],[0.5555555555555556,\"#d8576b\"],[0.6666666666666666,\"#ed7953\"],[0.7777777777777778,\"#fb9f3a\"],[0.8888888888888888,\"#fdca26\"],[1.0,\"#f0f921\"]],\"type\":\"contour\"}],\"contourcarpet\":[{\"colorbar\":{\"outlinewidth\":0,\"ticks\":\"\"},\"type\":\"contourcarpet\"}],\"heatmap\":[{\"colorbar\":{\"outlinewidth\":0,\"ticks\":\"\"},\"colorscale\":[[0.0,\"#0d0887\"],[0.1111111111111111,\"#46039f\"],[0.2222222222222222,\"#7201a8\"],[0.3333333333333333,\"#9c179e\"],[0.4444444444444444,\"#bd3786\"],[0.5555555555555556,\"#d8576b\"],[0.6666666666666666,\"#ed7953\"],[0.7777777777777778,\"#fb9f3a\"],[0.8888888888888888,\"#fdca26\"],[1.0,\"#f0f921\"]],\"type\":\"heatmap\"}],\"heatmapgl\":[{\"colorbar\":{\"outlinewidth\":0,\"ticks\":\"\"},\"colorscale\":[[0.0,\"#0d0887\"],[0.1111111111111111,\"#46039f\"],[0.2222222222222222,\"#7201a8\"],[0.3333333333333333,\"#9c179e\"],[0.4444444444444444,\"#bd3786\"],[0.5555555555555556,\"#d8576b\"],[0.6666666666666666,\"#ed7953\"],[0.7777777777777778,\"#fb9f3a\"],[0.8888888888888888,\"#fdca26\"],[1.0,\"#f0f921\"]],\"type\":\"heatmapgl\"}],\"histogram\":[{\"marker\":{\"pattern\":{\"fillmode\":\"overlay\",\"size\":10,\"solidity\":0.2}},\"type\":\"histogram\"}],\"histogram2d\":[{\"colorbar\":{\"outlinewidth\":0,\"ticks\":\"\"},\"colorscale\":[[0.0,\"#0d0887\"],[0.1111111111111111,\"#46039f\"],[0.2222222222222222,\"#7201a8\"],[0.3333333333333333,\"#9c179e\"],[0.4444444444444444,\"#bd3786\"],[0.5555555555555556,\"#d8576b\"],[0.6666666666666666,\"#ed7953\"],[0.7777777777777778,\"#fb9f3a\"],[0.8888888888888888,\"#fdca26\"],[1.0,\"#f0f921\"]],\"type\":\"histogram2d\"}],\"histogram2dcontour\":[{\"colorbar\":{\"outlinewidth\":0,\"ticks\":\"\"},\"colorscale\":[[0.0,\"#0d0887\"],[0.1111111111111111,\"#46039f\"],[0.2222222222222222,\"#7201a8\"],[0.3333333333333333,\"#9c179e\"],[0.4444444444444444,\"#bd3786\"],[0.5555555555555556,\"#d8576b\"],[0.6666666666666666,\"#ed7953\"],[0.7777777777777778,\"#fb9f3a\"],[0.8888888888888888,\"#fdca26\"],[1.0,\"#f0f921\"]],\"type\":\"histogram2dcontour\"}],\"mesh3d\":[{\"colorbar\":{\"outlinewidth\":0,\"ticks\":\"\"},\"type\":\"mesh3d\"}],\"parcoords\":[{\"line\":{\"colorbar\":{\"outlinewidth\":0,\"ticks\":\"\"}},\"type\":\"parcoords\"}],\"pie\":[{\"automargin\":true,\"type\":\"pie\"}],\"scatter\":[{\"marker\":{\"colorbar\":{\"outlinewidth\":0,\"ticks\":\"\"}},\"type\":\"scatter\"}],\"scatter3d\":[{\"line\":{\"colorbar\":{\"outlinewidth\":0,\"ticks\":\"\"}},\"marker\":{\"colorbar\":{\"outlinewidth\":0,\"ticks\":\"\"}},\"type\":\"scatter3d\"}],\"scattercarpet\":[{\"marker\":{\"colorbar\":{\"outlinewidth\":0,\"ticks\":\"\"}},\"type\":\"scattercarpet\"}],\"scattergeo\":[{\"marker\":{\"colorbar\":{\"outlinewidth\":0,\"ticks\":\"\"}},\"type\":\"scattergeo\"}],\"scattergl\":[{\"marker\":{\"colorbar\":{\"outlinewidth\":0,\"ticks\":\"\"}},\"type\":\"scattergl\"}],\"scattermapbox\":[{\"marker\":{\"colorbar\":{\"outlinewidth\":0,\"ticks\":\"\"}},\"type\":\"scattermapbox\"}],\"scatterpolar\":[{\"marker\":{\"colorbar\":{\"outlinewidth\":0,\"ticks\":\"\"}},\"type\":\"scatterpolar\"}],\"scatterpolargl\":[{\"marker\":{\"colorbar\":{\"outlinewidth\":0,\"ticks\":\"\"}},\"type\":\"scatterpolargl\"}],\"scatterternary\":[{\"marker\":{\"colorbar\":{\"outlinewidth\":0,\"ticks\":\"\"}},\"type\":\"scatterternary\"}],\"surface\":[{\"colorbar\":{\"outlinewidth\":0,\"ticks\":\"\"},\"colorscale\":[[0.0,\"#0d0887\"],[0.1111111111111111,\"#46039f\"],[0.2222222222222222,\"#7201a8\"],[0.3333333333333333,\"#9c179e\"],[0.4444444444444444,\"#bd3786\"],[0.5555555555555556,\"#d8576b\"],[0.6666666666666666,\"#ed7953\"],[0.7777777777777778,\"#fb9f3a\"],[0.8888888888888888,\"#fdca26\"],[1.0,\"#f0f921\"]],\"type\":\"surface\"}],\"table\":[{\"cells\":{\"fill\":{\"color\":\"#EBF0F8\"},\"line\":{\"color\":\"white\"}},\"header\":{\"fill\":{\"color\":\"#C8D4E3\"},\"line\":{\"color\":\"white\"}},\"type\":\"table\"}]},\"layout\":{\"annotationdefaults\":{\"arrowcolor\":\"#2a3f5f\",\"arrowhead\":0,\"arrowwidth\":1},\"autotypenumbers\":\"strict\",\"coloraxis\":{\"colorbar\":{\"outlinewidth\":0,\"ticks\":\"\"}},\"colorscale\":{\"diverging\":[[0,\"#8e0152\"],[0.1,\"#c51b7d\"],[0.2,\"#de77ae\"],[0.3,\"#f1b6da\"],[0.4,\"#fde0ef\"],[0.5,\"#f7f7f7\"],[0.6,\"#e6f5d0\"],[0.7,\"#b8e186\"],[0.8,\"#7fbc41\"],[0.9,\"#4d9221\"],[1,\"#276419\"]],\"sequential\":[[0.0,\"#0d0887\"],[0.1111111111111111,\"#46039f\"],[0.2222222222222222,\"#7201a8\"],[0.3333333333333333,\"#9c179e\"],[0.4444444444444444,\"#bd3786\"],[0.5555555555555556,\"#d8576b\"],[0.6666666666666666,\"#ed7953\"],[0.7777777777777778,\"#fb9f3a\"],[0.8888888888888888,\"#fdca26\"],[1.0,\"#f0f921\"]],\"sequentialminus\":[[0.0,\"#0d0887\"],[0.1111111111111111,\"#46039f\"],[0.2222222222222222,\"#7201a8\"],[0.3333333333333333,\"#9c179e\"],[0.4444444444444444,\"#bd3786\"],[0.5555555555555556,\"#d8576b\"],[0.6666666666666666,\"#ed7953\"],[0.7777777777777778,\"#fb9f3a\"],[0.8888888888888888,\"#fdca26\"],[1.0,\"#f0f921\"]]},\"colorway\":[\"#636efa\",\"#EF553B\",\"#00cc96\",\"#ab63fa\",\"#FFA15A\",\"#19d3f3\",\"#FF6692\",\"#B6E880\",\"#FF97FF\",\"#FECB52\"],\"font\":{\"color\":\"#2a3f5f\"},\"geo\":{\"bgcolor\":\"white\",\"lakecolor\":\"white\",\"landcolor\":\"#E5ECF6\",\"showlakes\":true,\"showland\":true,\"subunitcolor\":\"white\"},\"hoverlabel\":{\"align\":\"left\"},\"hovermode\":\"closest\",\"mapbox\":{\"style\":\"light\"},\"paper_bgcolor\":\"white\",\"plot_bgcolor\":\"#E5ECF6\",\"polar\":{\"angularaxis\":{\"gridcolor\":\"white\",\"linecolor\":\"white\",\"ticks\":\"\"},\"bgcolor\":\"#E5ECF6\",\"radialaxis\":{\"gridcolor\":\"white\",\"linecolor\":\"white\",\"ticks\":\"\"}},\"scene\":{\"xaxis\":{\"backgroundcolor\":\"#E5ECF6\",\"gridcolor\":\"white\",\"gridwidth\":2,\"linecolor\":\"white\",\"showbackground\":true,\"ticks\":\"\",\"zerolinecolor\":\"white\"},\"yaxis\":{\"backgroundcolor\":\"#E5ECF6\",\"gridcolor\":\"white\",\"gridwidth\":2,\"linecolor\":\"white\",\"showbackground\":true,\"ticks\":\"\",\"zerolinecolor\":\"white\"},\"zaxis\":{\"backgroundcolor\":\"#E5ECF6\",\"gridcolor\":\"white\",\"gridwidth\":2,\"linecolor\":\"white\",\"showbackground\":true,\"ticks\":\"\",\"zerolinecolor\":\"white\"}},\"shapedefaults\":{\"line\":{\"color\":\"#2a3f5f\"}},\"ternary\":{\"aaxis\":{\"gridcolor\":\"white\",\"linecolor\":\"white\",\"ticks\":\"\"},\"baxis\":{\"gridcolor\":\"white\",\"linecolor\":\"white\",\"ticks\":\"\"},\"bgcolor\":\"#E5ECF6\",\"caxis\":{\"gridcolor\":\"white\",\"linecolor\":\"white\",\"ticks\":\"\"}},\"title\":{\"x\":0.05},\"xaxis\":{\"automargin\":true,\"gridcolor\":\"white\",\"linecolor\":\"white\",\"ticks\":\"\",\"title\":{\"standoff\":15},\"zerolinecolor\":\"white\",\"zerolinewidth\":2},\"yaxis\":{\"automargin\":true,\"gridcolor\":\"white\",\"linecolor\":\"white\",\"ticks\":\"\",\"title\":{\"standoff\":15},\"zerolinecolor\":\"white\",\"zerolinewidth\":2}}}},                        {\"responsive\": true}                    ).then(function(){\n",
       "                            \n",
       "var gd = document.getElementById('6e22a5d8-9c4a-4824-ac5d-54cf6ea6373b');\n",
       "var x = new MutationObserver(function (mutations, observer) {{\n",
       "        var display = window.getComputedStyle(gd).display;\n",
       "        if (!display || display === 'none') {{\n",
       "            console.log([gd, 'removed!']);\n",
       "            Plotly.purge(gd);\n",
       "            observer.disconnect();\n",
       "        }}\n",
       "}});\n",
       "\n",
       "// Listen for the removal of the full notebook cells\n",
       "var notebookContainer = gd.closest('#notebook-container');\n",
       "if (notebookContainer) {{\n",
       "    x.observe(notebookContainer, {childList: true});\n",
       "}}\n",
       "\n",
       "// Listen for the clearing of the current output cell\n",
       "var outputEl = gd.closest('.output');\n",
       "if (outputEl) {{\n",
       "    x.observe(outputEl, {childList: true});\n",
       "}}\n",
       "\n",
       "                        })                };                });            </script>        </div>"
      ]
     },
     "metadata": {},
     "output_type": "display_data"
    }
   ],
   "source": [
    "fig = px.treemap(df_PL_JnC_21n19, path=[px.Constant(\"2019n2021\"),'year','Program_Language','Country'],\n",
    "                values='counts', color='Country',\n",
    "                  color_discrete_map={'(?)':'lightgrey', 'China':'gold', 'Japan':'darkblue'})\n",
    "\n",
    "fig.data[0].textinfo = 'label+percent parent+value'\n",
    "\n",
    "fig.update_layout(margin = dict(t=50, l=25, r=25, b=25))\n",
    "\n",
    "fig.show()"
   ]
  },
  {
   "cell_type": "markdown",
   "id": "21b62bdc",
   "metadata": {
    "papermill": {
     "duration": 0.069317,
     "end_time": "2021-11-23T02:17:22.869522",
     "exception": false,
     "start_time": "2021-11-23T02:17:22.800205",
     "status": "completed"
    },
    "tags": []
   },
   "source": [
    "\n",
    " # 프로그램 언어\n",
    "#### 일본\n",
    "> * 2019년도엔 Python(442)이 가장 높았으며 SQL(150) , R(121) , C++(79) ,Javascript(73), C(70) , Bash(64) , Java(56) 순으로 높았다.\n",
    "> * 2021년도엔 Python(786)이 가장 높았으며 SQL(232) , C++(164) , C(163) , Javascript(147) , Java(137) , R(122) , Bash(81) 순으로 높았다.\n",
    "> * Python과 SQL의 언어 비중이 대부분을 차지 하고 있으며 2019년도에 비해 R의 비중이 크게 감소했다.\n",
    "\n",
    "#### 중국\n",
    "> * 2019년도엔 Python(375)이 가장 높았으며 SQL(117) , C++(98) , Java(73) , Matlab(67) , C(66) , R(60) , Javascript(38) , Bash(36)순으로 높았다.\n",
    "> * 2021년도엔 Python(737)이 가장 높았으며 C++(267) , C(225) , SQL(215) , Java(212) , Matlab(169) , Javascript(86) , R(85) , Bash(31)순으로 높았다. \n",
    "> * Python의 차지 비율이 대부분을 차지 하고 있으며 2019년도 대비 C++과 C이 급증 했고 R과 Bash는 미미하며 낮은 비중을 차지한다.\n",
    "\n",
    "### 2019년도 대비 2021년에는 여전히 Python의 자리는 굳건해졌고 Python을 제외하면 대부분 고른 분포를 보이지만 R과 Bash의 사용률은 굉장히 낮다."
   ]
  },
  {
   "cell_type": "markdown",
   "id": "fc8b9150",
   "metadata": {
    "papermill": {
     "duration": 0.069025,
     "end_time": "2021-11-23T02:17:23.009017",
     "exception": false,
     "start_time": "2021-11-23T02:17:22.939992",
     "status": "completed"
    },
    "tags": []
   },
   "source": [
    "# Japan & China: IDE's\n",
    "> ##  Which of the following integrated development environments (IDE's) do you use on a regular basis? (Select all that apply)"
   ]
  },
  {
   "cell_type": "markdown",
   "id": "4713a1ef",
   "metadata": {
    "papermill": {
     "duration": 0.069144,
     "end_time": "2021-11-23T02:17:23.148106",
     "exception": false,
     "start_time": "2021-11-23T02:17:23.078962",
     "status": "completed"
    },
    "tags": []
   },
   "source": [
    "## DataFrame Set"
   ]
  },
  {
   "cell_type": "markdown",
   "id": "752127aa",
   "metadata": {
    "papermill": {
     "duration": 0.068848,
     "end_time": "2021-11-23T02:17:23.286432",
     "exception": false,
     "start_time": "2021-11-23T02:17:23.217584",
     "status": "completed"
    },
    "tags": []
   },
   "source": [
    "### Split Country"
   ]
  },
  {
   "cell_type": "markdown",
   "id": "f28b0dd5",
   "metadata": {
    "papermill": {
     "duration": 0.070371,
     "end_time": "2021-11-23T02:17:23.426556",
     "exception": false,
     "start_time": "2021-11-23T02:17:23.356185",
     "status": "completed"
    },
    "tags": []
   },
   "source": [
    "#### 2021"
   ]
  },
  {
   "cell_type": "code",
   "execution_count": 14,
   "id": "1fae823e",
   "metadata": {
    "_kg_hide-input": true,
    "execution": {
     "iopub.execute_input": "2021-11-23T02:17:23.577048Z",
     "iopub.status.busy": "2021-11-23T02:17:23.576308Z",
     "iopub.status.idle": "2021-11-23T02:17:23.609722Z",
     "shell.execute_reply": "2021-11-23T02:17:23.609186Z",
     "shell.execute_reply.started": "2021-11-23T01:58:09.307518Z"
    },
    "papermill": {
     "duration": 0.112083,
     "end_time": "2021-11-23T02:17:23.609895",
     "exception": false,
     "start_time": "2021-11-23T02:17:23.497812",
     "status": "completed"
    },
    "tags": []
   },
   "outputs": [],
   "source": [
    "## 앞선 Program_Language에서 선언된 객체로 주석처리\n",
    "#df21_Ch = df21_ChJp[df21_ChJp.Q3.isin([\"China\"])]\n",
    "#df21_Jp = df21_ChJp[df21_ChJp.Q3.isin([\"Japan\"])]\n",
    "\n",
    "\n",
    "## Q9(IDE's): 칼럼번호 22~34 - others\n",
    "df21_Jp_IDEs = pd.DataFrame()\n",
    "df21_Jp_IDEs['IDE\\'s'] = [df21_Jp[col][1:].value_counts().index[0] for col in df21_Jp.columns[21:33]]\n",
    "df21_Jp_IDEs['counts'] = [df21_Jp[col][1:].value_counts().values[0] for col in df21_Jp.columns[21:33]]\n",
    "\n",
    "\n",
    "df21_Ch_IDEs = pd.DataFrame()\n",
    "df21_Ch_IDEs['IDE\\'s'] = [df21_Ch[col][1:].value_counts().index[0] for col in df21_Ch.columns[21:33]]\n",
    "df21_Ch_IDEs['counts'] = [df21_Ch[col][1:].value_counts().values[0] for col in df21_Ch.columns[21:33]]\n",
    "\n",
    "\n",
    "\n",
    "df21_Ch_IDEs.insert(0, 'Country',  'China')\n",
    "df21_Jp_IDEs.insert(0, 'Country',  'Japan')\n",
    "\n",
    "df21_IDEs_JnC = pd.concat([df21_Jp_IDEs,df21_Ch_IDEs], ignore_index=True)"
   ]
  },
  {
   "cell_type": "markdown",
   "id": "0895c073",
   "metadata": {
    "papermill": {
     "duration": 0.069372,
     "end_time": "2021-11-23T02:17:23.749808",
     "exception": false,
     "start_time": "2021-11-23T02:17:23.680436",
     "status": "completed"
    },
    "tags": []
   },
   "source": [
    "#### 2019"
   ]
  },
  {
   "cell_type": "code",
   "execution_count": 15,
   "id": "af51807b",
   "metadata": {
    "_kg_hide-input": true,
    "execution": {
     "iopub.execute_input": "2021-11-23T02:17:23.936268Z",
     "iopub.status.busy": "2021-11-23T02:17:23.935551Z",
     "iopub.status.idle": "2021-11-23T02:17:23.938072Z",
     "shell.execute_reply": "2021-11-23T02:17:23.938521Z",
     "shell.execute_reply.started": "2021-11-23T01:58:09.351972Z"
    },
    "papermill": {
     "duration": 0.115689,
     "end_time": "2021-11-23T02:17:23.938694",
     "exception": false,
     "start_time": "2021-11-23T02:17:23.823005",
     "status": "completed"
    },
    "tags": []
   },
   "outputs": [],
   "source": [
    "#df19_Ch = df19_ChJp[df19.Q3.isin([\"China\"])]\n",
    "#df19_Jp = df19_ChJp[df19.Q3.isin([\"Japan\"])]\n",
    "\n",
    "\n",
    "## Q16(IDE's): 칼럼번호 57~69 - others\n",
    "df19_Jp_IDEs = pd.DataFrame()\n",
    "df19_Jp_IDEs['IDE\\'s'] = [df19_Jp[col][1:].value_counts().index[0] for col in df19_Jp.columns[56:68]]\n",
    "df19_Jp_IDEs['counts'] = [df19_Jp[col][1:].value_counts().values[0] for col in df19_Jp.columns[56:68]]\n",
    "\n",
    "\n",
    "df19_Ch_IDEs = pd.DataFrame()\n",
    "df19_Ch_IDEs['IDE\\'s'] = [df19_Ch[col][1:].value_counts().index[0] for col in df19_Ch.columns[56:68]]\n",
    "df19_Ch_IDEs['counts'] = [df19_Ch[col][1:].value_counts().values[0] for col in df19_Ch.columns[56:68]]\n",
    "\n",
    "\n",
    "\n",
    "df19_Jp_IDEs.insert(0, 'Country',  'China')\n",
    "df19_Ch_IDEs.insert(0, 'Country',  'Japan')\n",
    "\n",
    "df19_IDEs_JnC = pd.concat([df19_Jp_IDEs,df19_Ch_IDEs], ignore_index=True)"
   ]
  },
  {
   "cell_type": "markdown",
   "id": "a1ec5ded",
   "metadata": {
    "papermill": {
     "duration": 0.070352,
     "end_time": "2021-11-23T02:17:24.078434",
     "exception": false,
     "start_time": "2021-11-23T02:17:24.008082",
     "status": "completed"
    },
    "tags": []
   },
   "source": [
    "### Split year{Country}"
   ]
  },
  {
   "cell_type": "code",
   "execution_count": 16,
   "id": "f4f9555f",
   "metadata": {
    "_kg_hide-input": true,
    "execution": {
     "iopub.execute_input": "2021-11-23T02:17:24.221475Z",
     "iopub.status.busy": "2021-11-23T02:17:24.220807Z",
     "iopub.status.idle": "2021-11-23T02:17:24.227313Z",
     "shell.execute_reply": "2021-11-23T02:17:24.227861Z",
     "shell.execute_reply.started": "2021-11-23T01:58:09.393959Z"
    },
    "papermill": {
     "duration": 0.079469,
     "end_time": "2021-11-23T02:17:24.228047",
     "exception": false,
     "start_time": "2021-11-23T02:17:24.148578",
     "status": "completed"
    },
    "tags": []
   },
   "outputs": [],
   "source": [
    "df21_IDEs_JnC.insert(0, 'year',  '2021')\n",
    "#df21_JCQ9.rename(columns={'Q9':'IDE'}, inplace = True)\n",
    "df19_IDEs_JnC.insert(0, 'year',  '2019')\n",
    "#df19_JCQ9.rename(columns={'Q16':'IDE'}, inplace = True)\n",
    "\n",
    "df_IDEs_JnC_21n19 = pd.concat([df21_IDEs_JnC,df19_IDEs_JnC], ignore_index=True)"
   ]
  },
  {
   "cell_type": "code",
   "execution_count": 17,
   "id": "fb61c752",
   "metadata": {
    "execution": {
     "iopub.execute_input": "2021-11-23T02:17:24.375297Z",
     "iopub.status.busy": "2021-11-23T02:17:24.372767Z",
     "iopub.status.idle": "2021-11-23T02:17:24.378088Z",
     "shell.execute_reply": "2021-11-23T02:17:24.377505Z",
     "shell.execute_reply.started": "2021-11-23T01:58:09.410072Z"
    },
    "papermill": {
     "duration": 0.08042,
     "end_time": "2021-11-23T02:17:24.378247",
     "exception": false,
     "start_time": "2021-11-23T02:17:24.297827",
     "status": "completed"
    },
    "tags": []
   },
   "outputs": [],
   "source": [
    "# 요소명 간략화\n",
    "df_IDEs_JnC_21n19.replace(to_replace = 'Jupyter (JupyterLab, Jupyter Notebooks, etc) ', value = 'Jupyter', inplace = True)\n",
    "df_IDEs_JnC_21n19.replace(to_replace = 'Visual Studio / Visual Studio Code', value = 'VS / VSCode', inplace = True, regex = True)"
   ]
  },
  {
   "cell_type": "code",
   "execution_count": 18,
   "id": "a7c68783",
   "metadata": {
    "_kg_hide-input": true,
    "execution": {
     "iopub.execute_input": "2021-11-23T02:17:24.522767Z",
     "iopub.status.busy": "2021-11-23T02:17:24.522104Z",
     "iopub.status.idle": "2021-11-23T02:17:24.661095Z",
     "shell.execute_reply": "2021-11-23T02:17:24.661624Z",
     "shell.execute_reply.started": "2021-11-23T01:58:09.423995Z"
    },
    "papermill": {
     "duration": 0.211853,
     "end_time": "2021-11-23T02:17:24.661812",
     "exception": false,
     "start_time": "2021-11-23T02:17:24.449959",
     "status": "completed"
    },
    "tags": []
   },
   "outputs": [
    {
     "data": {
      "application/vnd.plotly.v1+json": {
       "config": {
        "plotlyServerURL": "https://plot.ly"
       },
       "data": [
        {
         "branchvalues": "total",
         "customdata": [
          [
           "China"
          ],
          [
           "Japan"
          ],
          [
           "Japan"
          ],
          [
           "Japan"
          ],
          [
           "Japan"
          ],
          [
           "Japan"
          ],
          [
           "Japan"
          ],
          [
           "Japan"
          ],
          [
           "Japan"
          ],
          [
           "Japan"
          ],
          [
           "China"
          ],
          [
           "China"
          ],
          [
           "China"
          ],
          [
           "China"
          ],
          [
           "China"
          ],
          [
           "China"
          ],
          [
           "China"
          ],
          [
           "China"
          ],
          [
           "Japan"
          ],
          [
           "Japan"
          ],
          [
           "Japan"
          ],
          [
           "China"
          ],
          [
           "China"
          ],
          [
           "China"
          ],
          [
           "Japan"
          ],
          [
           "Japan"
          ],
          [
           "Japan"
          ],
          [
           "Japan"
          ],
          [
           "Japan"
          ],
          [
           "Japan"
          ],
          [
           "Japan"
          ],
          [
           "Japan"
          ],
          [
           "Japan"
          ],
          [
           "Japan"
          ],
          [
           "China"
          ],
          [
           "China"
          ],
          [
           "China"
          ],
          [
           "China"
          ],
          [
           "China"
          ],
          [
           "China"
          ],
          [
           "China"
          ],
          [
           "China"
          ],
          [
           "China"
          ],
          [
           "China"
          ],
          [
           "China"
          ],
          [
           "China"
          ],
          [
           "Japan"
          ],
          [
           "Japan"
          ],
          [
           "(?)"
          ],
          [
           "(?)"
          ],
          [
           "(?)"
          ],
          [
           "(?)"
          ],
          [
           "(?)"
          ],
          [
           "(?)"
          ],
          [
           "(?)"
          ],
          [
           "(?)"
          ],
          [
           "(?)"
          ],
          [
           "(?)"
          ],
          [
           "(?)"
          ],
          [
           "(?)"
          ],
          [
           "(?)"
          ],
          [
           "(?)"
          ],
          [
           "(?)"
          ],
          [
           "(?)"
          ],
          [
           "(?)"
          ],
          [
           "(?)"
          ],
          [
           "(?)"
          ],
          [
           "(?)"
          ],
          [
           "(?)"
          ],
          [
           "(?)"
          ],
          [
           "(?)"
          ],
          [
           "(?)"
          ],
          [
           "(?)"
          ],
          [
           "(?)"
          ],
          [
           "(?)"
          ]
         ],
         "domain": {
          "x": [
           0.0,
           1.0
          ],
          "y": [
           0.0,
           1.0
          ]
         },
         "hovertemplate": "labels=%{label}<br>counts=%{value}<br>parent=%{parent}<br>id=%{id}<br>Country=%{customdata[0]}<extra></extra>",
         "ids": [
          "2019n2021/2019/Other/China",
          "2019n2021/2021/  Vim / Emacs  /Japan",
          "2019n2021/2019/  Vim / Emacs  /Japan",
          "2019n2021/2021/  Sublime Text  /Japan",
          "2019n2021/2019/  Sublime Text  /Japan",
          "2019n2021/2021/  Spyder  /Japan",
          "2019n2021/2019/  Spyder  /Japan",
          "2019n2021/2021/  Notepad++  /Japan",
          "2019n2021/2019/  Notepad++  /Japan",
          "2019n2021/2019/ MATLAB /Japan",
          "2019n2021/2021/None/China",
          "2019n2021/2019/None/China",
          "2019n2021/2021/Jupyter/China",
          "2019n2021/2019/Jupyter/China",
          "2019n2021/2021/ Visual Studio Code (VSCode) /China",
          "2019n2021/2021/ Visual Studio /China",
          "2019n2021/2019/ VS / VSCode /China",
          "2019n2021/2021/ RStudio /China",
          "2019n2021/2019/ Atom /Japan",
          "2019n2021/2021/ MATLAB /Japan",
          "2019n2021/2021/ Jupyter Notebook/Japan",
          "2019n2021/2021/ PyCharm /China",
          "2019n2021/2019/ RStudio /China",
          "2019n2021/2019/ PyCharm /China",
          "2019n2021/2019/ PyCharm /Japan",
          "2019n2021/2021/ PyCharm /Japan",
          "2019n2021/2019/ RStudio /Japan",
          "2019n2021/2019/ VS / VSCode /Japan",
          "2019n2021/2021/ Visual Studio /Japan",
          "2019n2021/2021/ Visual Studio Code (VSCode) /Japan",
          "2019n2021/2019/Jupyter/Japan",
          "2019n2021/2021/Jupyter/Japan",
          "2019n2021/2019/None/Japan",
          "2019n2021/2021/ RStudio /Japan",
          "2019n2021/2019/  Notepad++  /China",
          "2019n2021/2021/ MATLAB /China",
          "2019n2021/2019/ MATLAB /China",
          "2019n2021/2021/ Jupyter Notebook/China",
          "2019n2021/2019/ Atom /China",
          "2019n2021/2021/  Vim / Emacs  /China",
          "2019n2021/2019/  Vim / Emacs  /China",
          "2019n2021/2021/  Sublime Text  /China",
          "2019n2021/2019/  Sublime Text  /China",
          "2019n2021/2021/  Spyder  /China",
          "2019n2021/2019/  Spyder  /China",
          "2019n2021/2021/  Notepad++  /China",
          "2019n2021/2021/None/Japan",
          "2019n2021/2019/Other/Japan",
          "2019n2021/2019/  Notepad++  ",
          "2019n2021/2021/  Notepad++  ",
          "2019n2021/2019/  Spyder  ",
          "2019n2021/2021/  Spyder  ",
          "2019n2021/2019/  Sublime Text  ",
          "2019n2021/2021/  Sublime Text  ",
          "2019n2021/2019/  Vim / Emacs  ",
          "2019n2021/2021/  Vim / Emacs  ",
          "2019n2021/2019/ Atom ",
          "2019n2021/2021/ Jupyter Notebook",
          "2019n2021/2019/ MATLAB ",
          "2019n2021/2021/ MATLAB ",
          "2019n2021/2019/ PyCharm ",
          "2019n2021/2021/ PyCharm ",
          "2019n2021/2019/ RStudio ",
          "2019n2021/2021/ RStudio ",
          "2019n2021/2019/ VS / VSCode ",
          "2019n2021/2021/ Visual Studio ",
          "2019n2021/2021/ Visual Studio Code (VSCode) ",
          "2019n2021/2019/Jupyter",
          "2019n2021/2021/Jupyter",
          "2019n2021/2019/None",
          "2019n2021/2021/None",
          "2019n2021/2019/Other",
          "2019n2021/2019",
          "2019n2021/2021",
          "2019n2021"
         ],
         "labels": [
          "China",
          "Japan",
          "Japan",
          "Japan",
          "Japan",
          "Japan",
          "Japan",
          "Japan",
          "Japan",
          "Japan",
          "China",
          "China",
          "China",
          "China",
          "China",
          "China",
          "China",
          "China",
          "Japan",
          "Japan",
          "Japan",
          "China",
          "China",
          "China",
          "Japan",
          "Japan",
          "Japan",
          "Japan",
          "Japan",
          "Japan",
          "Japan",
          "Japan",
          "Japan",
          "Japan",
          "China",
          "China",
          "China",
          "China",
          "China",
          "China",
          "China",
          "China",
          "China",
          "China",
          "China",
          "China",
          "Japan",
          "Japan",
          "  Notepad++  ",
          "  Notepad++  ",
          "  Spyder  ",
          "  Spyder  ",
          "  Sublime Text  ",
          "  Sublime Text  ",
          "  Vim / Emacs  ",
          "  Vim / Emacs  ",
          " Atom ",
          " Jupyter Notebook",
          " MATLAB ",
          " MATLAB ",
          " PyCharm ",
          " PyCharm ",
          " RStudio ",
          " RStudio ",
          " VS / VSCode ",
          " Visual Studio ",
          " Visual Studio Code (VSCode) ",
          "Jupyter",
          "Jupyter",
          "None",
          "None",
          "Other",
          "2019",
          "2021",
          "2019n2021"
         ],
         "marker": {
          "colors": [
           "gold",
           "darkblue",
           "darkblue",
           "darkblue",
           "darkblue",
           "darkblue",
           "darkblue",
           "darkblue",
           "darkblue",
           "darkblue",
           "gold",
           "gold",
           "gold",
           "gold",
           "gold",
           "gold",
           "gold",
           "gold",
           "darkblue",
           "darkblue",
           "darkblue",
           "gold",
           "gold",
           "gold",
           "darkblue",
           "darkblue",
           "darkblue",
           "darkblue",
           "darkblue",
           "darkblue",
           "darkblue",
           "darkblue",
           "darkblue",
           "darkblue",
           "gold",
           "gold",
           "gold",
           "gold",
           "gold",
           "gold",
           "gold",
           "gold",
           "gold",
           "gold",
           "gold",
           "gold",
           "darkblue",
           "darkblue",
           "lightgrey",
           "lightgrey",
           "lightgrey",
           "lightgrey",
           "lightgrey",
           "lightgrey",
           "lightgrey",
           "lightgrey",
           "lightgrey",
           "lightgrey",
           "lightgrey",
           "lightgrey",
           "lightgrey",
           "lightgrey",
           "lightgrey",
           "lightgrey",
           "lightgrey",
           "lightgrey",
           "lightgrey",
           "lightgrey",
           "lightgrey",
           "lightgrey",
           "lightgrey",
           "lightgrey",
           "lightgrey",
           "lightgrey",
           "lightgrey"
          ]
         },
         "name": "",
         "parents": [
          "2019n2021/2019/Other",
          "2019n2021/2021/  Vim / Emacs  ",
          "2019n2021/2019/  Vim / Emacs  ",
          "2019n2021/2021/  Sublime Text  ",
          "2019n2021/2019/  Sublime Text  ",
          "2019n2021/2021/  Spyder  ",
          "2019n2021/2019/  Spyder  ",
          "2019n2021/2021/  Notepad++  ",
          "2019n2021/2019/  Notepad++  ",
          "2019n2021/2019/ MATLAB ",
          "2019n2021/2021/None",
          "2019n2021/2019/None",
          "2019n2021/2021/Jupyter",
          "2019n2021/2019/Jupyter",
          "2019n2021/2021/ Visual Studio Code (VSCode) ",
          "2019n2021/2021/ Visual Studio ",
          "2019n2021/2019/ VS / VSCode ",
          "2019n2021/2021/ RStudio ",
          "2019n2021/2019/ Atom ",
          "2019n2021/2021/ MATLAB ",
          "2019n2021/2021/ Jupyter Notebook",
          "2019n2021/2021/ PyCharm ",
          "2019n2021/2019/ RStudio ",
          "2019n2021/2019/ PyCharm ",
          "2019n2021/2019/ PyCharm ",
          "2019n2021/2021/ PyCharm ",
          "2019n2021/2019/ RStudio ",
          "2019n2021/2019/ VS / VSCode ",
          "2019n2021/2021/ Visual Studio ",
          "2019n2021/2021/ Visual Studio Code (VSCode) ",
          "2019n2021/2019/Jupyter",
          "2019n2021/2021/Jupyter",
          "2019n2021/2019/None",
          "2019n2021/2021/ RStudio ",
          "2019n2021/2019/  Notepad++  ",
          "2019n2021/2021/ MATLAB ",
          "2019n2021/2019/ MATLAB ",
          "2019n2021/2021/ Jupyter Notebook",
          "2019n2021/2019/ Atom ",
          "2019n2021/2021/  Vim / Emacs  ",
          "2019n2021/2019/  Vim / Emacs  ",
          "2019n2021/2021/  Sublime Text  ",
          "2019n2021/2019/  Sublime Text  ",
          "2019n2021/2021/  Spyder  ",
          "2019n2021/2019/  Spyder  ",
          "2019n2021/2021/  Notepad++  ",
          "2019n2021/2021/None",
          "2019n2021/2019/Other",
          "2019n2021/2019",
          "2019n2021/2021",
          "2019n2021/2019",
          "2019n2021/2021",
          "2019n2021/2019",
          "2019n2021/2021",
          "2019n2021/2019",
          "2019n2021/2021",
          "2019n2021/2019",
          "2019n2021/2021",
          "2019n2021/2019",
          "2019n2021/2021",
          "2019n2021/2019",
          "2019n2021/2021",
          "2019n2021/2019",
          "2019n2021/2021",
          "2019n2021/2019",
          "2019n2021/2021",
          "2019n2021/2021",
          "2019n2021/2019",
          "2019n2021/2021",
          "2019n2021/2019",
          "2019n2021/2021",
          "2019n2021/2019",
          "2019n2021",
          "2019n2021",
          ""
         ],
         "textinfo": "label+percent parent+value",
         "type": "treemap",
         "values": [
          18,
          99,
          73,
          36,
          86,
          70,
          78,
          29,
          86,
          87,
          8,
          9,
          141,
          372,
          329,
          154,
          200,
          71,
          15,
          34,
          514,
          494,
          96,
          98,
          240,
          107,
          54,
          137,
          136,
          414,
          293,
          200,
          1,
          92,
          20,
          158,
          35,
          405,
          79,
          45,
          111,
          75,
          48,
          74,
          45,
          90,
          23,
          12,
          106,
          119,
          123,
          144,
          134,
          111,
          184,
          144,
          94,
          919,
          122,
          192,
          338,
          601,
          150,
          163,
          337,
          290,
          743,
          665,
          341,
          10,
          31,
          30,
          2293,
          3798,
          6091
         ]
        }
       ],
       "layout": {
        "legend": {
         "tracegroupgap": 0
        },
        "margin": {
         "b": 25,
         "l": 25,
         "r": 25,
         "t": 50
        },
        "template": {
         "data": {
          "bar": [
           {
            "error_x": {
             "color": "#2a3f5f"
            },
            "error_y": {
             "color": "#2a3f5f"
            },
            "marker": {
             "line": {
              "color": "#E5ECF6",
              "width": 0.5
             },
             "pattern": {
              "fillmode": "overlay",
              "size": 10,
              "solidity": 0.2
             }
            },
            "type": "bar"
           }
          ],
          "barpolar": [
           {
            "marker": {
             "line": {
              "color": "#E5ECF6",
              "width": 0.5
             },
             "pattern": {
              "fillmode": "overlay",
              "size": 10,
              "solidity": 0.2
             }
            },
            "type": "barpolar"
           }
          ],
          "carpet": [
           {
            "aaxis": {
             "endlinecolor": "#2a3f5f",
             "gridcolor": "white",
             "linecolor": "white",
             "minorgridcolor": "white",
             "startlinecolor": "#2a3f5f"
            },
            "baxis": {
             "endlinecolor": "#2a3f5f",
             "gridcolor": "white",
             "linecolor": "white",
             "minorgridcolor": "white",
             "startlinecolor": "#2a3f5f"
            },
            "type": "carpet"
           }
          ],
          "choropleth": [
           {
            "colorbar": {
             "outlinewidth": 0,
             "ticks": ""
            },
            "type": "choropleth"
           }
          ],
          "contour": [
           {
            "colorbar": {
             "outlinewidth": 0,
             "ticks": ""
            },
            "colorscale": [
             [
              0.0,
              "#0d0887"
             ],
             [
              0.1111111111111111,
              "#46039f"
             ],
             [
              0.2222222222222222,
              "#7201a8"
             ],
             [
              0.3333333333333333,
              "#9c179e"
             ],
             [
              0.4444444444444444,
              "#bd3786"
             ],
             [
              0.5555555555555556,
              "#d8576b"
             ],
             [
              0.6666666666666666,
              "#ed7953"
             ],
             [
              0.7777777777777778,
              "#fb9f3a"
             ],
             [
              0.8888888888888888,
              "#fdca26"
             ],
             [
              1.0,
              "#f0f921"
             ]
            ],
            "type": "contour"
           }
          ],
          "contourcarpet": [
           {
            "colorbar": {
             "outlinewidth": 0,
             "ticks": ""
            },
            "type": "contourcarpet"
           }
          ],
          "heatmap": [
           {
            "colorbar": {
             "outlinewidth": 0,
             "ticks": ""
            },
            "colorscale": [
             [
              0.0,
              "#0d0887"
             ],
             [
              0.1111111111111111,
              "#46039f"
             ],
             [
              0.2222222222222222,
              "#7201a8"
             ],
             [
              0.3333333333333333,
              "#9c179e"
             ],
             [
              0.4444444444444444,
              "#bd3786"
             ],
             [
              0.5555555555555556,
              "#d8576b"
             ],
             [
              0.6666666666666666,
              "#ed7953"
             ],
             [
              0.7777777777777778,
              "#fb9f3a"
             ],
             [
              0.8888888888888888,
              "#fdca26"
             ],
             [
              1.0,
              "#f0f921"
             ]
            ],
            "type": "heatmap"
           }
          ],
          "heatmapgl": [
           {
            "colorbar": {
             "outlinewidth": 0,
             "ticks": ""
            },
            "colorscale": [
             [
              0.0,
              "#0d0887"
             ],
             [
              0.1111111111111111,
              "#46039f"
             ],
             [
              0.2222222222222222,
              "#7201a8"
             ],
             [
              0.3333333333333333,
              "#9c179e"
             ],
             [
              0.4444444444444444,
              "#bd3786"
             ],
             [
              0.5555555555555556,
              "#d8576b"
             ],
             [
              0.6666666666666666,
              "#ed7953"
             ],
             [
              0.7777777777777778,
              "#fb9f3a"
             ],
             [
              0.8888888888888888,
              "#fdca26"
             ],
             [
              1.0,
              "#f0f921"
             ]
            ],
            "type": "heatmapgl"
           }
          ],
          "histogram": [
           {
            "marker": {
             "pattern": {
              "fillmode": "overlay",
              "size": 10,
              "solidity": 0.2
             }
            },
            "type": "histogram"
           }
          ],
          "histogram2d": [
           {
            "colorbar": {
             "outlinewidth": 0,
             "ticks": ""
            },
            "colorscale": [
             [
              0.0,
              "#0d0887"
             ],
             [
              0.1111111111111111,
              "#46039f"
             ],
             [
              0.2222222222222222,
              "#7201a8"
             ],
             [
              0.3333333333333333,
              "#9c179e"
             ],
             [
              0.4444444444444444,
              "#bd3786"
             ],
             [
              0.5555555555555556,
              "#d8576b"
             ],
             [
              0.6666666666666666,
              "#ed7953"
             ],
             [
              0.7777777777777778,
              "#fb9f3a"
             ],
             [
              0.8888888888888888,
              "#fdca26"
             ],
             [
              1.0,
              "#f0f921"
             ]
            ],
            "type": "histogram2d"
           }
          ],
          "histogram2dcontour": [
           {
            "colorbar": {
             "outlinewidth": 0,
             "ticks": ""
            },
            "colorscale": [
             [
              0.0,
              "#0d0887"
             ],
             [
              0.1111111111111111,
              "#46039f"
             ],
             [
              0.2222222222222222,
              "#7201a8"
             ],
             [
              0.3333333333333333,
              "#9c179e"
             ],
             [
              0.4444444444444444,
              "#bd3786"
             ],
             [
              0.5555555555555556,
              "#d8576b"
             ],
             [
              0.6666666666666666,
              "#ed7953"
             ],
             [
              0.7777777777777778,
              "#fb9f3a"
             ],
             [
              0.8888888888888888,
              "#fdca26"
             ],
             [
              1.0,
              "#f0f921"
             ]
            ],
            "type": "histogram2dcontour"
           }
          ],
          "mesh3d": [
           {
            "colorbar": {
             "outlinewidth": 0,
             "ticks": ""
            },
            "type": "mesh3d"
           }
          ],
          "parcoords": [
           {
            "line": {
             "colorbar": {
              "outlinewidth": 0,
              "ticks": ""
             }
            },
            "type": "parcoords"
           }
          ],
          "pie": [
           {
            "automargin": true,
            "type": "pie"
           }
          ],
          "scatter": [
           {
            "marker": {
             "colorbar": {
              "outlinewidth": 0,
              "ticks": ""
             }
            },
            "type": "scatter"
           }
          ],
          "scatter3d": [
           {
            "line": {
             "colorbar": {
              "outlinewidth": 0,
              "ticks": ""
             }
            },
            "marker": {
             "colorbar": {
              "outlinewidth": 0,
              "ticks": ""
             }
            },
            "type": "scatter3d"
           }
          ],
          "scattercarpet": [
           {
            "marker": {
             "colorbar": {
              "outlinewidth": 0,
              "ticks": ""
             }
            },
            "type": "scattercarpet"
           }
          ],
          "scattergeo": [
           {
            "marker": {
             "colorbar": {
              "outlinewidth": 0,
              "ticks": ""
             }
            },
            "type": "scattergeo"
           }
          ],
          "scattergl": [
           {
            "marker": {
             "colorbar": {
              "outlinewidth": 0,
              "ticks": ""
             }
            },
            "type": "scattergl"
           }
          ],
          "scattermapbox": [
           {
            "marker": {
             "colorbar": {
              "outlinewidth": 0,
              "ticks": ""
             }
            },
            "type": "scattermapbox"
           }
          ],
          "scatterpolar": [
           {
            "marker": {
             "colorbar": {
              "outlinewidth": 0,
              "ticks": ""
             }
            },
            "type": "scatterpolar"
           }
          ],
          "scatterpolargl": [
           {
            "marker": {
             "colorbar": {
              "outlinewidth": 0,
              "ticks": ""
             }
            },
            "type": "scatterpolargl"
           }
          ],
          "scatterternary": [
           {
            "marker": {
             "colorbar": {
              "outlinewidth": 0,
              "ticks": ""
             }
            },
            "type": "scatterternary"
           }
          ],
          "surface": [
           {
            "colorbar": {
             "outlinewidth": 0,
             "ticks": ""
            },
            "colorscale": [
             [
              0.0,
              "#0d0887"
             ],
             [
              0.1111111111111111,
              "#46039f"
             ],
             [
              0.2222222222222222,
              "#7201a8"
             ],
             [
              0.3333333333333333,
              "#9c179e"
             ],
             [
              0.4444444444444444,
              "#bd3786"
             ],
             [
              0.5555555555555556,
              "#d8576b"
             ],
             [
              0.6666666666666666,
              "#ed7953"
             ],
             [
              0.7777777777777778,
              "#fb9f3a"
             ],
             [
              0.8888888888888888,
              "#fdca26"
             ],
             [
              1.0,
              "#f0f921"
             ]
            ],
            "type": "surface"
           }
          ],
          "table": [
           {
            "cells": {
             "fill": {
              "color": "#EBF0F8"
             },
             "line": {
              "color": "white"
             }
            },
            "header": {
             "fill": {
              "color": "#C8D4E3"
             },
             "line": {
              "color": "white"
             }
            },
            "type": "table"
           }
          ]
         },
         "layout": {
          "annotationdefaults": {
           "arrowcolor": "#2a3f5f",
           "arrowhead": 0,
           "arrowwidth": 1
          },
          "autotypenumbers": "strict",
          "coloraxis": {
           "colorbar": {
            "outlinewidth": 0,
            "ticks": ""
           }
          },
          "colorscale": {
           "diverging": [
            [
             0,
             "#8e0152"
            ],
            [
             0.1,
             "#c51b7d"
            ],
            [
             0.2,
             "#de77ae"
            ],
            [
             0.3,
             "#f1b6da"
            ],
            [
             0.4,
             "#fde0ef"
            ],
            [
             0.5,
             "#f7f7f7"
            ],
            [
             0.6,
             "#e6f5d0"
            ],
            [
             0.7,
             "#b8e186"
            ],
            [
             0.8,
             "#7fbc41"
            ],
            [
             0.9,
             "#4d9221"
            ],
            [
             1,
             "#276419"
            ]
           ],
           "sequential": [
            [
             0.0,
             "#0d0887"
            ],
            [
             0.1111111111111111,
             "#46039f"
            ],
            [
             0.2222222222222222,
             "#7201a8"
            ],
            [
             0.3333333333333333,
             "#9c179e"
            ],
            [
             0.4444444444444444,
             "#bd3786"
            ],
            [
             0.5555555555555556,
             "#d8576b"
            ],
            [
             0.6666666666666666,
             "#ed7953"
            ],
            [
             0.7777777777777778,
             "#fb9f3a"
            ],
            [
             0.8888888888888888,
             "#fdca26"
            ],
            [
             1.0,
             "#f0f921"
            ]
           ],
           "sequentialminus": [
            [
             0.0,
             "#0d0887"
            ],
            [
             0.1111111111111111,
             "#46039f"
            ],
            [
             0.2222222222222222,
             "#7201a8"
            ],
            [
             0.3333333333333333,
             "#9c179e"
            ],
            [
             0.4444444444444444,
             "#bd3786"
            ],
            [
             0.5555555555555556,
             "#d8576b"
            ],
            [
             0.6666666666666666,
             "#ed7953"
            ],
            [
             0.7777777777777778,
             "#fb9f3a"
            ],
            [
             0.8888888888888888,
             "#fdca26"
            ],
            [
             1.0,
             "#f0f921"
            ]
           ]
          },
          "colorway": [
           "#636efa",
           "#EF553B",
           "#00cc96",
           "#ab63fa",
           "#FFA15A",
           "#19d3f3",
           "#FF6692",
           "#B6E880",
           "#FF97FF",
           "#FECB52"
          ],
          "font": {
           "color": "#2a3f5f"
          },
          "geo": {
           "bgcolor": "white",
           "lakecolor": "white",
           "landcolor": "#E5ECF6",
           "showlakes": true,
           "showland": true,
           "subunitcolor": "white"
          },
          "hoverlabel": {
           "align": "left"
          },
          "hovermode": "closest",
          "mapbox": {
           "style": "light"
          },
          "paper_bgcolor": "white",
          "plot_bgcolor": "#E5ECF6",
          "polar": {
           "angularaxis": {
            "gridcolor": "white",
            "linecolor": "white",
            "ticks": ""
           },
           "bgcolor": "#E5ECF6",
           "radialaxis": {
            "gridcolor": "white",
            "linecolor": "white",
            "ticks": ""
           }
          },
          "scene": {
           "xaxis": {
            "backgroundcolor": "#E5ECF6",
            "gridcolor": "white",
            "gridwidth": 2,
            "linecolor": "white",
            "showbackground": true,
            "ticks": "",
            "zerolinecolor": "white"
           },
           "yaxis": {
            "backgroundcolor": "#E5ECF6",
            "gridcolor": "white",
            "gridwidth": 2,
            "linecolor": "white",
            "showbackground": true,
            "ticks": "",
            "zerolinecolor": "white"
           },
           "zaxis": {
            "backgroundcolor": "#E5ECF6",
            "gridcolor": "white",
            "gridwidth": 2,
            "linecolor": "white",
            "showbackground": true,
            "ticks": "",
            "zerolinecolor": "white"
           }
          },
          "shapedefaults": {
           "line": {
            "color": "#2a3f5f"
           }
          },
          "ternary": {
           "aaxis": {
            "gridcolor": "white",
            "linecolor": "white",
            "ticks": ""
           },
           "baxis": {
            "gridcolor": "white",
            "linecolor": "white",
            "ticks": ""
           },
           "bgcolor": "#E5ECF6",
           "caxis": {
            "gridcolor": "white",
            "linecolor": "white",
            "ticks": ""
           }
          },
          "title": {
           "x": 0.05
          },
          "xaxis": {
           "automargin": true,
           "gridcolor": "white",
           "linecolor": "white",
           "ticks": "",
           "title": {
            "standoff": 15
           },
           "zerolinecolor": "white",
           "zerolinewidth": 2
          },
          "yaxis": {
           "automargin": true,
           "gridcolor": "white",
           "linecolor": "white",
           "ticks": "",
           "title": {
            "standoff": 15
           },
           "zerolinecolor": "white",
           "zerolinewidth": 2
          }
         }
        }
       }
      },
      "text/html": [
       "<div>                            <div id=\"3c16aca5-705a-409d-9c68-005439a4c645\" class=\"plotly-graph-div\" style=\"height:525px; width:100%;\"></div>            <script type=\"text/javascript\">                require([\"plotly\"], function(Plotly) {                    window.PLOTLYENV=window.PLOTLYENV || {};                                    if (document.getElementById(\"3c16aca5-705a-409d-9c68-005439a4c645\")) {                    Plotly.newPlot(                        \"3c16aca5-705a-409d-9c68-005439a4c645\",                        [{\"branchvalues\":\"total\",\"customdata\":[[\"China\"],[\"Japan\"],[\"Japan\"],[\"Japan\"],[\"Japan\"],[\"Japan\"],[\"Japan\"],[\"Japan\"],[\"Japan\"],[\"Japan\"],[\"China\"],[\"China\"],[\"China\"],[\"China\"],[\"China\"],[\"China\"],[\"China\"],[\"China\"],[\"Japan\"],[\"Japan\"],[\"Japan\"],[\"China\"],[\"China\"],[\"China\"],[\"Japan\"],[\"Japan\"],[\"Japan\"],[\"Japan\"],[\"Japan\"],[\"Japan\"],[\"Japan\"],[\"Japan\"],[\"Japan\"],[\"Japan\"],[\"China\"],[\"China\"],[\"China\"],[\"China\"],[\"China\"],[\"China\"],[\"China\"],[\"China\"],[\"China\"],[\"China\"],[\"China\"],[\"China\"],[\"Japan\"],[\"Japan\"],[\"(?)\"],[\"(?)\"],[\"(?)\"],[\"(?)\"],[\"(?)\"],[\"(?)\"],[\"(?)\"],[\"(?)\"],[\"(?)\"],[\"(?)\"],[\"(?)\"],[\"(?)\"],[\"(?)\"],[\"(?)\"],[\"(?)\"],[\"(?)\"],[\"(?)\"],[\"(?)\"],[\"(?)\"],[\"(?)\"],[\"(?)\"],[\"(?)\"],[\"(?)\"],[\"(?)\"],[\"(?)\"],[\"(?)\"],[\"(?)\"]],\"domain\":{\"x\":[0.0,1.0],\"y\":[0.0,1.0]},\"hovertemplate\":\"labels=%{label}<br>counts=%{value}<br>parent=%{parent}<br>id=%{id}<br>Country=%{customdata[0]}<extra></extra>\",\"ids\":[\"2019n2021/2019/Other/China\",\"2019n2021/2021/  Vim / Emacs  /Japan\",\"2019n2021/2019/  Vim / Emacs  /Japan\",\"2019n2021/2021/  Sublime Text  /Japan\",\"2019n2021/2019/  Sublime Text  /Japan\",\"2019n2021/2021/  Spyder  /Japan\",\"2019n2021/2019/  Spyder  /Japan\",\"2019n2021/2021/  Notepad++  /Japan\",\"2019n2021/2019/  Notepad++  /Japan\",\"2019n2021/2019/ MATLAB /Japan\",\"2019n2021/2021/None/China\",\"2019n2021/2019/None/China\",\"2019n2021/2021/Jupyter/China\",\"2019n2021/2019/Jupyter/China\",\"2019n2021/2021/ Visual Studio Code (VSCode) /China\",\"2019n2021/2021/ Visual Studio /China\",\"2019n2021/2019/ VS / VSCode /China\",\"2019n2021/2021/ RStudio /China\",\"2019n2021/2019/ Atom /Japan\",\"2019n2021/2021/ MATLAB /Japan\",\"2019n2021/2021/ Jupyter Notebook/Japan\",\"2019n2021/2021/ PyCharm /China\",\"2019n2021/2019/ RStudio /China\",\"2019n2021/2019/ PyCharm /China\",\"2019n2021/2019/ PyCharm /Japan\",\"2019n2021/2021/ PyCharm /Japan\",\"2019n2021/2019/ RStudio /Japan\",\"2019n2021/2019/ VS / VSCode /Japan\",\"2019n2021/2021/ Visual Studio /Japan\",\"2019n2021/2021/ Visual Studio Code (VSCode) /Japan\",\"2019n2021/2019/Jupyter/Japan\",\"2019n2021/2021/Jupyter/Japan\",\"2019n2021/2019/None/Japan\",\"2019n2021/2021/ RStudio /Japan\",\"2019n2021/2019/  Notepad++  /China\",\"2019n2021/2021/ MATLAB /China\",\"2019n2021/2019/ MATLAB /China\",\"2019n2021/2021/ Jupyter Notebook/China\",\"2019n2021/2019/ Atom /China\",\"2019n2021/2021/  Vim / Emacs  /China\",\"2019n2021/2019/  Vim / Emacs  /China\",\"2019n2021/2021/  Sublime Text  /China\",\"2019n2021/2019/  Sublime Text  /China\",\"2019n2021/2021/  Spyder  /China\",\"2019n2021/2019/  Spyder  /China\",\"2019n2021/2021/  Notepad++  /China\",\"2019n2021/2021/None/Japan\",\"2019n2021/2019/Other/Japan\",\"2019n2021/2019/  Notepad++  \",\"2019n2021/2021/  Notepad++  \",\"2019n2021/2019/  Spyder  \",\"2019n2021/2021/  Spyder  \",\"2019n2021/2019/  Sublime Text  \",\"2019n2021/2021/  Sublime Text  \",\"2019n2021/2019/  Vim / Emacs  \",\"2019n2021/2021/  Vim / Emacs  \",\"2019n2021/2019/ Atom \",\"2019n2021/2021/ Jupyter Notebook\",\"2019n2021/2019/ MATLAB \",\"2019n2021/2021/ MATLAB \",\"2019n2021/2019/ PyCharm \",\"2019n2021/2021/ PyCharm \",\"2019n2021/2019/ RStudio \",\"2019n2021/2021/ RStudio \",\"2019n2021/2019/ VS / VSCode \",\"2019n2021/2021/ Visual Studio \",\"2019n2021/2021/ Visual Studio Code (VSCode) \",\"2019n2021/2019/Jupyter\",\"2019n2021/2021/Jupyter\",\"2019n2021/2019/None\",\"2019n2021/2021/None\",\"2019n2021/2019/Other\",\"2019n2021/2019\",\"2019n2021/2021\",\"2019n2021\"],\"labels\":[\"China\",\"Japan\",\"Japan\",\"Japan\",\"Japan\",\"Japan\",\"Japan\",\"Japan\",\"Japan\",\"Japan\",\"China\",\"China\",\"China\",\"China\",\"China\",\"China\",\"China\",\"China\",\"Japan\",\"Japan\",\"Japan\",\"China\",\"China\",\"China\",\"Japan\",\"Japan\",\"Japan\",\"Japan\",\"Japan\",\"Japan\",\"Japan\",\"Japan\",\"Japan\",\"Japan\",\"China\",\"China\",\"China\",\"China\",\"China\",\"China\",\"China\",\"China\",\"China\",\"China\",\"China\",\"China\",\"Japan\",\"Japan\",\"  Notepad++  \",\"  Notepad++  \",\"  Spyder  \",\"  Spyder  \",\"  Sublime Text  \",\"  Sublime Text  \",\"  Vim / Emacs  \",\"  Vim / Emacs  \",\" Atom \",\" Jupyter Notebook\",\" MATLAB \",\" MATLAB \",\" PyCharm \",\" PyCharm \",\" RStudio \",\" RStudio \",\" VS / VSCode \",\" Visual Studio \",\" Visual Studio Code (VSCode) \",\"Jupyter\",\"Jupyter\",\"None\",\"None\",\"Other\",\"2019\",\"2021\",\"2019n2021\"],\"marker\":{\"colors\":[\"gold\",\"darkblue\",\"darkblue\",\"darkblue\",\"darkblue\",\"darkblue\",\"darkblue\",\"darkblue\",\"darkblue\",\"darkblue\",\"gold\",\"gold\",\"gold\",\"gold\",\"gold\",\"gold\",\"gold\",\"gold\",\"darkblue\",\"darkblue\",\"darkblue\",\"gold\",\"gold\",\"gold\",\"darkblue\",\"darkblue\",\"darkblue\",\"darkblue\",\"darkblue\",\"darkblue\",\"darkblue\",\"darkblue\",\"darkblue\",\"darkblue\",\"gold\",\"gold\",\"gold\",\"gold\",\"gold\",\"gold\",\"gold\",\"gold\",\"gold\",\"gold\",\"gold\",\"gold\",\"darkblue\",\"darkblue\",\"lightgrey\",\"lightgrey\",\"lightgrey\",\"lightgrey\",\"lightgrey\",\"lightgrey\",\"lightgrey\",\"lightgrey\",\"lightgrey\",\"lightgrey\",\"lightgrey\",\"lightgrey\",\"lightgrey\",\"lightgrey\",\"lightgrey\",\"lightgrey\",\"lightgrey\",\"lightgrey\",\"lightgrey\",\"lightgrey\",\"lightgrey\",\"lightgrey\",\"lightgrey\",\"lightgrey\",\"lightgrey\",\"lightgrey\",\"lightgrey\"]},\"name\":\"\",\"parents\":[\"2019n2021/2019/Other\",\"2019n2021/2021/  Vim / Emacs  \",\"2019n2021/2019/  Vim / Emacs  \",\"2019n2021/2021/  Sublime Text  \",\"2019n2021/2019/  Sublime Text  \",\"2019n2021/2021/  Spyder  \",\"2019n2021/2019/  Spyder  \",\"2019n2021/2021/  Notepad++  \",\"2019n2021/2019/  Notepad++  \",\"2019n2021/2019/ MATLAB \",\"2019n2021/2021/None\",\"2019n2021/2019/None\",\"2019n2021/2021/Jupyter\",\"2019n2021/2019/Jupyter\",\"2019n2021/2021/ Visual Studio Code (VSCode) \",\"2019n2021/2021/ Visual Studio \",\"2019n2021/2019/ VS / VSCode \",\"2019n2021/2021/ RStudio \",\"2019n2021/2019/ Atom \",\"2019n2021/2021/ MATLAB \",\"2019n2021/2021/ Jupyter Notebook\",\"2019n2021/2021/ PyCharm \",\"2019n2021/2019/ RStudio \",\"2019n2021/2019/ PyCharm \",\"2019n2021/2019/ PyCharm \",\"2019n2021/2021/ PyCharm \",\"2019n2021/2019/ RStudio \",\"2019n2021/2019/ VS / VSCode \",\"2019n2021/2021/ Visual Studio \",\"2019n2021/2021/ Visual Studio Code (VSCode) \",\"2019n2021/2019/Jupyter\",\"2019n2021/2021/Jupyter\",\"2019n2021/2019/None\",\"2019n2021/2021/ RStudio \",\"2019n2021/2019/  Notepad++  \",\"2019n2021/2021/ MATLAB \",\"2019n2021/2019/ MATLAB \",\"2019n2021/2021/ Jupyter Notebook\",\"2019n2021/2019/ Atom \",\"2019n2021/2021/  Vim / Emacs  \",\"2019n2021/2019/  Vim / Emacs  \",\"2019n2021/2021/  Sublime Text  \",\"2019n2021/2019/  Sublime Text  \",\"2019n2021/2021/  Spyder  \",\"2019n2021/2019/  Spyder  \",\"2019n2021/2021/  Notepad++  \",\"2019n2021/2021/None\",\"2019n2021/2019/Other\",\"2019n2021/2019\",\"2019n2021/2021\",\"2019n2021/2019\",\"2019n2021/2021\",\"2019n2021/2019\",\"2019n2021/2021\",\"2019n2021/2019\",\"2019n2021/2021\",\"2019n2021/2019\",\"2019n2021/2021\",\"2019n2021/2019\",\"2019n2021/2021\",\"2019n2021/2019\",\"2019n2021/2021\",\"2019n2021/2019\",\"2019n2021/2021\",\"2019n2021/2019\",\"2019n2021/2021\",\"2019n2021/2021\",\"2019n2021/2019\",\"2019n2021/2021\",\"2019n2021/2019\",\"2019n2021/2021\",\"2019n2021/2019\",\"2019n2021\",\"2019n2021\",\"\"],\"textinfo\":\"label+percent parent+value\",\"type\":\"treemap\",\"values\":[18,99,73,36,86,70,78,29,86,87,8,9,141,372,329,154,200,71,15,34,514,494,96,98,240,107,54,137,136,414,293,200,1,92,20,158,35,405,79,45,111,75,48,74,45,90,23,12,106,119,123,144,134,111,184,144,94,919,122,192,338,601,150,163,337,290,743,665,341,10,31,30,2293,3798,6091]}],                        {\"legend\":{\"tracegroupgap\":0},\"margin\":{\"b\":25,\"l\":25,\"r\":25,\"t\":50},\"template\":{\"data\":{\"bar\":[{\"error_x\":{\"color\":\"#2a3f5f\"},\"error_y\":{\"color\":\"#2a3f5f\"},\"marker\":{\"line\":{\"color\":\"#E5ECF6\",\"width\":0.5},\"pattern\":{\"fillmode\":\"overlay\",\"size\":10,\"solidity\":0.2}},\"type\":\"bar\"}],\"barpolar\":[{\"marker\":{\"line\":{\"color\":\"#E5ECF6\",\"width\":0.5},\"pattern\":{\"fillmode\":\"overlay\",\"size\":10,\"solidity\":0.2}},\"type\":\"barpolar\"}],\"carpet\":[{\"aaxis\":{\"endlinecolor\":\"#2a3f5f\",\"gridcolor\":\"white\",\"linecolor\":\"white\",\"minorgridcolor\":\"white\",\"startlinecolor\":\"#2a3f5f\"},\"baxis\":{\"endlinecolor\":\"#2a3f5f\",\"gridcolor\":\"white\",\"linecolor\":\"white\",\"minorgridcolor\":\"white\",\"startlinecolor\":\"#2a3f5f\"},\"type\":\"carpet\"}],\"choropleth\":[{\"colorbar\":{\"outlinewidth\":0,\"ticks\":\"\"},\"type\":\"choropleth\"}],\"contour\":[{\"colorbar\":{\"outlinewidth\":0,\"ticks\":\"\"},\"colorscale\":[[0.0,\"#0d0887\"],[0.1111111111111111,\"#46039f\"],[0.2222222222222222,\"#7201a8\"],[0.3333333333333333,\"#9c179e\"],[0.4444444444444444,\"#bd3786\"],[0.5555555555555556,\"#d8576b\"],[0.6666666666666666,\"#ed7953\"],[0.7777777777777778,\"#fb9f3a\"],[0.8888888888888888,\"#fdca26\"],[1.0,\"#f0f921\"]],\"type\":\"contour\"}],\"contourcarpet\":[{\"colorbar\":{\"outlinewidth\":0,\"ticks\":\"\"},\"type\":\"contourcarpet\"}],\"heatmap\":[{\"colorbar\":{\"outlinewidth\":0,\"ticks\":\"\"},\"colorscale\":[[0.0,\"#0d0887\"],[0.1111111111111111,\"#46039f\"],[0.2222222222222222,\"#7201a8\"],[0.3333333333333333,\"#9c179e\"],[0.4444444444444444,\"#bd3786\"],[0.5555555555555556,\"#d8576b\"],[0.6666666666666666,\"#ed7953\"],[0.7777777777777778,\"#fb9f3a\"],[0.8888888888888888,\"#fdca26\"],[1.0,\"#f0f921\"]],\"type\":\"heatmap\"}],\"heatmapgl\":[{\"colorbar\":{\"outlinewidth\":0,\"ticks\":\"\"},\"colorscale\":[[0.0,\"#0d0887\"],[0.1111111111111111,\"#46039f\"],[0.2222222222222222,\"#7201a8\"],[0.3333333333333333,\"#9c179e\"],[0.4444444444444444,\"#bd3786\"],[0.5555555555555556,\"#d8576b\"],[0.6666666666666666,\"#ed7953\"],[0.7777777777777778,\"#fb9f3a\"],[0.8888888888888888,\"#fdca26\"],[1.0,\"#f0f921\"]],\"type\":\"heatmapgl\"}],\"histogram\":[{\"marker\":{\"pattern\":{\"fillmode\":\"overlay\",\"size\":10,\"solidity\":0.2}},\"type\":\"histogram\"}],\"histogram2d\":[{\"colorbar\":{\"outlinewidth\":0,\"ticks\":\"\"},\"colorscale\":[[0.0,\"#0d0887\"],[0.1111111111111111,\"#46039f\"],[0.2222222222222222,\"#7201a8\"],[0.3333333333333333,\"#9c179e\"],[0.4444444444444444,\"#bd3786\"],[0.5555555555555556,\"#d8576b\"],[0.6666666666666666,\"#ed7953\"],[0.7777777777777778,\"#fb9f3a\"],[0.8888888888888888,\"#fdca26\"],[1.0,\"#f0f921\"]],\"type\":\"histogram2d\"}],\"histogram2dcontour\":[{\"colorbar\":{\"outlinewidth\":0,\"ticks\":\"\"},\"colorscale\":[[0.0,\"#0d0887\"],[0.1111111111111111,\"#46039f\"],[0.2222222222222222,\"#7201a8\"],[0.3333333333333333,\"#9c179e\"],[0.4444444444444444,\"#bd3786\"],[0.5555555555555556,\"#d8576b\"],[0.6666666666666666,\"#ed7953\"],[0.7777777777777778,\"#fb9f3a\"],[0.8888888888888888,\"#fdca26\"],[1.0,\"#f0f921\"]],\"type\":\"histogram2dcontour\"}],\"mesh3d\":[{\"colorbar\":{\"outlinewidth\":0,\"ticks\":\"\"},\"type\":\"mesh3d\"}],\"parcoords\":[{\"line\":{\"colorbar\":{\"outlinewidth\":0,\"ticks\":\"\"}},\"type\":\"parcoords\"}],\"pie\":[{\"automargin\":true,\"type\":\"pie\"}],\"scatter\":[{\"marker\":{\"colorbar\":{\"outlinewidth\":0,\"ticks\":\"\"}},\"type\":\"scatter\"}],\"scatter3d\":[{\"line\":{\"colorbar\":{\"outlinewidth\":0,\"ticks\":\"\"}},\"marker\":{\"colorbar\":{\"outlinewidth\":0,\"ticks\":\"\"}},\"type\":\"scatter3d\"}],\"scattercarpet\":[{\"marker\":{\"colorbar\":{\"outlinewidth\":0,\"ticks\":\"\"}},\"type\":\"scattercarpet\"}],\"scattergeo\":[{\"marker\":{\"colorbar\":{\"outlinewidth\":0,\"ticks\":\"\"}},\"type\":\"scattergeo\"}],\"scattergl\":[{\"marker\":{\"colorbar\":{\"outlinewidth\":0,\"ticks\":\"\"}},\"type\":\"scattergl\"}],\"scattermapbox\":[{\"marker\":{\"colorbar\":{\"outlinewidth\":0,\"ticks\":\"\"}},\"type\":\"scattermapbox\"}],\"scatterpolar\":[{\"marker\":{\"colorbar\":{\"outlinewidth\":0,\"ticks\":\"\"}},\"type\":\"scatterpolar\"}],\"scatterpolargl\":[{\"marker\":{\"colorbar\":{\"outlinewidth\":0,\"ticks\":\"\"}},\"type\":\"scatterpolargl\"}],\"scatterternary\":[{\"marker\":{\"colorbar\":{\"outlinewidth\":0,\"ticks\":\"\"}},\"type\":\"scatterternary\"}],\"surface\":[{\"colorbar\":{\"outlinewidth\":0,\"ticks\":\"\"},\"colorscale\":[[0.0,\"#0d0887\"],[0.1111111111111111,\"#46039f\"],[0.2222222222222222,\"#7201a8\"],[0.3333333333333333,\"#9c179e\"],[0.4444444444444444,\"#bd3786\"],[0.5555555555555556,\"#d8576b\"],[0.6666666666666666,\"#ed7953\"],[0.7777777777777778,\"#fb9f3a\"],[0.8888888888888888,\"#fdca26\"],[1.0,\"#f0f921\"]],\"type\":\"surface\"}],\"table\":[{\"cells\":{\"fill\":{\"color\":\"#EBF0F8\"},\"line\":{\"color\":\"white\"}},\"header\":{\"fill\":{\"color\":\"#C8D4E3\"},\"line\":{\"color\":\"white\"}},\"type\":\"table\"}]},\"layout\":{\"annotationdefaults\":{\"arrowcolor\":\"#2a3f5f\",\"arrowhead\":0,\"arrowwidth\":1},\"autotypenumbers\":\"strict\",\"coloraxis\":{\"colorbar\":{\"outlinewidth\":0,\"ticks\":\"\"}},\"colorscale\":{\"diverging\":[[0,\"#8e0152\"],[0.1,\"#c51b7d\"],[0.2,\"#de77ae\"],[0.3,\"#f1b6da\"],[0.4,\"#fde0ef\"],[0.5,\"#f7f7f7\"],[0.6,\"#e6f5d0\"],[0.7,\"#b8e186\"],[0.8,\"#7fbc41\"],[0.9,\"#4d9221\"],[1,\"#276419\"]],\"sequential\":[[0.0,\"#0d0887\"],[0.1111111111111111,\"#46039f\"],[0.2222222222222222,\"#7201a8\"],[0.3333333333333333,\"#9c179e\"],[0.4444444444444444,\"#bd3786\"],[0.5555555555555556,\"#d8576b\"],[0.6666666666666666,\"#ed7953\"],[0.7777777777777778,\"#fb9f3a\"],[0.8888888888888888,\"#fdca26\"],[1.0,\"#f0f921\"]],\"sequentialminus\":[[0.0,\"#0d0887\"],[0.1111111111111111,\"#46039f\"],[0.2222222222222222,\"#7201a8\"],[0.3333333333333333,\"#9c179e\"],[0.4444444444444444,\"#bd3786\"],[0.5555555555555556,\"#d8576b\"],[0.6666666666666666,\"#ed7953\"],[0.7777777777777778,\"#fb9f3a\"],[0.8888888888888888,\"#fdca26\"],[1.0,\"#f0f921\"]]},\"colorway\":[\"#636efa\",\"#EF553B\",\"#00cc96\",\"#ab63fa\",\"#FFA15A\",\"#19d3f3\",\"#FF6692\",\"#B6E880\",\"#FF97FF\",\"#FECB52\"],\"font\":{\"color\":\"#2a3f5f\"},\"geo\":{\"bgcolor\":\"white\",\"lakecolor\":\"white\",\"landcolor\":\"#E5ECF6\",\"showlakes\":true,\"showland\":true,\"subunitcolor\":\"white\"},\"hoverlabel\":{\"align\":\"left\"},\"hovermode\":\"closest\",\"mapbox\":{\"style\":\"light\"},\"paper_bgcolor\":\"white\",\"plot_bgcolor\":\"#E5ECF6\",\"polar\":{\"angularaxis\":{\"gridcolor\":\"white\",\"linecolor\":\"white\",\"ticks\":\"\"},\"bgcolor\":\"#E5ECF6\",\"radialaxis\":{\"gridcolor\":\"white\",\"linecolor\":\"white\",\"ticks\":\"\"}},\"scene\":{\"xaxis\":{\"backgroundcolor\":\"#E5ECF6\",\"gridcolor\":\"white\",\"gridwidth\":2,\"linecolor\":\"white\",\"showbackground\":true,\"ticks\":\"\",\"zerolinecolor\":\"white\"},\"yaxis\":{\"backgroundcolor\":\"#E5ECF6\",\"gridcolor\":\"white\",\"gridwidth\":2,\"linecolor\":\"white\",\"showbackground\":true,\"ticks\":\"\",\"zerolinecolor\":\"white\"},\"zaxis\":{\"backgroundcolor\":\"#E5ECF6\",\"gridcolor\":\"white\",\"gridwidth\":2,\"linecolor\":\"white\",\"showbackground\":true,\"ticks\":\"\",\"zerolinecolor\":\"white\"}},\"shapedefaults\":{\"line\":{\"color\":\"#2a3f5f\"}},\"ternary\":{\"aaxis\":{\"gridcolor\":\"white\",\"linecolor\":\"white\",\"ticks\":\"\"},\"baxis\":{\"gridcolor\":\"white\",\"linecolor\":\"white\",\"ticks\":\"\"},\"bgcolor\":\"#E5ECF6\",\"caxis\":{\"gridcolor\":\"white\",\"linecolor\":\"white\",\"ticks\":\"\"}},\"title\":{\"x\":0.05},\"xaxis\":{\"automargin\":true,\"gridcolor\":\"white\",\"linecolor\":\"white\",\"ticks\":\"\",\"title\":{\"standoff\":15},\"zerolinecolor\":\"white\",\"zerolinewidth\":2},\"yaxis\":{\"automargin\":true,\"gridcolor\":\"white\",\"linecolor\":\"white\",\"ticks\":\"\",\"title\":{\"standoff\":15},\"zerolinecolor\":\"white\",\"zerolinewidth\":2}}}},                        {\"responsive\": true}                    ).then(function(){\n",
       "                            \n",
       "var gd = document.getElementById('3c16aca5-705a-409d-9c68-005439a4c645');\n",
       "var x = new MutationObserver(function (mutations, observer) {{\n",
       "        var display = window.getComputedStyle(gd).display;\n",
       "        if (!display || display === 'none') {{\n",
       "            console.log([gd, 'removed!']);\n",
       "            Plotly.purge(gd);\n",
       "            observer.disconnect();\n",
       "        }}\n",
       "}});\n",
       "\n",
       "// Listen for the removal of the full notebook cells\n",
       "var notebookContainer = gd.closest('#notebook-container');\n",
       "if (notebookContainer) {{\n",
       "    x.observe(notebookContainer, {childList: true});\n",
       "}}\n",
       "\n",
       "// Listen for the clearing of the current output cell\n",
       "var outputEl = gd.closest('.output');\n",
       "if (outputEl) {{\n",
       "    x.observe(outputEl, {childList: true});\n",
       "}}\n",
       "\n",
       "                        })                };                });            </script>        </div>"
      ]
     },
     "metadata": {},
     "output_type": "display_data"
    }
   ],
   "source": [
    "fig = px.treemap(df_IDEs_JnC_21n19, path=[px.Constant(\"2019n2021\"),'year','IDE\\'s','Country'],\n",
    "                values='counts', color='Country',\n",
    "                  color_discrete_map={'(?)':'lightgrey', 'China':'gold', 'Japan':'darkblue'})\n",
    "\n",
    "fig.data[0].textinfo = 'label+percent parent+value'\n",
    "\n",
    "fig.update_layout(margin = dict(t=50, l=25, r=25, b=25))\n",
    "\n",
    "fig.show()"
   ]
  },
  {
   "cell_type": "markdown",
   "id": "68601fee",
   "metadata": {
    "papermill": {
     "duration": 0.077214,
     "end_time": "2021-11-23T02:17:24.819567",
     "exception": false,
     "start_time": "2021-11-23T02:17:24.742353",
     "status": "completed"
    },
    "tags": []
   },
   "source": [
    "\n",
    " # 통합 개발 환경(IDE's) \n",
    " - *2021년도 자료에는 문항이 나누어져 있어 Jupyter와 visual이 세부적으로 나뉘져 있다.(편의상 Jupter와 visual로 호칭)*\n",
    " \n",
    "#### 일본\n",
    "> * 2019년도엔 Jupyter(293)과 Pycharm(240)이 주를 이르고 있으며 Visual(137)이 세번째의 비중을 차지하고 있으며 뒤따르고 있는 개발 환경들은 비슷비슷한 수치를 보이고 있다.\n",
    "> * 2021년도엔 Jupyter과 Visual 대부분을 차지 하며 Pycharm과 나머지 항목들이 뒤를 잇고 있다.\n",
    "> * Visual의 사용률이 급증했으며 Jupyter와 Visual 이 양대산맥을 이룰정도로 압도적인 수치를 보이고 Pycharm의 증가는 미미하고 Visual에 밀린 모습이다.\n",
    "\n",
    "#### 중국\n",
    "> * 2019년도엔 Jupyter과 Visual이 주를 이루고 있으며 Vim / Emacs가 세번째로 비중이 컸다 pycharm과 Rstudio가 그 뒤를 따르고 있다.\n",
    "> * 2021년도엔 Pycharm의 비중이 크게 증가했으며 Jupter와 Visual은 여전히 높은 수치를 보여 주고 있고 Python도 어깨를 나란히 하고 있다.\n",
    "> * 기존에 높았던 Jupter와 Visual은 더 많은 사람들이 사용을 하고 점유율이 크지 않던 Pycharm이 2021년도가 됨에따라 많은 비중을 차지 한다.\n",
    "\n",
    "### 두 나라 모두 Jupyter, Visual 굉장히 큰 비중을 차지하고 있다"
   ]
  },
  {
   "cell_type": "markdown",
   "id": "6a32e2ec",
   "metadata": {
    "papermill": {
     "duration": 0.078412,
     "end_time": "2021-11-23T02:17:24.976212",
     "exception": false,
     "start_time": "2021-11-23T02:17:24.897800",
     "status": "completed"
    },
    "tags": []
   },
   "source": [
    "# Frameworks\n",
    "> ##  Which of the following machine learning frameworks do you use on a regular basis? (Select all that apply)\n"
   ]
  },
  {
   "cell_type": "code",
   "execution_count": 19,
   "id": "662feaed",
   "metadata": {
    "_kg_hide-input": true,
    "execution": {
     "iopub.execute_input": "2021-11-23T02:17:25.142036Z",
     "iopub.status.busy": "2021-11-23T02:17:25.141295Z",
     "iopub.status.idle": "2021-11-23T02:17:25.191285Z",
     "shell.execute_reply": "2021-11-23T02:17:25.191842Z",
     "shell.execute_reply.started": "2021-11-23T01:58:09.578955Z"
    },
    "papermill": {
     "duration": 0.136618,
     "end_time": "2021-11-23T02:17:25.192028",
     "exception": false,
     "start_time": "2021-11-23T02:17:25.055410",
     "status": "completed"
    },
    "tags": []
   },
   "outputs": [
    {
     "data": {
      "application/vnd.plotly.v1+json": {
       "config": {
        "plotlyServerURL": "https://plot.ly"
       },
       "data": [
        {
         "marker": {
          "color": "#FDB0C0"
         },
         "name": "2019_JP",
         "type": "bar",
         "x": [
          "  Scikit-learn ",
          "  TensorFlow ",
          " Keras ",
          " RandomForest",
          " Xgboost ",
          " PyTorch ",
          " Caret ",
          " LightGBM ",
          " Spark MLib ",
          " Fast.ai ",
          "None"
         ],
         "xaxis": "x",
         "y": [
          345,
          247,
          215,
          204,
          191,
          150,
          128,
          23,
          21,
          11,
          7
         ],
         "yaxis": "y"
        },
        {
         "marker": {
          "color": "#FFDB81"
         },
         "name": "2019_CN",
         "type": "bar",
         "x": [
          "  Scikit-learn ",
          "  TensorFlow ",
          " Keras ",
          " RandomForest",
          " Xgboost ",
          " PyTorch ",
          " Caret ",
          " LightGBM ",
          " Spark MLib ",
          " Fast.ai ",
          "None"
         ],
         "xaxis": "x",
         "y": [
          251,
          212,
          177,
          161,
          148,
          114,
          95,
          30,
          29,
          13,
          11
         ],
         "yaxis": "y"
        },
        {
         "marker": {
          "color": "#FD4659"
         },
         "name": "2021_JP",
         "type": "bar",
         "x": [
          "  Scikit-learn ",
          "  TensorFlow ",
          " Keras ",
          " PyTorch ",
          " Fast.ai ",
          " MXNet ",
          " Xgboost ",
          " LightGBM ",
          " CatBoost ",
          " Prophet ",
          " H2O 3 ",
          " Caret ",
          " Tidymodels ",
          " JAX ",
          " PyTorch Lightning ",
          " Huggingface ",
          "None"
         ],
         "xaxis": "x2",
         "y": [
          548,
          305,
          301,
          282,
          270,
          270,
          83,
          58,
          54,
          44,
          25,
          14,
          13,
          10,
          6,
          6,
          3
         ],
         "yaxis": "y2"
        },
        {
         "marker": {
          "color": "#FFAB0F"
         },
         "name": "2021_CN",
         "type": "bar",
         "x": [
          "  Scikit-learn ",
          "  TensorFlow ",
          " Keras ",
          " PyTorch ",
          " Fast.ai ",
          " MXNet ",
          " Xgboost ",
          " LightGBM ",
          " CatBoost ",
          " Prophet ",
          " H2O 3 ",
          " Caret ",
          " Tidymodels ",
          " JAX ",
          " PyTorch Lightning ",
          " Huggingface ",
          "None"
         ],
         "xaxis": "x2",
         "y": [
          339,
          288,
          286,
          201,
          109,
          63,
          47,
          33,
          22,
          18,
          16,
          15,
          14,
          8,
          6,
          5,
          2
         ],
         "yaxis": "y2"
        }
       ],
       "layout": {
        "autosize": true,
        "showlegend": true,
        "template": {
         "data": {
          "bar": [
           {
            "error_x": {
             "color": "#2a3f5f"
            },
            "error_y": {
             "color": "#2a3f5f"
            },
            "marker": {
             "line": {
              "color": "#E5ECF6",
              "width": 0.5
             },
             "pattern": {
              "fillmode": "overlay",
              "size": 10,
              "solidity": 0.2
             }
            },
            "type": "bar"
           }
          ],
          "barpolar": [
           {
            "marker": {
             "line": {
              "color": "#E5ECF6",
              "width": 0.5
             },
             "pattern": {
              "fillmode": "overlay",
              "size": 10,
              "solidity": 0.2
             }
            },
            "type": "barpolar"
           }
          ],
          "carpet": [
           {
            "aaxis": {
             "endlinecolor": "#2a3f5f",
             "gridcolor": "white",
             "linecolor": "white",
             "minorgridcolor": "white",
             "startlinecolor": "#2a3f5f"
            },
            "baxis": {
             "endlinecolor": "#2a3f5f",
             "gridcolor": "white",
             "linecolor": "white",
             "minorgridcolor": "white",
             "startlinecolor": "#2a3f5f"
            },
            "type": "carpet"
           }
          ],
          "choropleth": [
           {
            "colorbar": {
             "outlinewidth": 0,
             "ticks": ""
            },
            "type": "choropleth"
           }
          ],
          "contour": [
           {
            "colorbar": {
             "outlinewidth": 0,
             "ticks": ""
            },
            "colorscale": [
             [
              0.0,
              "#0d0887"
             ],
             [
              0.1111111111111111,
              "#46039f"
             ],
             [
              0.2222222222222222,
              "#7201a8"
             ],
             [
              0.3333333333333333,
              "#9c179e"
             ],
             [
              0.4444444444444444,
              "#bd3786"
             ],
             [
              0.5555555555555556,
              "#d8576b"
             ],
             [
              0.6666666666666666,
              "#ed7953"
             ],
             [
              0.7777777777777778,
              "#fb9f3a"
             ],
             [
              0.8888888888888888,
              "#fdca26"
             ],
             [
              1.0,
              "#f0f921"
             ]
            ],
            "type": "contour"
           }
          ],
          "contourcarpet": [
           {
            "colorbar": {
             "outlinewidth": 0,
             "ticks": ""
            },
            "type": "contourcarpet"
           }
          ],
          "heatmap": [
           {
            "colorbar": {
             "outlinewidth": 0,
             "ticks": ""
            },
            "colorscale": [
             [
              0.0,
              "#0d0887"
             ],
             [
              0.1111111111111111,
              "#46039f"
             ],
             [
              0.2222222222222222,
              "#7201a8"
             ],
             [
              0.3333333333333333,
              "#9c179e"
             ],
             [
              0.4444444444444444,
              "#bd3786"
             ],
             [
              0.5555555555555556,
              "#d8576b"
             ],
             [
              0.6666666666666666,
              "#ed7953"
             ],
             [
              0.7777777777777778,
              "#fb9f3a"
             ],
             [
              0.8888888888888888,
              "#fdca26"
             ],
             [
              1.0,
              "#f0f921"
             ]
            ],
            "type": "heatmap"
           }
          ],
          "heatmapgl": [
           {
            "colorbar": {
             "outlinewidth": 0,
             "ticks": ""
            },
            "colorscale": [
             [
              0.0,
              "#0d0887"
             ],
             [
              0.1111111111111111,
              "#46039f"
             ],
             [
              0.2222222222222222,
              "#7201a8"
             ],
             [
              0.3333333333333333,
              "#9c179e"
             ],
             [
              0.4444444444444444,
              "#bd3786"
             ],
             [
              0.5555555555555556,
              "#d8576b"
             ],
             [
              0.6666666666666666,
              "#ed7953"
             ],
             [
              0.7777777777777778,
              "#fb9f3a"
             ],
             [
              0.8888888888888888,
              "#fdca26"
             ],
             [
              1.0,
              "#f0f921"
             ]
            ],
            "type": "heatmapgl"
           }
          ],
          "histogram": [
           {
            "marker": {
             "pattern": {
              "fillmode": "overlay",
              "size": 10,
              "solidity": 0.2
             }
            },
            "type": "histogram"
           }
          ],
          "histogram2d": [
           {
            "colorbar": {
             "outlinewidth": 0,
             "ticks": ""
            },
            "colorscale": [
             [
              0.0,
              "#0d0887"
             ],
             [
              0.1111111111111111,
              "#46039f"
             ],
             [
              0.2222222222222222,
              "#7201a8"
             ],
             [
              0.3333333333333333,
              "#9c179e"
             ],
             [
              0.4444444444444444,
              "#bd3786"
             ],
             [
              0.5555555555555556,
              "#d8576b"
             ],
             [
              0.6666666666666666,
              "#ed7953"
             ],
             [
              0.7777777777777778,
              "#fb9f3a"
             ],
             [
              0.8888888888888888,
              "#fdca26"
             ],
             [
              1.0,
              "#f0f921"
             ]
            ],
            "type": "histogram2d"
           }
          ],
          "histogram2dcontour": [
           {
            "colorbar": {
             "outlinewidth": 0,
             "ticks": ""
            },
            "colorscale": [
             [
              0.0,
              "#0d0887"
             ],
             [
              0.1111111111111111,
              "#46039f"
             ],
             [
              0.2222222222222222,
              "#7201a8"
             ],
             [
              0.3333333333333333,
              "#9c179e"
             ],
             [
              0.4444444444444444,
              "#bd3786"
             ],
             [
              0.5555555555555556,
              "#d8576b"
             ],
             [
              0.6666666666666666,
              "#ed7953"
             ],
             [
              0.7777777777777778,
              "#fb9f3a"
             ],
             [
              0.8888888888888888,
              "#fdca26"
             ],
             [
              1.0,
              "#f0f921"
             ]
            ],
            "type": "histogram2dcontour"
           }
          ],
          "mesh3d": [
           {
            "colorbar": {
             "outlinewidth": 0,
             "ticks": ""
            },
            "type": "mesh3d"
           }
          ],
          "parcoords": [
           {
            "line": {
             "colorbar": {
              "outlinewidth": 0,
              "ticks": ""
             }
            },
            "type": "parcoords"
           }
          ],
          "pie": [
           {
            "automargin": true,
            "type": "pie"
           }
          ],
          "scatter": [
           {
            "marker": {
             "colorbar": {
              "outlinewidth": 0,
              "ticks": ""
             }
            },
            "type": "scatter"
           }
          ],
          "scatter3d": [
           {
            "line": {
             "colorbar": {
              "outlinewidth": 0,
              "ticks": ""
             }
            },
            "marker": {
             "colorbar": {
              "outlinewidth": 0,
              "ticks": ""
             }
            },
            "type": "scatter3d"
           }
          ],
          "scattercarpet": [
           {
            "marker": {
             "colorbar": {
              "outlinewidth": 0,
              "ticks": ""
             }
            },
            "type": "scattercarpet"
           }
          ],
          "scattergeo": [
           {
            "marker": {
             "colorbar": {
              "outlinewidth": 0,
              "ticks": ""
             }
            },
            "type": "scattergeo"
           }
          ],
          "scattergl": [
           {
            "marker": {
             "colorbar": {
              "outlinewidth": 0,
              "ticks": ""
             }
            },
            "type": "scattergl"
           }
          ],
          "scattermapbox": [
           {
            "marker": {
             "colorbar": {
              "outlinewidth": 0,
              "ticks": ""
             }
            },
            "type": "scattermapbox"
           }
          ],
          "scatterpolar": [
           {
            "marker": {
             "colorbar": {
              "outlinewidth": 0,
              "ticks": ""
             }
            },
            "type": "scatterpolar"
           }
          ],
          "scatterpolargl": [
           {
            "marker": {
             "colorbar": {
              "outlinewidth": 0,
              "ticks": ""
             }
            },
            "type": "scatterpolargl"
           }
          ],
          "scatterternary": [
           {
            "marker": {
             "colorbar": {
              "outlinewidth": 0,
              "ticks": ""
             }
            },
            "type": "scatterternary"
           }
          ],
          "surface": [
           {
            "colorbar": {
             "outlinewidth": 0,
             "ticks": ""
            },
            "colorscale": [
             [
              0.0,
              "#0d0887"
             ],
             [
              0.1111111111111111,
              "#46039f"
             ],
             [
              0.2222222222222222,
              "#7201a8"
             ],
             [
              0.3333333333333333,
              "#9c179e"
             ],
             [
              0.4444444444444444,
              "#bd3786"
             ],
             [
              0.5555555555555556,
              "#d8576b"
             ],
             [
              0.6666666666666666,
              "#ed7953"
             ],
             [
              0.7777777777777778,
              "#fb9f3a"
             ],
             [
              0.8888888888888888,
              "#fdca26"
             ],
             [
              1.0,
              "#f0f921"
             ]
            ],
            "type": "surface"
           }
          ],
          "table": [
           {
            "cells": {
             "fill": {
              "color": "#EBF0F8"
             },
             "line": {
              "color": "white"
             }
            },
            "header": {
             "fill": {
              "color": "#C8D4E3"
             },
             "line": {
              "color": "white"
             }
            },
            "type": "table"
           }
          ]
         },
         "layout": {
          "annotationdefaults": {
           "arrowcolor": "#2a3f5f",
           "arrowhead": 0,
           "arrowwidth": 1
          },
          "autotypenumbers": "strict",
          "coloraxis": {
           "colorbar": {
            "outlinewidth": 0,
            "ticks": ""
           }
          },
          "colorscale": {
           "diverging": [
            [
             0,
             "#8e0152"
            ],
            [
             0.1,
             "#c51b7d"
            ],
            [
             0.2,
             "#de77ae"
            ],
            [
             0.3,
             "#f1b6da"
            ],
            [
             0.4,
             "#fde0ef"
            ],
            [
             0.5,
             "#f7f7f7"
            ],
            [
             0.6,
             "#e6f5d0"
            ],
            [
             0.7,
             "#b8e186"
            ],
            [
             0.8,
             "#7fbc41"
            ],
            [
             0.9,
             "#4d9221"
            ],
            [
             1,
             "#276419"
            ]
           ],
           "sequential": [
            [
             0.0,
             "#0d0887"
            ],
            [
             0.1111111111111111,
             "#46039f"
            ],
            [
             0.2222222222222222,
             "#7201a8"
            ],
            [
             0.3333333333333333,
             "#9c179e"
            ],
            [
             0.4444444444444444,
             "#bd3786"
            ],
            [
             0.5555555555555556,
             "#d8576b"
            ],
            [
             0.6666666666666666,
             "#ed7953"
            ],
            [
             0.7777777777777778,
             "#fb9f3a"
            ],
            [
             0.8888888888888888,
             "#fdca26"
            ],
            [
             1.0,
             "#f0f921"
            ]
           ],
           "sequentialminus": [
            [
             0.0,
             "#0d0887"
            ],
            [
             0.1111111111111111,
             "#46039f"
            ],
            [
             0.2222222222222222,
             "#7201a8"
            ],
            [
             0.3333333333333333,
             "#9c179e"
            ],
            [
             0.4444444444444444,
             "#bd3786"
            ],
            [
             0.5555555555555556,
             "#d8576b"
            ],
            [
             0.6666666666666666,
             "#ed7953"
            ],
            [
             0.7777777777777778,
             "#fb9f3a"
            ],
            [
             0.8888888888888888,
             "#fdca26"
            ],
            [
             1.0,
             "#f0f921"
            ]
           ]
          },
          "colorway": [
           "#636efa",
           "#EF553B",
           "#00cc96",
           "#ab63fa",
           "#FFA15A",
           "#19d3f3",
           "#FF6692",
           "#B6E880",
           "#FF97FF",
           "#FECB52"
          ],
          "font": {
           "color": "#2a3f5f"
          },
          "geo": {
           "bgcolor": "white",
           "lakecolor": "white",
           "landcolor": "#E5ECF6",
           "showlakes": true,
           "showland": true,
           "subunitcolor": "white"
          },
          "hoverlabel": {
           "align": "left"
          },
          "hovermode": "closest",
          "mapbox": {
           "style": "light"
          },
          "paper_bgcolor": "white",
          "plot_bgcolor": "#E5ECF6",
          "polar": {
           "angularaxis": {
            "gridcolor": "white",
            "linecolor": "white",
            "ticks": ""
           },
           "bgcolor": "#E5ECF6",
           "radialaxis": {
            "gridcolor": "white",
            "linecolor": "white",
            "ticks": ""
           }
          },
          "scene": {
           "xaxis": {
            "backgroundcolor": "#E5ECF6",
            "gridcolor": "white",
            "gridwidth": 2,
            "linecolor": "white",
            "showbackground": true,
            "ticks": "",
            "zerolinecolor": "white"
           },
           "yaxis": {
            "backgroundcolor": "#E5ECF6",
            "gridcolor": "white",
            "gridwidth": 2,
            "linecolor": "white",
            "showbackground": true,
            "ticks": "",
            "zerolinecolor": "white"
           },
           "zaxis": {
            "backgroundcolor": "#E5ECF6",
            "gridcolor": "white",
            "gridwidth": 2,
            "linecolor": "white",
            "showbackground": true,
            "ticks": "",
            "zerolinecolor": "white"
           }
          },
          "shapedefaults": {
           "line": {
            "color": "#2a3f5f"
           }
          },
          "ternary": {
           "aaxis": {
            "gridcolor": "white",
            "linecolor": "white",
            "ticks": ""
           },
           "baxis": {
            "gridcolor": "white",
            "linecolor": "white",
            "ticks": ""
           },
           "bgcolor": "#E5ECF6",
           "caxis": {
            "gridcolor": "white",
            "linecolor": "white",
            "ticks": ""
           }
          },
          "title": {
           "x": 0.05
          },
          "xaxis": {
           "automargin": true,
           "gridcolor": "white",
           "linecolor": "white",
           "ticks": "",
           "title": {
            "standoff": 15
           },
           "zerolinecolor": "white",
           "zerolinewidth": 2
          },
          "yaxis": {
           "automargin": true,
           "gridcolor": "white",
           "linecolor": "white",
           "ticks": "",
           "title": {
            "standoff": 15
           },
           "zerolinecolor": "white",
           "zerolinewidth": 2
          }
         }
        },
        "title": {
         "text": "2019 & 2021, Machine Learning Frameworks in Use"
        },
        "xaxis": {
         "anchor": "y",
         "domain": [
          0.0,
          0.45
         ],
         "title": {
          "text": "2019 Machine Learning Frameworks"
         }
        },
        "xaxis2": {
         "anchor": "y2",
         "domain": [
          0.55,
          1.0
         ],
         "title": {
          "text": "2021 Machine Learning Frameworks"
         }
        },
        "yaxis": {
         "anchor": "x",
         "domain": [
          0.0,
          1.0
         ],
         "title": {
          "text": "Counts"
         }
        },
        "yaxis2": {
         "anchor": "x2",
         "domain": [
          0.0,
          1.0
         ],
         "title": {
          "text": "Counts"
         }
        }
       }
      },
      "text/html": [
       "<div>                            <div id=\"5c70b8ec-dea9-41e8-867b-012d24376a2f\" class=\"plotly-graph-div\" style=\"height:525px; width:100%;\"></div>            <script type=\"text/javascript\">                require([\"plotly\"], function(Plotly) {                    window.PLOTLYENV=window.PLOTLYENV || {};                                    if (document.getElementById(\"5c70b8ec-dea9-41e8-867b-012d24376a2f\")) {                    Plotly.newPlot(                        \"5c70b8ec-dea9-41e8-867b-012d24376a2f\",                        [{\"marker\":{\"color\":\"#FDB0C0\"},\"name\":\"2019_JP\",\"type\":\"bar\",\"x\":[\"  Scikit-learn \",\"  TensorFlow \",\" Keras \",\" RandomForest\",\" Xgboost \",\" PyTorch \",\" Caret \",\" LightGBM \",\" Spark MLib \",\" Fast.ai \",\"None\"],\"xaxis\":\"x\",\"y\":[345,247,215,204,191,150,128,23,21,11,7],\"yaxis\":\"y\"},{\"marker\":{\"color\":\"#FFDB81\"},\"name\":\"2019_CN\",\"type\":\"bar\",\"x\":[\"  Scikit-learn \",\"  TensorFlow \",\" Keras \",\" RandomForest\",\" Xgboost \",\" PyTorch \",\" Caret \",\" LightGBM \",\" Spark MLib \",\" Fast.ai \",\"None\"],\"xaxis\":\"x\",\"y\":[251,212,177,161,148,114,95,30,29,13,11],\"yaxis\":\"y\"},{\"marker\":{\"color\":\"#FD4659\"},\"name\":\"2021_JP\",\"type\":\"bar\",\"x\":[\"  Scikit-learn \",\"  TensorFlow \",\" Keras \",\" PyTorch \",\" Fast.ai \",\" MXNet \",\" Xgboost \",\" LightGBM \",\" CatBoost \",\" Prophet \",\" H2O 3 \",\" Caret \",\" Tidymodels \",\" JAX \",\" PyTorch Lightning \",\" Huggingface \",\"None\"],\"xaxis\":\"x2\",\"y\":[548,305,301,282,270,270,83,58,54,44,25,14,13,10,6,6,3],\"yaxis\":\"y2\"},{\"marker\":{\"color\":\"#FFAB0F\"},\"name\":\"2021_CN\",\"type\":\"bar\",\"x\":[\"  Scikit-learn \",\"  TensorFlow \",\" Keras \",\" PyTorch \",\" Fast.ai \",\" MXNet \",\" Xgboost \",\" LightGBM \",\" CatBoost \",\" Prophet \",\" H2O 3 \",\" Caret \",\" Tidymodels \",\" JAX \",\" PyTorch Lightning \",\" Huggingface \",\"None\"],\"xaxis\":\"x2\",\"y\":[339,288,286,201,109,63,47,33,22,18,16,15,14,8,6,5,2],\"yaxis\":\"y2\"}],                        {\"autosize\":true,\"showlegend\":true,\"template\":{\"data\":{\"bar\":[{\"error_x\":{\"color\":\"#2a3f5f\"},\"error_y\":{\"color\":\"#2a3f5f\"},\"marker\":{\"line\":{\"color\":\"#E5ECF6\",\"width\":0.5},\"pattern\":{\"fillmode\":\"overlay\",\"size\":10,\"solidity\":0.2}},\"type\":\"bar\"}],\"barpolar\":[{\"marker\":{\"line\":{\"color\":\"#E5ECF6\",\"width\":0.5},\"pattern\":{\"fillmode\":\"overlay\",\"size\":10,\"solidity\":0.2}},\"type\":\"barpolar\"}],\"carpet\":[{\"aaxis\":{\"endlinecolor\":\"#2a3f5f\",\"gridcolor\":\"white\",\"linecolor\":\"white\",\"minorgridcolor\":\"white\",\"startlinecolor\":\"#2a3f5f\"},\"baxis\":{\"endlinecolor\":\"#2a3f5f\",\"gridcolor\":\"white\",\"linecolor\":\"white\",\"minorgridcolor\":\"white\",\"startlinecolor\":\"#2a3f5f\"},\"type\":\"carpet\"}],\"choropleth\":[{\"colorbar\":{\"outlinewidth\":0,\"ticks\":\"\"},\"type\":\"choropleth\"}],\"contour\":[{\"colorbar\":{\"outlinewidth\":0,\"ticks\":\"\"},\"colorscale\":[[0.0,\"#0d0887\"],[0.1111111111111111,\"#46039f\"],[0.2222222222222222,\"#7201a8\"],[0.3333333333333333,\"#9c179e\"],[0.4444444444444444,\"#bd3786\"],[0.5555555555555556,\"#d8576b\"],[0.6666666666666666,\"#ed7953\"],[0.7777777777777778,\"#fb9f3a\"],[0.8888888888888888,\"#fdca26\"],[1.0,\"#f0f921\"]],\"type\":\"contour\"}],\"contourcarpet\":[{\"colorbar\":{\"outlinewidth\":0,\"ticks\":\"\"},\"type\":\"contourcarpet\"}],\"heatmap\":[{\"colorbar\":{\"outlinewidth\":0,\"ticks\":\"\"},\"colorscale\":[[0.0,\"#0d0887\"],[0.1111111111111111,\"#46039f\"],[0.2222222222222222,\"#7201a8\"],[0.3333333333333333,\"#9c179e\"],[0.4444444444444444,\"#bd3786\"],[0.5555555555555556,\"#d8576b\"],[0.6666666666666666,\"#ed7953\"],[0.7777777777777778,\"#fb9f3a\"],[0.8888888888888888,\"#fdca26\"],[1.0,\"#f0f921\"]],\"type\":\"heatmap\"}],\"heatmapgl\":[{\"colorbar\":{\"outlinewidth\":0,\"ticks\":\"\"},\"colorscale\":[[0.0,\"#0d0887\"],[0.1111111111111111,\"#46039f\"],[0.2222222222222222,\"#7201a8\"],[0.3333333333333333,\"#9c179e\"],[0.4444444444444444,\"#bd3786\"],[0.5555555555555556,\"#d8576b\"],[0.6666666666666666,\"#ed7953\"],[0.7777777777777778,\"#fb9f3a\"],[0.8888888888888888,\"#fdca26\"],[1.0,\"#f0f921\"]],\"type\":\"heatmapgl\"}],\"histogram\":[{\"marker\":{\"pattern\":{\"fillmode\":\"overlay\",\"size\":10,\"solidity\":0.2}},\"type\":\"histogram\"}],\"histogram2d\":[{\"colorbar\":{\"outlinewidth\":0,\"ticks\":\"\"},\"colorscale\":[[0.0,\"#0d0887\"],[0.1111111111111111,\"#46039f\"],[0.2222222222222222,\"#7201a8\"],[0.3333333333333333,\"#9c179e\"],[0.4444444444444444,\"#bd3786\"],[0.5555555555555556,\"#d8576b\"],[0.6666666666666666,\"#ed7953\"],[0.7777777777777778,\"#fb9f3a\"],[0.8888888888888888,\"#fdca26\"],[1.0,\"#f0f921\"]],\"type\":\"histogram2d\"}],\"histogram2dcontour\":[{\"colorbar\":{\"outlinewidth\":0,\"ticks\":\"\"},\"colorscale\":[[0.0,\"#0d0887\"],[0.1111111111111111,\"#46039f\"],[0.2222222222222222,\"#7201a8\"],[0.3333333333333333,\"#9c179e\"],[0.4444444444444444,\"#bd3786\"],[0.5555555555555556,\"#d8576b\"],[0.6666666666666666,\"#ed7953\"],[0.7777777777777778,\"#fb9f3a\"],[0.8888888888888888,\"#fdca26\"],[1.0,\"#f0f921\"]],\"type\":\"histogram2dcontour\"}],\"mesh3d\":[{\"colorbar\":{\"outlinewidth\":0,\"ticks\":\"\"},\"type\":\"mesh3d\"}],\"parcoords\":[{\"line\":{\"colorbar\":{\"outlinewidth\":0,\"ticks\":\"\"}},\"type\":\"parcoords\"}],\"pie\":[{\"automargin\":true,\"type\":\"pie\"}],\"scatter\":[{\"marker\":{\"colorbar\":{\"outlinewidth\":0,\"ticks\":\"\"}},\"type\":\"scatter\"}],\"scatter3d\":[{\"line\":{\"colorbar\":{\"outlinewidth\":0,\"ticks\":\"\"}},\"marker\":{\"colorbar\":{\"outlinewidth\":0,\"ticks\":\"\"}},\"type\":\"scatter3d\"}],\"scattercarpet\":[{\"marker\":{\"colorbar\":{\"outlinewidth\":0,\"ticks\":\"\"}},\"type\":\"scattercarpet\"}],\"scattergeo\":[{\"marker\":{\"colorbar\":{\"outlinewidth\":0,\"ticks\":\"\"}},\"type\":\"scattergeo\"}],\"scattergl\":[{\"marker\":{\"colorbar\":{\"outlinewidth\":0,\"ticks\":\"\"}},\"type\":\"scattergl\"}],\"scattermapbox\":[{\"marker\":{\"colorbar\":{\"outlinewidth\":0,\"ticks\":\"\"}},\"type\":\"scattermapbox\"}],\"scatterpolar\":[{\"marker\":{\"colorbar\":{\"outlinewidth\":0,\"ticks\":\"\"}},\"type\":\"scatterpolar\"}],\"scatterpolargl\":[{\"marker\":{\"colorbar\":{\"outlinewidth\":0,\"ticks\":\"\"}},\"type\":\"scatterpolargl\"}],\"scatterternary\":[{\"marker\":{\"colorbar\":{\"outlinewidth\":0,\"ticks\":\"\"}},\"type\":\"scatterternary\"}],\"surface\":[{\"colorbar\":{\"outlinewidth\":0,\"ticks\":\"\"},\"colorscale\":[[0.0,\"#0d0887\"],[0.1111111111111111,\"#46039f\"],[0.2222222222222222,\"#7201a8\"],[0.3333333333333333,\"#9c179e\"],[0.4444444444444444,\"#bd3786\"],[0.5555555555555556,\"#d8576b\"],[0.6666666666666666,\"#ed7953\"],[0.7777777777777778,\"#fb9f3a\"],[0.8888888888888888,\"#fdca26\"],[1.0,\"#f0f921\"]],\"type\":\"surface\"}],\"table\":[{\"cells\":{\"fill\":{\"color\":\"#EBF0F8\"},\"line\":{\"color\":\"white\"}},\"header\":{\"fill\":{\"color\":\"#C8D4E3\"},\"line\":{\"color\":\"white\"}},\"type\":\"table\"}]},\"layout\":{\"annotationdefaults\":{\"arrowcolor\":\"#2a3f5f\",\"arrowhead\":0,\"arrowwidth\":1},\"autotypenumbers\":\"strict\",\"coloraxis\":{\"colorbar\":{\"outlinewidth\":0,\"ticks\":\"\"}},\"colorscale\":{\"diverging\":[[0,\"#8e0152\"],[0.1,\"#c51b7d\"],[0.2,\"#de77ae\"],[0.3,\"#f1b6da\"],[0.4,\"#fde0ef\"],[0.5,\"#f7f7f7\"],[0.6,\"#e6f5d0\"],[0.7,\"#b8e186\"],[0.8,\"#7fbc41\"],[0.9,\"#4d9221\"],[1,\"#276419\"]],\"sequential\":[[0.0,\"#0d0887\"],[0.1111111111111111,\"#46039f\"],[0.2222222222222222,\"#7201a8\"],[0.3333333333333333,\"#9c179e\"],[0.4444444444444444,\"#bd3786\"],[0.5555555555555556,\"#d8576b\"],[0.6666666666666666,\"#ed7953\"],[0.7777777777777778,\"#fb9f3a\"],[0.8888888888888888,\"#fdca26\"],[1.0,\"#f0f921\"]],\"sequentialminus\":[[0.0,\"#0d0887\"],[0.1111111111111111,\"#46039f\"],[0.2222222222222222,\"#7201a8\"],[0.3333333333333333,\"#9c179e\"],[0.4444444444444444,\"#bd3786\"],[0.5555555555555556,\"#d8576b\"],[0.6666666666666666,\"#ed7953\"],[0.7777777777777778,\"#fb9f3a\"],[0.8888888888888888,\"#fdca26\"],[1.0,\"#f0f921\"]]},\"colorway\":[\"#636efa\",\"#EF553B\",\"#00cc96\",\"#ab63fa\",\"#FFA15A\",\"#19d3f3\",\"#FF6692\",\"#B6E880\",\"#FF97FF\",\"#FECB52\"],\"font\":{\"color\":\"#2a3f5f\"},\"geo\":{\"bgcolor\":\"white\",\"lakecolor\":\"white\",\"landcolor\":\"#E5ECF6\",\"showlakes\":true,\"showland\":true,\"subunitcolor\":\"white\"},\"hoverlabel\":{\"align\":\"left\"},\"hovermode\":\"closest\",\"mapbox\":{\"style\":\"light\"},\"paper_bgcolor\":\"white\",\"plot_bgcolor\":\"#E5ECF6\",\"polar\":{\"angularaxis\":{\"gridcolor\":\"white\",\"linecolor\":\"white\",\"ticks\":\"\"},\"bgcolor\":\"#E5ECF6\",\"radialaxis\":{\"gridcolor\":\"white\",\"linecolor\":\"white\",\"ticks\":\"\"}},\"scene\":{\"xaxis\":{\"backgroundcolor\":\"#E5ECF6\",\"gridcolor\":\"white\",\"gridwidth\":2,\"linecolor\":\"white\",\"showbackground\":true,\"ticks\":\"\",\"zerolinecolor\":\"white\"},\"yaxis\":{\"backgroundcolor\":\"#E5ECF6\",\"gridcolor\":\"white\",\"gridwidth\":2,\"linecolor\":\"white\",\"showbackground\":true,\"ticks\":\"\",\"zerolinecolor\":\"white\"},\"zaxis\":{\"backgroundcolor\":\"#E5ECF6\",\"gridcolor\":\"white\",\"gridwidth\":2,\"linecolor\":\"white\",\"showbackground\":true,\"ticks\":\"\",\"zerolinecolor\":\"white\"}},\"shapedefaults\":{\"line\":{\"color\":\"#2a3f5f\"}},\"ternary\":{\"aaxis\":{\"gridcolor\":\"white\",\"linecolor\":\"white\",\"ticks\":\"\"},\"baxis\":{\"gridcolor\":\"white\",\"linecolor\":\"white\",\"ticks\":\"\"},\"bgcolor\":\"#E5ECF6\",\"caxis\":{\"gridcolor\":\"white\",\"linecolor\":\"white\",\"ticks\":\"\"}},\"title\":{\"x\":0.05},\"xaxis\":{\"automargin\":true,\"gridcolor\":\"white\",\"linecolor\":\"white\",\"ticks\":\"\",\"title\":{\"standoff\":15},\"zerolinecolor\":\"white\",\"zerolinewidth\":2},\"yaxis\":{\"automargin\":true,\"gridcolor\":\"white\",\"linecolor\":\"white\",\"ticks\":\"\",\"title\":{\"standoff\":15},\"zerolinecolor\":\"white\",\"zerolinewidth\":2}}},\"title\":{\"text\":\"2019 & 2021, Machine Learning Frameworks in Use\"},\"xaxis\":{\"anchor\":\"y\",\"domain\":[0.0,0.45],\"title\":{\"text\":\"2019 Machine Learning Frameworks\"}},\"xaxis2\":{\"anchor\":\"y2\",\"domain\":[0.55,1.0],\"title\":{\"text\":\"2021 Machine Learning Frameworks\"}},\"yaxis\":{\"anchor\":\"x\",\"domain\":[0.0,1.0],\"title\":{\"text\":\"Counts\"}},\"yaxis2\":{\"anchor\":\"x2\",\"domain\":[0.0,1.0],\"title\":{\"text\":\"Counts\"}}},                        {\"responsive\": true}                    ).then(function(){\n",
       "                            \n",
       "var gd = document.getElementById('5c70b8ec-dea9-41e8-867b-012d24376a2f');\n",
       "var x = new MutationObserver(function (mutations, observer) {{\n",
       "        var display = window.getComputedStyle(gd).display;\n",
       "        if (!display || display === 'none') {{\n",
       "            console.log([gd, 'removed!']);\n",
       "            Plotly.purge(gd);\n",
       "            observer.disconnect();\n",
       "        }}\n",
       "}});\n",
       "\n",
       "// Listen for the removal of the full notebook cells\n",
       "var notebookContainer = gd.closest('#notebook-container');\n",
       "if (notebookContainer) {{\n",
       "    x.observe(notebookContainer, {childList: true});\n",
       "}}\n",
       "\n",
       "// Listen for the clearing of the current output cell\n",
       "var outputEl = gd.closest('.output');\n",
       "if (outputEl) {{\n",
       "    x.observe(outputEl, {childList: true});\n",
       "}}\n",
       "\n",
       "                        })                };                });            </script>        </div>"
      ]
     },
     "metadata": {},
     "output_type": "display_data"
    }
   ],
   "source": [
    "fig_F = make_subplots(rows=1, cols=2, specs=[[{'type':'xy'}, {'type':'xy'}]])\n",
    " \n",
    "fig_F.add_trace(go.Bar(name=coun_years[0], x=df19_JP_Q16['Q28'].values, y=df19_JP_Q16['counts'].sort_values(ascending=False).values, marker_color=coun_years_colors[0]),1,1)\n",
    "fig_F.add_trace(go.Bar(name=coun_years[1], x=df19_CN_Q16['Q28'].values, y=df19_CN_Q16['counts'].sort_values(ascending=False).values, marker_color=coun_years_colors[1]),1,1)\n",
    "fig_F.add_trace(go.Bar(name=coun_years[2], x=df21_JP_Q16['Q16'].values, y=df21_JP_Q16['counts'].sort_values(ascending=False).values, marker_color=coun_years_colors[2]),1,2)\n",
    "fig_F.add_trace(go.Bar(name=coun_years[3], x=df21_CN_Q16['Q16'].values, y=df21_CN_Q16['counts'].sort_values(ascending=False).values, marker_color=coun_years_colors[3]),1,2)\n",
    " \n",
    "fig_F.update_layout(title_text='2019 & 2021, Machine Learning Frameworks in Use',\n",
    "                    showlegend=True,\n",
    "                    autosize=True)\n",
    "\n",
    "fig_F.update_xaxes(title_text='2019 Machine Learning Frameworks', row=1, col=1)\n",
    "fig_F.update_yaxes(title_text='Counts', row=1, col=1)\n",
    "fig_F.update_xaxes(title_text='2021 Machine Learning Frameworks', row=1, col=2)\n",
    "fig_F.update_yaxes(title_text='Counts', row=1, col=2)\n",
    "\n",
    "fig_F.show()"
   ]
  },
  {
   "cell_type": "markdown",
   "id": "b595f2e6",
   "metadata": {
    "papermill": {
     "duration": 0.084141,
     "end_time": "2021-11-23T02:17:25.360711",
     "exception": false,
     "start_time": "2021-11-23T02:17:25.276570",
     "status": "completed"
    },
    "tags": []
   },
   "source": [
    " # 머신러닝 프레임워크\n",
    " \n",
    "#### 일본\n",
    "> * 2019년도엔 Scikit-learn이 가장 높은 비율을 차지한다.\n",
    "> * 2021년도엔 Scikit-learn이 가장 높은 비율을 차지한다.\n",
    "> * Scikit-learn이 높은 비율을 차지하는것은 여전하다.\n",
    "\n",
    "#### 중국\n",
    "> * 2019년도엔 Scikit-learn이 가장 높은 비율을 차지한다.\n",
    "> * 2021년도엔 Scikit-learn이 가장 높은 비율을 차지한다.\n",
    "> * Scikit-learn이 높은 비율을 차지하지만 압도적인 사용률을 자랑하진 않는다.\n",
    "\n",
    "### 일본은 Scikit-learn이 압도적으로 높은 인기를 자랑하지만 중국은 크게 차이나는 수치는 아니다.\n",
    "### 두 나라 모두 Xgboost 와 Caret 인기가 식었다. 반면 PyTorch와 Fast.ai ,MXNET 항목들이 성장하여 현재 순위권에 이름을 올렸다.\n"
   ]
  },
  {
   "cell_type": "markdown",
   "id": "5b7d52e1",
   "metadata": {
    "papermill": {
     "duration": 0.084539,
     "end_time": "2021-11-23T02:17:25.531327",
     "exception": false,
     "start_time": "2021-11-23T02:17:25.446788",
     "status": "completed"
    },
    "tags": []
   },
   "source": [
    "# Conclusion !\n",
    "## 지표로 보는 2019년과 2021년의 차이\n",
    "* 막대그래프와 트리맵으로 보는 2019년과 2021년의 차이\n",
    "  > * 2019년에 비해 2021년도에 크게 캐글러들이 많이 유입된 걸 알 수 있다. 중국은 인구비율에 비해 적은 캐글러의 숫자가 눈에 띈다. 두 나라 모두 젊은층의 인원들이 급격하게 증가했다. \n",
    "  > * 두 나라 모두 대개 남성의 인원이 많다. \n",
    "* 동아시아에서 캐글러들의 크게 나타나는 특징\n",
    "  > * 툴과 언어에 대해서 비슷하지만 다른 양상을 보이고 있다.\n",
    "  > * Matplotlib,Seaborn,Plotly의 비중이 높아졌다.\n",
    "  > * 프로그래밍 언어는 조금 다른 특징이 있다. 먼저 일본같은 경우 Phython과 SQL의 비중이 가장 높은 반면 중국은 Python의 비중이 크지만 다른 언어들의 비중 차지는 비슷하다. 공통점으로는 R의 언어비중이 크게 감소한게 눈에 띈다. 두 나라 모두 2019년도 대비 2021년도에는 R의 사용량이 많이 낮아졌다. \n",
    "  > * IDE's 개발 환경은 두 나라의 경우 쥬피터와 비쥬얼 모두 많은 점유율을 보이고 있으나 다른 프로그램들은 두 프로그램에 비해 낮은 점유율을 보이고 있으며 일본은 파이썬의 비중이 적은 반면 중국은 파이썬의 비중이 커졌다.\n",
    "  > * 머신 러닝 프레임워크같은경우 두 나라가 Scikit-learn이 높은 비율을 차지하는건 동일하지만 나머지 항목들은 비슷하며 Xgboost와 Caret의 점유율이 떨어졌다. 그리고 Pytorch와 Fast.ai,MXNET이 새롭게 이름을 올린 모습을 보인다.\n",
    "* 향후 동아시아 미래의 캐글러들의 비전과 트렌드 예측 \n",
    " > * 캐글러들의 성장이 기대된다 앞으로 캐글러들의 성장은 계속 될 걸로 보인다.\n",
    " > * 앞서 봤던 나이 분포도를 보면 젊은 인원들의 유입에 의해 캐글시장이 확대 될 걸로 보여진다.\n",
    " > * IT산업의 증진에 따라 더욱 많은 인원들이 유입될걸로 보이며 압도적인 수치를 보였던 툴과 언어 머신러닝 프레임워크는 더욱 더 많은 사람들이 사용될 걸로 보인다.\n",
    " > * 동아시아의 인접한 국가지만 가장 높은 비율이 차지하는것들은 일치하며 동아시아에 많은 영향이 미칠것으로 기대되고 앞으로 주목해야할 포인트라고 보인다."
   ]
  },
  {
   "cell_type": "markdown",
   "id": "34f88e43",
   "metadata": {
    "papermill": {
     "duration": 0.088516,
     "end_time": "2021-11-23T02:17:25.704939",
     "exception": false,
     "start_time": "2021-11-23T02:17:25.616423",
     "status": "completed"
    },
    "tags": []
   },
   "source": [
    "### REFERENCE\n",
    " - plotly bar chart tutorial(https://plotly.com/python/bar-charts/)\n",
    " - plotly bar chart properties (bar traces)(https://plotly.com/python/reference/bar/)\n",
    " - plotly pie chart tutorial(https://plotly.com/python/pie-charts/)\n",
    " - plotly pie chart properties (pie traces)(https://plotly.com/python/reference/pie/)\n",
    " - [데이터프레임 합치기](https://yganalyst.github.io/data_handling/Pd_12/)\n",
    " - [행열 이름 변경](https://mizykk.tistory.com/131)\n",
    " - [pd insert](https://pandas.pydata.org/docs/reference/api/pandas.DataFrame.insert.html)\n",
    "     - [Ex1](https://www.delftstack.com/ko/howto/python-pandas/how-to-add-new-column-to-existing-dataframe-in-python-pandas/)\n",
    "     - [Ex2](https://m.blog.naver.com/PostView.naver?isHttpsRedirect=true&blogId=rising_n_falling&logNo=221631637822)"
   ]
  }
 ],
 "metadata": {
  "kernelspec": {
   "display_name": "Python 3",
   "language": "python",
   "name": "python3"
  },
  "language_info": {
   "codemirror_mode": {
    "name": "ipython",
    "version": 3
   },
   "file_extension": ".py",
   "mimetype": "text/x-python",
   "name": "python",
   "nbconvert_exporter": "python",
   "pygments_lexer": "ipython3",
   "version": "3.7.10"
  },
  "papermill": {
   "default_parameters": {},
   "duration": 22.628829,
   "end_time": "2021-11-23T02:17:26.611783",
   "environment_variables": {},
   "exception": null,
   "input_path": "__notebook__.ipynb",
   "output_path": "__notebook__.ipynb",
   "parameters": {},
   "start_time": "2021-11-23T02:17:03.982954",
   "version": "2.3.3"
  }
 },
 "nbformat": 4,
 "nbformat_minor": 5
}
