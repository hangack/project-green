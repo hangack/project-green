{
 "cells": [
  {
   "cell_type": "markdown",
   "metadata": {},
   "source": [
    "## import 모듈"
   ]
  },
  {
   "cell_type": "code",
   "execution_count": 1,
   "metadata": {
    "execution": {
     "iopub.execute_input": "2021-11-16T02:32:23.233348Z",
     "iopub.status.busy": "2021-11-16T02:32:23.232587Z",
     "iopub.status.idle": "2021-11-16T02:32:24.809451Z",
     "shell.execute_reply": "2021-11-16T02:32:24.808742Z",
     "shell.execute_reply.started": "2021-11-16T02:32:23.233308Z"
    }
   },
   "outputs": [],
   "source": [
    "import numpy as np\n",
    "import pandas as pd\n",
    "import matplotlib.pyplot as plt\n",
    "import plotly.express as px\n",
    "import plotly.graph_objects as go\n",
    "from plotly.subplots import make_subplots\n",
    "from warnings import filterwarnings\n",
    "filterwarnings('ignore')\n",
    "\n",
    "colors = ['#B1EDED','#B1B2ED','#1DE7ED','#1DA5ED','#1D50ED','#16548E']\n",
    "gen_colors = ['#4169E1','#B2182B','#81007F','#D1B2FF','#EFE4E2']\n",
    "jp_colors = ['#D90B0B','#F24444','#EFE4E2','#FCCE88','#64807F']\n",
    "cn_colors = ['#E0201B','#FFCE3F','#A63F03','#04BF33','#F2E6D8']"
   ]
  },
  {
   "cell_type": "markdown",
   "metadata": {},
   "source": [
    "## import data"
   ]
  },
  {
   "cell_type": "code",
   "execution_count": 2,
   "metadata": {
    "execution": {
     "iopub.execute_input": "2021-11-16T03:01:13.831628Z",
     "iopub.status.busy": "2021-11-16T03:01:13.831361Z",
     "iopub.status.idle": "2021-11-16T03:01:15.564199Z",
     "shell.execute_reply": "2021-11-16T03:01:15.563355Z",
     "shell.execute_reply.started": "2021-11-16T03:01:13.831601Z"
    }
   },
   "outputs": [
    {
     "ename": "FileNotFoundError",
     "evalue": "[Errno 2] No such file or directory: 'E:/Fear/Univ/Big_data/Training/Github/Codding-base-Python/Python/Python-jupyter/Kaggle Survey - 2021 Analysis - Plotly/kaggle_survey_2021_responses.csv'",
     "output_type": "error",
     "traceback": [
      "\u001b[1;31m---------------------------------------------------------------------------\u001b[0m",
      "\u001b[1;31mFileNotFoundError\u001b[0m                         Traceback (most recent call last)",
      "\u001b[1;32m<ipython-input-2-efa8c3fabb64>\u001b[0m in \u001b[0;36m<module>\u001b[1;34m\u001b[0m\n\u001b[0;32m      2\u001b[0m \u001b[1;31m#df19 = pd.read_csv(\"D:/_Bdata/Codding-base-Python/Python/Python-jupyter/Kaggle Survey - 2021 Analysis - Plotly/multiple_choice_responses.csv\")\u001b[0m\u001b[1;33m\u001b[0m\u001b[1;33m\u001b[0m\u001b[1;33m\u001b[0m\u001b[0m\n\u001b[0;32m      3\u001b[0m \u001b[1;33m\u001b[0m\u001b[0m\n\u001b[1;32m----> 4\u001b[1;33m \u001b[0mdf21\u001b[0m \u001b[1;33m=\u001b[0m \u001b[0mpd\u001b[0m\u001b[1;33m.\u001b[0m\u001b[0mread_csv\u001b[0m\u001b[1;33m(\u001b[0m\u001b[1;34m\"E:/Fear/Univ/Big_data/Training/Github/Codding-base-Python/Python/Python-jupyter/Kaggle Survey - 2021 Analysis - Plotly/kaggle_survey_2021_responses.csv\"\u001b[0m\u001b[1;33m)\u001b[0m\u001b[1;33m\u001b[0m\u001b[1;33m\u001b[0m\u001b[0m\n\u001b[0m\u001b[0;32m      5\u001b[0m \u001b[0mdf19\u001b[0m \u001b[1;33m=\u001b[0m \u001b[0mpd\u001b[0m\u001b[1;33m.\u001b[0m\u001b[0mread_csv\u001b[0m\u001b[1;33m(\u001b[0m\u001b[1;34m\"E:/Fear/Univ/Big_data/Training/Github/Codding-base-Python/Python/Python-jupyter/Kaggle Survey - 2021 Analysis - Plotly/multiple_choice_responses.csv\"\u001b[0m\u001b[1;33m)\u001b[0m\u001b[1;33m\u001b[0m\u001b[1;33m\u001b[0m\u001b[0m\n\u001b[0;32m      6\u001b[0m \u001b[1;33m\u001b[0m\u001b[0m\n",
      "\u001b[1;32mE:\\Sadness\\anaconda3\\lib\\site-packages\\pandas\\io\\parsers.py\u001b[0m in \u001b[0;36mread_csv\u001b[1;34m(filepath_or_buffer, sep, delimiter, header, names, index_col, usecols, squeeze, prefix, mangle_dupe_cols, dtype, engine, converters, true_values, false_values, skipinitialspace, skiprows, skipfooter, nrows, na_values, keep_default_na, na_filter, verbose, skip_blank_lines, parse_dates, infer_datetime_format, keep_date_col, date_parser, dayfirst, cache_dates, iterator, chunksize, compression, thousands, decimal, lineterminator, quotechar, quoting, doublequote, escapechar, comment, encoding, dialect, error_bad_lines, warn_bad_lines, delim_whitespace, low_memory, memory_map, float_precision, storage_options)\u001b[0m\n\u001b[0;32m    608\u001b[0m     \u001b[0mkwds\u001b[0m\u001b[1;33m.\u001b[0m\u001b[0mupdate\u001b[0m\u001b[1;33m(\u001b[0m\u001b[0mkwds_defaults\u001b[0m\u001b[1;33m)\u001b[0m\u001b[1;33m\u001b[0m\u001b[1;33m\u001b[0m\u001b[0m\n\u001b[0;32m    609\u001b[0m \u001b[1;33m\u001b[0m\u001b[0m\n\u001b[1;32m--> 610\u001b[1;33m     \u001b[1;32mreturn\u001b[0m \u001b[0m_read\u001b[0m\u001b[1;33m(\u001b[0m\u001b[0mfilepath_or_buffer\u001b[0m\u001b[1;33m,\u001b[0m \u001b[0mkwds\u001b[0m\u001b[1;33m)\u001b[0m\u001b[1;33m\u001b[0m\u001b[1;33m\u001b[0m\u001b[0m\n\u001b[0m\u001b[0;32m    611\u001b[0m \u001b[1;33m\u001b[0m\u001b[0m\n\u001b[0;32m    612\u001b[0m \u001b[1;33m\u001b[0m\u001b[0m\n",
      "\u001b[1;32mE:\\Sadness\\anaconda3\\lib\\site-packages\\pandas\\io\\parsers.py\u001b[0m in \u001b[0;36m_read\u001b[1;34m(filepath_or_buffer, kwds)\u001b[0m\n\u001b[0;32m    460\u001b[0m \u001b[1;33m\u001b[0m\u001b[0m\n\u001b[0;32m    461\u001b[0m     \u001b[1;31m# Create the parser.\u001b[0m\u001b[1;33m\u001b[0m\u001b[1;33m\u001b[0m\u001b[1;33m\u001b[0m\u001b[0m\n\u001b[1;32m--> 462\u001b[1;33m     \u001b[0mparser\u001b[0m \u001b[1;33m=\u001b[0m \u001b[0mTextFileReader\u001b[0m\u001b[1;33m(\u001b[0m\u001b[0mfilepath_or_buffer\u001b[0m\u001b[1;33m,\u001b[0m \u001b[1;33m**\u001b[0m\u001b[0mkwds\u001b[0m\u001b[1;33m)\u001b[0m\u001b[1;33m\u001b[0m\u001b[1;33m\u001b[0m\u001b[0m\n\u001b[0m\u001b[0;32m    463\u001b[0m \u001b[1;33m\u001b[0m\u001b[0m\n\u001b[0;32m    464\u001b[0m     \u001b[1;32mif\u001b[0m \u001b[0mchunksize\u001b[0m \u001b[1;32mor\u001b[0m \u001b[0miterator\u001b[0m\u001b[1;33m:\u001b[0m\u001b[1;33m\u001b[0m\u001b[1;33m\u001b[0m\u001b[0m\n",
      "\u001b[1;32mE:\\Sadness\\anaconda3\\lib\\site-packages\\pandas\\io\\parsers.py\u001b[0m in \u001b[0;36m__init__\u001b[1;34m(self, f, engine, **kwds)\u001b[0m\n\u001b[0;32m    817\u001b[0m             \u001b[0mself\u001b[0m\u001b[1;33m.\u001b[0m\u001b[0moptions\u001b[0m\u001b[1;33m[\u001b[0m\u001b[1;34m\"has_index_names\"\u001b[0m\u001b[1;33m]\u001b[0m \u001b[1;33m=\u001b[0m \u001b[0mkwds\u001b[0m\u001b[1;33m[\u001b[0m\u001b[1;34m\"has_index_names\"\u001b[0m\u001b[1;33m]\u001b[0m\u001b[1;33m\u001b[0m\u001b[1;33m\u001b[0m\u001b[0m\n\u001b[0;32m    818\u001b[0m \u001b[1;33m\u001b[0m\u001b[0m\n\u001b[1;32m--> 819\u001b[1;33m         \u001b[0mself\u001b[0m\u001b[1;33m.\u001b[0m\u001b[0m_engine\u001b[0m \u001b[1;33m=\u001b[0m \u001b[0mself\u001b[0m\u001b[1;33m.\u001b[0m\u001b[0m_make_engine\u001b[0m\u001b[1;33m(\u001b[0m\u001b[0mself\u001b[0m\u001b[1;33m.\u001b[0m\u001b[0mengine\u001b[0m\u001b[1;33m)\u001b[0m\u001b[1;33m\u001b[0m\u001b[1;33m\u001b[0m\u001b[0m\n\u001b[0m\u001b[0;32m    820\u001b[0m \u001b[1;33m\u001b[0m\u001b[0m\n\u001b[0;32m    821\u001b[0m     \u001b[1;32mdef\u001b[0m \u001b[0mclose\u001b[0m\u001b[1;33m(\u001b[0m\u001b[0mself\u001b[0m\u001b[1;33m)\u001b[0m\u001b[1;33m:\u001b[0m\u001b[1;33m\u001b[0m\u001b[1;33m\u001b[0m\u001b[0m\n",
      "\u001b[1;32mE:\\Sadness\\anaconda3\\lib\\site-packages\\pandas\\io\\parsers.py\u001b[0m in \u001b[0;36m_make_engine\u001b[1;34m(self, engine)\u001b[0m\n\u001b[0;32m   1048\u001b[0m             )\n\u001b[0;32m   1049\u001b[0m         \u001b[1;31m# error: Too many arguments for \"ParserBase\"\u001b[0m\u001b[1;33m\u001b[0m\u001b[1;33m\u001b[0m\u001b[1;33m\u001b[0m\u001b[0m\n\u001b[1;32m-> 1050\u001b[1;33m         \u001b[1;32mreturn\u001b[0m \u001b[0mmapping\u001b[0m\u001b[1;33m[\u001b[0m\u001b[0mengine\u001b[0m\u001b[1;33m]\u001b[0m\u001b[1;33m(\u001b[0m\u001b[0mself\u001b[0m\u001b[1;33m.\u001b[0m\u001b[0mf\u001b[0m\u001b[1;33m,\u001b[0m \u001b[1;33m**\u001b[0m\u001b[0mself\u001b[0m\u001b[1;33m.\u001b[0m\u001b[0moptions\u001b[0m\u001b[1;33m)\u001b[0m  \u001b[1;31m# type: ignore[call-arg]\u001b[0m\u001b[1;33m\u001b[0m\u001b[1;33m\u001b[0m\u001b[0m\n\u001b[0m\u001b[0;32m   1051\u001b[0m \u001b[1;33m\u001b[0m\u001b[0m\n\u001b[0;32m   1052\u001b[0m     \u001b[1;32mdef\u001b[0m \u001b[0m_failover_to_python\u001b[0m\u001b[1;33m(\u001b[0m\u001b[0mself\u001b[0m\u001b[1;33m)\u001b[0m\u001b[1;33m:\u001b[0m\u001b[1;33m\u001b[0m\u001b[1;33m\u001b[0m\u001b[0m\n",
      "\u001b[1;32mE:\\Sadness\\anaconda3\\lib\\site-packages\\pandas\\io\\parsers.py\u001b[0m in \u001b[0;36m__init__\u001b[1;34m(self, src, **kwds)\u001b[0m\n\u001b[0;32m   1865\u001b[0m \u001b[1;33m\u001b[0m\u001b[0m\n\u001b[0;32m   1866\u001b[0m         \u001b[1;31m# open handles\u001b[0m\u001b[1;33m\u001b[0m\u001b[1;33m\u001b[0m\u001b[1;33m\u001b[0m\u001b[0m\n\u001b[1;32m-> 1867\u001b[1;33m         \u001b[0mself\u001b[0m\u001b[1;33m.\u001b[0m\u001b[0m_open_handles\u001b[0m\u001b[1;33m(\u001b[0m\u001b[0msrc\u001b[0m\u001b[1;33m,\u001b[0m \u001b[0mkwds\u001b[0m\u001b[1;33m)\u001b[0m\u001b[1;33m\u001b[0m\u001b[1;33m\u001b[0m\u001b[0m\n\u001b[0m\u001b[0;32m   1868\u001b[0m         \u001b[1;32massert\u001b[0m \u001b[0mself\u001b[0m\u001b[1;33m.\u001b[0m\u001b[0mhandles\u001b[0m \u001b[1;32mis\u001b[0m \u001b[1;32mnot\u001b[0m \u001b[1;32mNone\u001b[0m\u001b[1;33m\u001b[0m\u001b[1;33m\u001b[0m\u001b[0m\n\u001b[0;32m   1869\u001b[0m         \u001b[1;32mfor\u001b[0m \u001b[0mkey\u001b[0m \u001b[1;32min\u001b[0m \u001b[1;33m(\u001b[0m\u001b[1;34m\"storage_options\"\u001b[0m\u001b[1;33m,\u001b[0m \u001b[1;34m\"encoding\"\u001b[0m\u001b[1;33m,\u001b[0m \u001b[1;34m\"memory_map\"\u001b[0m\u001b[1;33m,\u001b[0m \u001b[1;34m\"compression\"\u001b[0m\u001b[1;33m)\u001b[0m\u001b[1;33m:\u001b[0m\u001b[1;33m\u001b[0m\u001b[1;33m\u001b[0m\u001b[0m\n",
      "\u001b[1;32mE:\\Sadness\\anaconda3\\lib\\site-packages\\pandas\\io\\parsers.py\u001b[0m in \u001b[0;36m_open_handles\u001b[1;34m(self, src, kwds)\u001b[0m\n\u001b[0;32m   1360\u001b[0m         \u001b[0mLet\u001b[0m \u001b[0mthe\u001b[0m \u001b[0mreaders\u001b[0m \u001b[0mopen\u001b[0m \u001b[0mIOHanldes\u001b[0m \u001b[0mafter\u001b[0m \u001b[0mthey\u001b[0m \u001b[0mare\u001b[0m \u001b[0mdone\u001b[0m \u001b[1;32mwith\u001b[0m \u001b[0mtheir\u001b[0m \u001b[0mpotential\u001b[0m \u001b[0mraises\u001b[0m\u001b[1;33m.\u001b[0m\u001b[1;33m\u001b[0m\u001b[1;33m\u001b[0m\u001b[0m\n\u001b[0;32m   1361\u001b[0m         \"\"\"\n\u001b[1;32m-> 1362\u001b[1;33m         self.handles = get_handle(\n\u001b[0m\u001b[0;32m   1363\u001b[0m             \u001b[0msrc\u001b[0m\u001b[1;33m,\u001b[0m\u001b[1;33m\u001b[0m\u001b[1;33m\u001b[0m\u001b[0m\n\u001b[0;32m   1364\u001b[0m             \u001b[1;34m\"r\"\u001b[0m\u001b[1;33m,\u001b[0m\u001b[1;33m\u001b[0m\u001b[1;33m\u001b[0m\u001b[0m\n",
      "\u001b[1;32mE:\\Sadness\\anaconda3\\lib\\site-packages\\pandas\\io\\common.py\u001b[0m in \u001b[0;36mget_handle\u001b[1;34m(path_or_buf, mode, encoding, compression, memory_map, is_text, errors, storage_options)\u001b[0m\n\u001b[0;32m    640\u001b[0m                 \u001b[0merrors\u001b[0m \u001b[1;33m=\u001b[0m \u001b[1;34m\"replace\"\u001b[0m\u001b[1;33m\u001b[0m\u001b[1;33m\u001b[0m\u001b[0m\n\u001b[0;32m    641\u001b[0m             \u001b[1;31m# Encoding\u001b[0m\u001b[1;33m\u001b[0m\u001b[1;33m\u001b[0m\u001b[1;33m\u001b[0m\u001b[0m\n\u001b[1;32m--> 642\u001b[1;33m             handle = open(\n\u001b[0m\u001b[0;32m    643\u001b[0m                 \u001b[0mhandle\u001b[0m\u001b[1;33m,\u001b[0m\u001b[1;33m\u001b[0m\u001b[1;33m\u001b[0m\u001b[0m\n\u001b[0;32m    644\u001b[0m                 \u001b[0mioargs\u001b[0m\u001b[1;33m.\u001b[0m\u001b[0mmode\u001b[0m\u001b[1;33m,\u001b[0m\u001b[1;33m\u001b[0m\u001b[1;33m\u001b[0m\u001b[0m\n",
      "\u001b[1;31mFileNotFoundError\u001b[0m: [Errno 2] No such file or directory: 'E:/Fear/Univ/Big_data/Training/Github/Codding-base-Python/Python/Python-jupyter/Kaggle Survey - 2021 Analysis - Plotly/kaggle_survey_2021_responses.csv'"
     ]
    }
   ],
   "source": [
    "#df21 = pd.read_csv(\"D:/_Bdata/Codding-base-Python/Python/Python-jupyter/Kaggle Survey - 2021 Analysis - Plotly/kaggle_survey_2021_responses.csv\")\n",
    "#df19 = pd.read_csv(\"D:/_Bdata/Codding-base-Python/Python/Python-jupyter/Kaggle Survey - 2021 Analysis - Plotly/multiple_choice_responses.csv\")\n",
    "\n",
    "df21 = pd.read_csv(\"E:/Fear/Univ/Big_data/Training/Github/Codding-base-Python/Python/Python-jupyter/Kaggle Survey - 2021 Analysis - Plotly/kaggle_survey_2021_responses.csv\")\n",
    "df19 = pd.read_csv(\"E:/Fear/Univ/Big_data/Training/Github/Codding-base-Python/Python/Python-jupyter/Kaggle Survey - 2021 Analysis - Plotly/multiple_choice_responses.csv\")\n",
    "\n",
    "#df21 = pd.read_csv(\"../input/kaggle-survey-2021/kaggle_survey_2021_responses.csv\")\n",
    "#df19 = pd.read_csv('../input/kaggle-survey-2019/multiple_choice_responses.csv')"
   ]
  },
  {
   "cell_type": "markdown",
   "metadata": {},
   "source": [
    "## Japan & China: Programming_Languages"
   ]
  },
  {
   "cell_type": "markdown",
   "metadata": {},
   "source": [
    "### 2021 Japan & China total\n",
    "2021년 Q3(Country) 일본 중국 추출 dataframe"
   ]
  },
  {
   "cell_type": "code",
   "execution_count": null,
   "metadata": {
    "execution": {
     "iopub.execute_input": "2021-11-16T03:02:03.395745Z",
     "iopub.status.busy": "2021-11-16T03:02:03.395449Z",
     "iopub.status.idle": "2021-11-16T03:02:03.445303Z",
     "shell.execute_reply": "2021-11-16T03:02:03.444410Z",
     "shell.execute_reply.started": "2021-11-16T03:02:03.395712Z"
    }
   },
   "outputs": [],
   "source": [
    "df21_ChJp = df21[df21.Q3.isin([\"Japan\",\"China\"])]"
   ]
  },
  {
   "cell_type": "markdown",
   "metadata": {},
   "source": [
    "### 2019 Japan & China total\n",
    "2021년 Q3(Country) 일본 중국 추출 dataframe"
   ]
  },
  {
   "cell_type": "code",
   "execution_count": null,
   "metadata": {
    "execution": {
     "iopub.execute_input": "2021-11-16T03:05:24.066145Z",
     "iopub.status.busy": "2021-11-16T03:05:24.065498Z",
     "iopub.status.idle": "2021-11-16T03:05:24.101809Z",
     "shell.execute_reply": "2021-11-16T03:05:24.100944Z",
     "shell.execute_reply.started": "2021-11-16T03:05:24.066106Z"
    }
   },
   "outputs": [],
   "source": [
    "df19_ChJp = df19[df19.Q3.isin([\"Japan\",\"China\"])]"
   ]
  },
  {
   "cell_type": "markdown",
   "metadata": {},
   "source": [
    "### Split Country\n",
    "\n",
    "나라별 value_counts를 위해 각 나라로 dataframe 분리"
   ]
  },
  {
   "cell_type": "markdown",
   "metadata": {},
   "source": [
    "#### 2021"
   ]
  },
  {
   "cell_type": "code",
   "execution_count": null,
   "metadata": {
    "execution": {
     "iopub.execute_input": "2021-11-16T03:22:25.909396Z",
     "iopub.status.busy": "2021-11-16T03:22:25.909131Z",
     "iopub.status.idle": "2021-11-16T03:22:25.969634Z",
     "shell.execute_reply": "2021-11-16T03:22:25.968842Z",
     "shell.execute_reply.started": "2021-11-16T03:22:25.909369Z"
    }
   },
   "outputs": [],
   "source": [
    "df21_Ch = df21_ChJp[df21_ChJp.Q3.isin([\"China\"])]\n",
    "df21_Jp = df21_ChJp[df21_ChJp.Q3.isin([\"Japan\"])]\n",
    "\n",
    "\n",
    "## Q7(Program_Language): 칼럼번호 8~20 - others\n",
    "df21_Jp_PL = pd.DataFrame()\n",
    "df21_Jp_PL['Program_Language'] = [df21_Jp[col][1:].value_counts().index[0] for col in df21_Jp.columns[7:19]]\n",
    "df21_Jp_PL['counts'] = [df21_Jp[col][1:].value_counts().values[0] for col in df21_Jp.columns[7:19]]\n",
    "\n",
    "\n",
    "## 2021 China: Q7_Part12(None) value == 0이므로 결측값 제거\n",
    "df21_Ch_rmQ07P12 = df21_Ch.drop(['Q7_Part_12'], axis='columns')\n",
    "\n",
    "## Q7(Program_Language): 칼럼번호 8~20 - others - Q7_Part12(None)\n",
    "df21_Ch_PL = pd.DataFrame()\n",
    "df21_Ch_PL['Program_Language'] = [df21_Ch_rmQ07P12[col][1:].value_counts() .index[0] for col in df21_Ch_rmQ07P12.columns[7:18]]\n",
    "df21_Ch_PL['counts'] = [df21_Ch_rmQ07P12[col][1:].value_counts() .values[0] for col in df21_Ch_rmQ07P12.columns[7:18]]\n",
    "\n",
    "\n",
    "## 제거된 나라 칼럼과 value를 각각 삽입 및 통합\n",
    "df21_Jp_PL.insert(0, 'Country',  'Japan')\n",
    "df21_Ch_PL.insert(0, 'Country',  'China')\n",
    "\n",
    "df21_PL_JnC = pd.concat([df21_Jp_PL,df21_Ch_PL], ignore_index=True)"
   ]
  },
  {
   "cell_type": "markdown",
   "metadata": {},
   "source": [
    "#### 2019\n",
    "위와 동일 과정"
   ]
  },
  {
   "cell_type": "code",
   "execution_count": null,
   "metadata": {
    "execution": {
     "iopub.execute_input": "2021-11-16T03:23:51.069192Z",
     "iopub.status.busy": "2021-11-16T03:23:51.068897Z",
     "iopub.status.idle": "2021-11-16T03:23:51.114749Z",
     "shell.execute_reply": "2021-11-16T03:23:51.113900Z",
     "shell.execute_reply.started": "2021-11-16T03:23:51.069159Z"
    }
   },
   "outputs": [],
   "source": [
    "df19_Ch = df19_ChJp[df19_ChJp.Q3.isin([\"China\"])]\n",
    "df19_Jp = df19_ChJp[df19_ChJp.Q3.isin([\"Japan\"])]\n",
    "\n",
    "\n",
    "## Q18(Program_Language): 칼럼번호 83~95 - others\n",
    "df19_Jp_PL = pd.DataFrame()\n",
    "df19_Jp_PL['Program_Language'] = [df19_Jp[col][1:].value_counts().index[0] for col in df19_Jp.columns[82:94]]\n",
    "df19_Jp_PL['counts'] = [df19_Jp[col][1:].value_counts().values[0] for col in df19_Jp.columns[82:94]]\n",
    "\n",
    "\n",
    "## 2019 China Q18_Part11(None) 결측값 제거\n",
    "df19_Ch_rmQ18P11 = df19_Ch.drop(['Q18_Part_11'], axis='columns')\n",
    "\n",
    "## Q18(Program_Language): 칼럼번호 83~95 - others - Q18_Part11(None)\n",
    "df19_Ch_PL = pd.DataFrame()\n",
    "df19_Ch_PL['Program_Language'] = [df19_Ch_rmQ18P11[col][1:].value_counts() .index[0] for col in df19_Ch_rmQ18P11.columns[82:93]]\n",
    "df19_Ch_PL['counts'] = [df19_Ch_rmQ18P11[col][1:].value_counts() .values[0] for col in df19_Ch_rmQ18P11.columns[82:93]]\n",
    "\n",
    "\n",
    "\n",
    "df19_Jp_PL.insert(0, 'Country',  'Japan')\n",
    "df19_Ch_PL.insert(0, 'Country',  'China')\n",
    "\n",
    "df19_PL_JnC = pd.concat([df19_Jp_PL,df19_Ch_PL], ignore_index=True)"
   ]
  },
  {
   "cell_type": "code",
   "execution_count": null,
   "metadata": {},
   "outputs": [],
   "source": [
    "df19_Ch = df19_ChJp[df19_ChJp.Q3.isin([\"China\"])]\n",
    "df19_Jp = df19_ChJp[df19_ChJp.Q3.isin([\"Japan\"])]\n",
    "\n",
    "\n",
    "## Q18(Program_Language): 칼럼번호 83~95 - others & other(text)\n",
    "df19_Jp_PL = pd.DataFrame()\n",
    "df19_Jp_PL['Program_Language'] = [df19_Jp[col][1:].value_counts().index[0] for col in df19_Jp.columns[82:93]]\n",
    "df19_Jp_PL['counts'] = [df19_Jp[col][1:].value_counts().values[0] for col in df19_Jp.columns[82:93]]\n",
    "\n",
    "\n",
    "## 2019 China Q18_Part11(None) 결측값 제거\n",
    "df19_Ch_rmQ18P11 = df19_Ch.drop(['Q18_Part_11'], axis='columns')\n",
    "\n",
    "## Q18(Program_Language): 칼럼번호 83~95 - others & other(text) - Q18_Part11(None)\n",
    "df19_Ch_PL = pd.DataFrame()\n",
    "df19_Ch_PL['Program_Language'] = [df19_Ch_rmQ18P11[col][1:].value_counts() .index[0] for col in df19_Ch_rmQ18P11.columns[82:92]]\n",
    "df19_Ch_PL['counts'] = [df19_Ch_rmQ18P11[col][1:].value_counts() .values[0] for col in df19_Ch_rmQ18P11.columns[82:92]]\n",
    "\n",
    "\n",
    "\n",
    "df19_Jp_PL.insert(0, 'Country',  'Japan')\n",
    "df19_Ch_PL.insert(0, 'Country',  'China')\n",
    "\n",
    "df19_PL_JnC = pd.concat([df19_Jp_PL,df19_Ch_PL], ignore_index=True)"
   ]
  },
  {
   "cell_type": "markdown",
   "metadata": {},
   "source": [
    "### Split year{Country}\n",
    "\n",
    "다른 csv인 2019자료와 2021자료 통합"
   ]
  },
  {
   "cell_type": "code",
   "execution_count": null,
   "metadata": {},
   "outputs": [],
   "source": [
    "df21_PL_JnC.insert(0, 'year',  '2021')\n",
    "df19_PL_JnC.insert(0, 'year',  '2019')\n",
    "\n",
    "df_PL_JnC_21n19 = pd.concat([df21_PL_JnC,df19_PL_JnC], ignore_index=True)"
   ]
  },
  {
   "cell_type": "markdown",
   "metadata": {},
   "source": [
    "Program_Language의 19년도 21년도 통합 value_counts의 정렬(연도 - 언어 - 나라)\n",
    "\n",
    "values는 Program_Language의 value_counts\n",
    "\n",
    "color 기준: country"
   ]
  },
  {
   "cell_type": "code",
   "execution_count": null,
   "metadata": {
    "scrolled": false
   },
   "outputs": [],
   "source": [
    "fig = px.treemap(df_PL_JnC_21n19, path=[px.Constant(\"2019n2021\"),'year','Program_Language','Country'],\n",
    "                values='counts', color='Country',\n",
    "                  color_discrete_map={'(?)':'lightgrey', 'China':'gold', 'Japan':'darkblue'})\n",
    "\n",
    "fig.data[0].textinfo = 'label+percent parent+value'\n",
    "\n",
    "fig.update_layout(margin = dict(t=50, l=25, r=25, b=25))\n",
    "\n",
    "fig.show()"
   ]
  },
  {
   "cell_type": "markdown",
   "metadata": {},
   "source": [
    "## Japan & China: IDE's\n",
    "\n",
    "Program_Language과정과 동일"
   ]
  },
  {
   "cell_type": "markdown",
   "metadata": {},
   "source": [
    "### Split Country"
   ]
  },
  {
   "cell_type": "markdown",
   "metadata": {},
   "source": [
    "#### 2021"
   ]
  },
  {
   "cell_type": "code",
   "execution_count": null,
   "metadata": {
    "execution": {
     "iopub.execute_input": "2021-11-16T03:29:13.477736Z",
     "iopub.status.busy": "2021-11-16T03:29:13.477429Z",
     "iopub.status.idle": "2021-11-16T03:29:13.534874Z",
     "shell.execute_reply": "2021-11-16T03:29:13.533835Z",
     "shell.execute_reply.started": "2021-11-16T03:29:13.477703Z"
    }
   },
   "outputs": [],
   "source": [
    "## 앞선 Program_Language에서 선언된 객체로 주석처리\n",
    "#df21_Ch = df21_ChJp[df21_ChJp.Q3.isin([\"China\"])]\n",
    "#df21_Jp = df21_ChJp[df21_ChJp.Q3.isin([\"Japan\"])]\n",
    "\n",
    "\n",
    "## Q9(IDE's): 칼럼번호 22~34 - others\n",
    "df21_Jp_IDEs = pd.DataFrame()\n",
    "df21_Jp_IDEs['IDE\\'s'] = [df21_Jp[col][1:].value_counts().index[0] for col in df21_Jp.columns[21:33]]\n",
    "df21_Jp_IDEs['counts'] = [df21_Jp[col][1:].value_counts().values[0] for col in df21_Jp.columns[21:33]]\n",
    "\n",
    "\n",
    "df21_Ch_IDEs = pd.DataFrame()\n",
    "df21_Ch_IDEs['IDE\\'s'] = [df21_Ch[col][1:].value_counts().index[0] for col in df21_Ch.columns[21:33]]\n",
    "df21_Ch_IDEs['counts'] = [df21_Ch[col][1:].value_counts().values[0] for col in df21_Ch.columns[21:33]]\n",
    "\n",
    "\n",
    "\n",
    "df21_Ch_IDEs.insert(0, 'Country',  'China')\n",
    "df21_Jp_IDEs.insert(0, 'Country',  'Japan')\n",
    "\n",
    "df21_IDEs_JnC = pd.concat([df21_Jp_IDEs,df21_Ch_IDEs], ignore_index=True)"
   ]
  },
  {
   "cell_type": "markdown",
   "metadata": {},
   "source": [
    "#### 2019"
   ]
  },
  {
   "cell_type": "code",
   "execution_count": null,
   "metadata": {
    "execution": {
     "iopub.execute_input": "2021-11-16T03:32:30.883237Z",
     "iopub.status.busy": "2021-11-16T03:32:30.882954Z",
     "iopub.status.idle": "2021-11-16T03:32:30.931665Z",
     "shell.execute_reply": "2021-11-16T03:32:30.930799Z",
     "shell.execute_reply.started": "2021-11-16T03:32:30.883209Z"
    }
   },
   "outputs": [],
   "source": [
    "#df19_Ch = df19_ChJp[df19.Q3.isin([\"China\"])]\n",
    "#df19_Jp = df19_ChJp[df19.Q3.isin([\"Japan\"])]\n",
    "\n",
    "\n",
    "## Q16(IDE's): 칼럼번호 57~69 - others\n",
    "df19_Jp_IDEs = pd.DataFrame()\n",
    "df19_Jp_IDEs['IDE\\'s'] = [df19_Jp[col][1:].value_counts().index[0] for col in df19_Jp.columns[56:68]]\n",
    "df19_Jp_IDEs['counts'] = [df19_Jp[col][1:].value_counts().values[0] for col in df19_Jp.columns[56:68]]\n",
    "\n",
    "\n",
    "df19_Ch_IDEs = pd.DataFrame()\n",
    "df19_Ch_IDEs['IDE\\'s'] = [df19_Ch[col][1:].value_counts().index[0] for col in df19_Ch.columns[56:68]]\n",
    "df19_Ch_IDEs['counts'] = [df19_Ch[col][1:].value_counts().values[0] for col in df19_Ch.columns[56:68]]\n",
    "\n",
    "\n",
    "\n",
    "df19_Jp_IDEs.insert(0, 'Country',  'China')\n",
    "df19_Ch_IDEs.insert(0, 'Country',  'Japan')\n",
    "\n",
    "df19_IDEs_JnC = pd.concat([df19_Jp_IDEs,df19_Ch_IDEs], ignore_index=True)"
   ]
  },
  {
   "cell_type": "code",
   "execution_count": null,
   "metadata": {},
   "outputs": [],
   "source": [
    "#df19_Ch = df19_ChJp[df19.Q3.isin([\"China\"])]\n",
    "#df19_Jp = df19_ChJp[df19.Q3.isin([\"Japan\"])]\n",
    "\n",
    "\n",
    "## Q16(IDE's): 칼럼번호 57~69 - others & other(text)\n",
    "df19_Jp_IDEs = pd.DataFrame()\n",
    "df19_Jp_IDEs['IDE\\'s'] = [df19_Jp[col][1:].value_counts().index[0] for col in df19_Jp.columns[56:67]]\n",
    "df19_Jp_IDEs['counts'] = [df19_Jp[col][1:].value_counts().values[0] for col in df19_Jp.columns[56:67]]\n",
    "\n",
    "\n",
    "df19_Ch_IDEs = pd.DataFrame()\n",
    "df19_Ch_IDEs['IDE\\'s'] = [df19_Ch[col][1:].value_counts().index[0] for col in df19_Ch.columns[56:67]]\n",
    "df19_Ch_IDEs['counts'] = [df19_Ch[col][1:].value_counts().values[0] for col in df19_Ch.columns[56:67]]\n",
    "\n",
    "\n",
    "\n",
    "df19_Jp_IDEs.insert(0, 'Country',  'China')\n",
    "df19_Ch_IDEs.insert(0, 'Country',  'Japan')\n",
    "\n",
    "df19_IDEs_JnC = pd.concat([df19_Jp_IDEs,df19_Ch_IDEs], ignore_index=True)"
   ]
  },
  {
   "cell_type": "markdown",
   "metadata": {},
   "source": [
    "### Split year{Country}"
   ]
  },
  {
   "cell_type": "code",
   "execution_count": null,
   "metadata": {},
   "outputs": [],
   "source": [
    "df21_IDEs_JnC.insert(0, 'year',  '2021')\n",
    "#df21_JCQ9.rename(columns={'Q9':'IDE'}, inplace = True)\n",
    "df19_IDEs_JnC.insert(0, 'year',  '2019')\n",
    "#df19_JCQ9.rename(columns={'Q16':'IDE'}, inplace = True)\n",
    "\n",
    "df_IDEs_JnC_21n19 = pd.concat([df21_IDEs_JnC,df19_IDEs_JnC], ignore_index=True)"
   ]
  },
  {
   "cell_type": "code",
   "execution_count": null,
   "metadata": {},
   "outputs": [],
   "source": [
    "print(df_IDEs_JnC_21n19)\n"
   ]
  },
  {
   "cell_type": "code",
   "execution_count": null,
   "metadata": {
    "scrolled": false
   },
   "outputs": [],
   "source": [
    "print(df_IDEs_JnC_21n19.replace('Jupyter (JupyterLab, Jupyter Notebooks, etc)', 'Jupyter'))"
   ]
  },
  {
   "cell_type": "markdown",
   "metadata": {},
   "source": [
    "IDE's 요소명 간랸화\n",
    "\n",
    "[pandas replace](https://pandas.pydata.org/docs/reference/api/pandas.DataFrame.replace.html)"
   ]
  },
  {
   "cell_type": "code",
   "execution_count": null,
   "metadata": {},
   "outputs": [],
   "source": [
    "#df_IDEs_JnC_21n19.replace('Jupyter (JupyterLab, Jupyter Notebooks, etc)', 'Jupyter', inplace = True)\n",
    "#df_IDEs_JnC_21n19.replace('Visual Studio / Visual Studio Code', 'VS / VSCode', inplace = True)\n",
    "#df_IDEs_JnC_21n19.replace(regex = 'Jupyter (JupyterLab, Jupyter Notebooks, etc) ', value = 'Jupyter', inplace = True)\n",
    "df_IDEs_JnC_21n19.replace(to_replace = 'Jupyter (JupyterLab, Jupyter Notebooks, etc) ', value = 'Jupyter', inplace = True)\n",
    "df_IDEs_JnC_21n19.replace(to_replace = 'Visual Studio / Visual Studio Code', value = 'VS / VSCode', inplace = True, regex = True)\n",
    "\n",
    "print(df_IDEs_JnC_21n19)"
   ]
  },
  {
   "cell_type": "code",
   "execution_count": null,
   "metadata": {},
   "outputs": [],
   "source": []
  },
  {
   "cell_type": "code",
   "execution_count": null,
   "metadata": {},
   "outputs": [],
   "source": [
    "print(df_IDEs_JnC_21n19.loc[0].tolist())"
   ]
  },
  {
   "cell_type": "code",
   "execution_count": null,
   "metadata": {
    "scrolled": false
   },
   "outputs": [],
   "source": [
    "fig = px.treemap(df_IDEs_JnC_21n19, path=[px.Constant(\"2019n2021\"),'year','IDE\\'s','Country'],\n",
    "                values='counts', color='Country',\n",
    "                  color_discrete_map={'(?)':'lightgrey', 'China':'gold', 'Japan':'darkblue'})\n",
    "\n",
    "fig.data[0].textinfo = 'label+percent parent+value'\n",
    "\n",
    "fig.update_layout(margin = dict(t=50, l=25, r=25, b=25))\n",
    "\n",
    "fig.show()"
   ]
  },
  {
   "cell_type": "code",
   "execution_count": null,
   "metadata": {},
   "outputs": [],
   "source": [
    "df_IDEs_JnC_21n19.to_csv(\"IDEs2.csv\", mode='w')"
   ]
  },
  {
   "cell_type": "code",
   "execution_count": null,
   "metadata": {},
   "outputs": [],
   "source": [
    "df_IDEs_JnC_21n19_comp = pd.read_csv(\"D:/_Bdata/Codding-base-Python/Python/Python-jupyter/Kaggle Survey - green 702_1/IDEsup.csv\")"
   ]
  },
  {
   "cell_type": "code",
   "execution_count": null,
   "metadata": {},
   "outputs": [],
   "source": [
    "fig = px.treemap(df_IDEs_JnC_21n19_comp, path=[px.Constant(\"2019n2021\"),'year','IDE\\'s','Country'],\n",
    "                values='counts', color='Country',\n",
    "                  color_discrete_map={'(?)':'lightgrey', 'China':'gold', 'Japan':'darkblue'})\n",
    "\n",
    "fig.data[0].textinfo = 'label+percent parent+value'\n",
    "\n",
    "fig.update_layout(margin = dict(t=50, l=25, r=25, b=25))\n",
    "\n",
    "fig.show()"
   ]
  },
  {
   "cell_type": "markdown",
   "metadata": {},
   "source": [
    "### 외부링크\n",
    "\n",
    " - [데이터프레임 합치기](https://yganalyst.github.io/data_handling/Pd_12/)\n",
    " - [행열 이름 변경](https://mizykk.tistory.com/131)\n",
    " - [pd insert](https://pandas.pydata.org/docs/reference/api/pandas.DataFrame.insert.html)\n",
    "     - [Ex1](https://www.delftstack.com/ko/howto/python-pandas/how-to-add-new-column-to-existing-dataframe-in-python-pandas/)\n",
    "     - [Ex2](https://m.blog.naver.com/PostView.naver?isHttpsRedirect=true&blogId=rising_n_falling&logNo=221631637822)"
   ]
  },
  {
   "cell_type": "markdown",
   "metadata": {},
   "source": [
    "## ML(machine learning) frameworks"
   ]
  },
  {
   "cell_type": "code",
   "execution_count": null,
   "metadata": {},
   "outputs": [],
   "source": [
    "df21_ChJp = df21[df21.Q3.isin([\"Japan\",\"China\"])]\n",
    "\n",
    "df21_ChJp_total_ML = pd.DataFrame()\n",
    "df21_ChJp_total_ML['ML'] = [df21_ChJp[col][1:].value_counts().index[0] for col in df21_ChJp.columns[72:91]]\n",
    "df21_ChJp_total_ML['counts'] = [df21_ChJp[col][1:].value_counts().values[0] for col in df21_ChJp.columns[72:91]]"
   ]
  },
  {
   "cell_type": "code",
   "execution_count": null,
   "metadata": {},
   "outputs": [],
   "source": [
    "fig = px.treemap(df21_ChJp_total_ML, path=[px.Constant(\"2021: Jp+Ch\"),'ML'],\n",
    "                values='counts', color='counts')\n",
    "\n",
    "fig.data[0].textinfo = 'label+percent parent'\n",
    "\n",
    "fig.show()"
   ]
  },
  {
   "cell_type": "code",
   "execution_count": null,
   "metadata": {},
   "outputs": [],
   "source": [
    "df19_ChJp = df19[df19.Q3.isin([\"Japan\",\"China\"])]\n",
    "\n",
    "df19_ChJp_total_ML = pd.DataFrame()\n",
    "df19_ChJp_total_ML['ML'] = [df19_ChJp[col][1:].value_counts().index[0] for col in df19_ChJp.columns[155:168]]\n",
    "df19_ChJp_total_ML['counts'] = [df19_ChJp[col][1:].value_counts().values[0] for col in df19_ChJp.columns[155:168]]"
   ]
  },
  {
   "cell_type": "code",
   "execution_count": null,
   "metadata": {},
   "outputs": [],
   "source": [
    "fig = px.treemap(df19_ChJp_total_ML, path=[px.Constant(\"2019: Jp+Ch\"),'ML'],\n",
    "                values='counts', color='counts')\n",
    "\n",
    "fig.data[0].textinfo = 'label+percent parent'\n",
    "\n",
    "fig.show()"
   ]
  },
  {
   "cell_type": "code",
   "execution_count": null,
   "metadata": {},
   "outputs": [],
   "source": []
  }
 ],
 "metadata": {
  "kernelspec": {
   "display_name": "Python 3",
   "language": "python",
   "name": "python3"
  },
  "language_info": {
   "codemirror_mode": {
    "name": "ipython",
    "version": 3
   },
   "file_extension": ".py",
   "mimetype": "text/x-python",
   "name": "python",
   "nbconvert_exporter": "python",
   "pygments_lexer": "ipython3",
   "version": "3.8.8"
  }
 },
 "nbformat": 4,
 "nbformat_minor": 4
}
