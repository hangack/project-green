{
 "cells": [
  {
   "cell_type": "markdown",
   "metadata": {},
   "source": [
    "# Kaggle_Survey00 data type Warning [pandas]"
   ]
  },
  {
   "cell_type": "markdown",
   "metadata": {},
   "source": [
    "## import 모듈"
   ]
  },
  {
   "cell_type": "code",
   "execution_count": 1,
   "metadata": {
    "execution": {
     "iopub.execute_input": "2021-11-16T02:32:23.233348Z",
     "iopub.status.busy": "2021-11-16T02:32:23.232587Z",
     "iopub.status.idle": "2021-11-16T02:32:24.809451Z",
     "shell.execute_reply": "2021-11-16T02:32:24.808742Z",
     "shell.execute_reply.started": "2021-11-16T02:32:23.233308Z"
    }
   },
   "outputs": [],
   "source": [
    "import pandas as pd"
   ]
  },
  {
   "cell_type": "markdown",
   "metadata": {},
   "source": [
    "## data"
   ]
  },
  {
   "cell_type": "code",
   "execution_count": 2,
   "metadata": {
    "execution": {
     "iopub.execute_input": "2021-11-16T03:01:13.831628Z",
     "iopub.status.busy": "2021-11-16T03:01:13.831361Z",
     "iopub.status.idle": "2021-11-16T03:01:15.564199Z",
     "shell.execute_reply": "2021-11-16T03:01:15.563355Z",
     "shell.execute_reply.started": "2021-11-16T03:01:13.831601Z"
    }
   },
   "outputs": [
    {
     "name": "stderr",
     "output_type": "stream",
     "text": [
      "E:\\Sadness\\anaconda3\\lib\\site-packages\\IPython\\core\\interactiveshell.py:3165: DtypeWarning: Columns (0,195,201,285,286,287,288,289,290,291,292) have mixed types.Specify dtype option on import or set low_memory=False.\n",
      "  has_raised = await self.run_ast_nodes(code_ast.body, cell_name,\n"
     ]
    }
   ],
   "source": [
    "#df = pd.read_csv(\"D:/_Bdata/Codding-base-Python/Python/Python-jupyter/Kaggle Survey - 2021 Analysis - Plotly/kaggle_survey_2021_responses.csv\")\n",
    "\n",
    "df = pd.read_csv(\"E:/Fear/Univ/Big_data/Training/Github/Codding-base-Python/Python/Python-jupyter/Kaggle Survey - 2021 Analysis - Plotly/kaggle_survey_2021_responses.csv\")\n",
    "\n",
    "#df = pd.read_csv(\"../input/kaggle-survey-2021/kaggle_survey_2021_responses.csv\")"
   ]
  },
  {
   "cell_type": "markdown",
   "metadata": {},
   "source": [
    "cvs data를 불러오는데 위와 같이 DtypeWarning 이라는 경고가 출력되었다."
   ]
  },
  {
   "cell_type": "markdown",
   "metadata": {},
   "source": [
    "## DtypeWarning 해결하기"
   ]
  },
  {
   "cell_type": "markdown",
   "metadata": {},
   "source": [
    "### filterwarnings\n",
    "경고 그 자체가 원하는 작업은 아니지만 문제가 발생하지 않는 이상 user는 경고를 무시해도 상관없다.\n",
    "\n",
    "추천하는 방식은 아니지만 거슬리다면 warnings의 경고 필터 ignore를 사용해 경고 출력을 무시할 수 있다."
   ]
  },
  {
   "cell_type": "code",
   "execution_count": null,
   "metadata": {},
   "outputs": [],
   "source": [
    "from warnings import filterwarnings\n",
    "filterwarnings('ignore')"
   ]
  },
  {
   "cell_type": "markdown",
   "metadata": {},
   "source": [
    "### low_memory\n",
    "\n",
    "하지만 근본적인 해결은 아니므로 terminal이 제안한 대로 low_memory=False 를 넣어 해결할 수 있다."
   ]
  },
  {
   "cell_type": "code",
   "execution_count": null,
   "metadata": {},
   "outputs": [],
   "source": [
    "df21 = pd.read_csv(\"csv url\", low_memory=False)"
   ]
  },
  {
   "cell_type": "markdown",
   "metadata": {},
   "source": [
    "위 방식은 각 column마다 data type을 추측하는 방식으로 옵션명(낮은 메모리)처럼 작업량이 data 크기에 비례해 증가한다.\n",
    "\n",
    "방대한 데이터를 처리해야되서 Dtype 추측 방식이 부담된다면?"
   ]
  },
  {
   "cell_type": "markdown",
   "metadata": {},
   "source": [
    "### dtype 지정\n",
    "\n",
    "불러올 csv의 형식을 알고 있다면 dtype을 지정한다면 warning이 발생하지 않고 memory 가용량도 줄일 수 있다."
   ]
  },
  {
   "cell_type": "code",
   "execution_count": null,
   "metadata": {},
   "outputs": [],
   "source": [
    "df21 = pd.read_csv(\"csv url\", dtype='unicode')"
   ]
  },
  {
   "cell_type": "markdown",
   "metadata": {},
   "source": [
    "### 외부링크\n",
    " - [warnings — 경고 제어](https://docs.python.org/ko/3/library/warnings.html)\n",
    " - [DataFrame의 칼럼](https://wikidocs.net/46751)"
   ]
  }
 ],
 "metadata": {
  "kernelspec": {
   "display_name": "Python 3",
   "language": "python",
   "name": "python3"
  },
  "language_info": {
   "codemirror_mode": {
    "name": "ipython",
    "version": 3
   },
   "file_extension": ".py",
   "mimetype": "text/x-python",
   "name": "python",
   "nbconvert_exporter": "python",
   "pygments_lexer": "ipython3",
   "version": "3.8.8"
  }
 },
 "nbformat": 4,
 "nbformat_minor": 4
}
